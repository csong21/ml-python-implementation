{
 "cells": [
  {
   "cell_type": "markdown",
   "metadata": {},
   "source": [
    "# Support Vector Machine"
   ]
  },
  {
   "cell_type": "code",
   "execution_count": 1,
   "metadata": {},
   "outputs": [],
   "source": [
    "import numpy as np\n",
    "import math\n",
    "import pandas as pd\n",
    "import seaborn as sns\n",
    "import numpy.linalg as la\n",
    "import scipy.optimize as op\n",
    "from scipy.stats import norm\n",
    "from scipy.io import loadmat\n",
    "from scipy.optimize import minimize\n",
    "from matplotlib import pyplot as plt"
   ]
  },
  {
   "cell_type": "markdown",
   "metadata": {},
   "source": [
    "## Load and Plot data"
   ]
  },
  {
   "cell_type": "code",
   "execution_count": 2,
   "metadata": {},
   "outputs": [
    {
     "name": "stdout",
     "output_type": "stream",
     "text": [
      "data keys: dict_keys(['__header__', '__version__', '__globals__', 'X', 'y'])\n",
      "X.shape: (51, 2)\n",
      "y.shape: (51, 1)\n"
     ]
    }
   ],
   "source": [
    "matdata = loadmat('data/ex6data1.mat')\n",
    "print('data keys:', matdata.keys())\n",
    "X = matdata['X']\n",
    "y = matdata['y']\n",
    "\n",
    "print('X.shape:', X.shape)\n",
    "print('y.shape:', y.shape)"
   ]
  },
  {
   "cell_type": "code",
   "execution_count": 3,
   "metadata": {},
   "outputs": [
    {
     "data": {
      "text/plain": [
       "Text(0, 0.5, 'Throughput (mb/s)')"
      ]
     },
     "execution_count": 3,
     "metadata": {},
     "output_type": "execute_result"
    },
    {
     "data": {
      "image/png": "[encoded data removed]",
      "text/plain": [
       "<Figure size 432x288 with 1 Axes>"
      ]
     },
     "metadata": {
      "needs_background": "light"
     },
     "output_type": "display_data"
    }
   ],
   "source": [
    "# Visualize the example dataset\n",
    "mask= (y==1).squeeze()\n",
    "plt.plot(X[mask][:,0], X[mask][:,1], '+', markersize=6, color = 'green')\n",
    "plt.plot(X[~mask][:,0], X[~mask][:,1], 'bo', markersize=3, color = 'blue')\n",
    "plt.xlabel('Latency (ms)')\n",
    "plt.ylabel('Throughput (mb/s)')"
   ]
  },
  {
   "cell_type": "markdown",
   "metadata": {},
   "source": [
    "## Linear Kernal"
   ]
  },
  {
   "cell_type": "code",
   "execution_count": 69,
   "metadata": {},
   "outputs": [],
   "source": [
    "from libsvm.svmutil import *"
   ]
  },
  {
   "cell_type": "code",
   "execution_count": 79,
   "metadata": {},
   "outputs": [],
   "source": [
    "prob  = svm_problem(y.squeeze(), X.squeeze())"
   ]
  },
  {
   "cell_type": "code",
   "execution_count": 85,
   "metadata": {},
   "outputs": [
    {
     "name": "stdout",
     "output_type": "stream",
     "text": [
      "Accuracy = 98.0392% (50/51) (classification)\n"
     ]
    }
   ],
   "source": [
    "param = svm_parameter('-t 0 -c 4 -b 1')\n",
    "m = svm_train(prob, param)\n",
    "p_label, p_acc, p_val = svm_predict(y.squeeze(), X.squeeze(), m, '-b 1')\n",
    "ACC, MSE, SCC = evaluations(y, p_label)"
   ]
  },
  {
   "cell_type": "code",
   "execution_count": 94,
   "metadata": {},
   "outputs": [
    {
     "name": "stdout",
     "output_type": "stream",
     "text": [
      "Accuracy = 100% (51/51) (classification)\n"
     ]
    }
   ],
   "source": [
    "param2 = svm_parameter('-t 0 -c 100 -b 1')\n",
    "m2 = svm_train(prob, param2)\n",
    "p_label, p_acc, p_val = svm_predict(y.squeeze(), X.squeeze(), m2, '-b 1')\n",
    "ACC, MSE, SCC = evaluations(y, p_label)"
   ]
  },
  {
   "cell_type": "markdown",
   "metadata": {},
   "source": [
    "## Gaussian Kernal"
   ]
  },
  {
   "cell_type": "code",
   "execution_count": 198,
   "metadata": {},
   "outputs": [
    {
     "name": "stdout",
     "output_type": "stream",
     "text": [
      "data keys: dict_keys(['__header__', '__version__', '__globals__', 'X', 'y'])\n",
      "X2.shape: (863, 2)\n",
      "y2.shape: (863, 1)\n"
     ]
    }
   ],
   "source": [
    "matdata2 = loadmat('machine-learning-ex6/ex6/ex6data2.mat')\n",
    "print('data keys:', matdata2.keys())\n",
    "X2 = matdata2['X']\n",
    "y2 = matdata2['y']\n",
    "\n",
    "print('X2.shape:', X2.shape)\n",
    "print('y2.shape:', y2.shape)"
   ]
  },
  {
   "cell_type": "code",
   "execution_count": 199,
   "metadata": {},
   "outputs": [
    {
     "data": {
      "text/plain": [
       "[<matplotlib.lines.Line2D at 0x130c46b00>]"
      ]
     },
     "execution_count": 199,
     "metadata": {},
     "output_type": "execute_result"
    },
    {
     "data": {
      "image/png": "[encoded data removed]",
      "text/plain": [
       "<Figure size 432x288 with 1 Axes>"
      ]
     },
     "metadata": {
      "needs_background": "light"
     },
     "output_type": "display_data"
    }
   ],
   "source": [
    "# Visualize the example dataset\n",
    "mask= (y2==1).squeeze()\n",
    "plt.plot(X2[mask][:,0], X2[mask][:,1], '+', markersize=6, color = 'green')\n",
    "plt.plot(X2[~mask][:,0], X2[~mask][:,1], 'bo', markersize=3, color = 'blue')"
   ]
  },
  {
   "cell_type": "code",
   "execution_count": 268,
   "metadata": {},
   "outputs": [
    {
     "name": "stdout",
     "output_type": "stream",
     "text": [
      "Accuracy = 100% (863/863) (classification)\n"
     ]
    }
   ],
   "source": [
    "prob_2  = svm_problem(y2.squeeze(), X2.squeeze())\n",
    "param_2 = svm_parameter('-t 2 -c 100000 -g 10 -b 1')\n",
    "m_2 = svm_train(prob_2, param_2)\n",
    "p_label, p_acc, p_val = svm_predict(y2.squeeze(), X2.squeeze(), m_2, '-b 1')\n",
    "ACC, MSE, SCC = evaluations(y2, p_label)"
   ]
  },
  {
   "cell_type": "code",
   "execution_count": 269,
   "metadata": {},
   "outputs": [
    {
     "data": {
      "text/plain": [
       "(863, 2)"
      ]
     },
     "execution_count": 269,
     "metadata": {},
     "output_type": "execute_result"
    }
   ],
   "source": [
    "X2.squeeze().shape"
   ]
  },
  {
   "cell_type": "code",
   "execution_count": 270,
   "metadata": {},
   "outputs": [
    {
     "data": {
      "text/plain": [
       "(863,)"
      ]
     },
     "execution_count": 270,
     "metadata": {},
     "output_type": "execute_result"
    }
   ],
   "source": [
    "y2.squeeze().shape"
   ]
  },
  {
   "cell_type": "code",
   "execution_count": 271,
   "metadata": {},
   "outputs": [
    {
     "data": {
      "text/plain": [
       "863"
      ]
     },
     "execution_count": 271,
     "metadata": {},
     "output_type": "execute_result"
    }
   ],
   "source": [
    "len(p_label)"
   ]
  },
  {
   "cell_type": "code",
   "execution_count": 272,
   "metadata": {},
   "outputs": [
    {
     "name": "stdout",
     "output_type": "stream",
     "text": [
      "Help on function svm_train in module libsvm.svmutil:\n",
      "\n",
      "svm_train(arg1, arg2=None, arg3=None)\n",
      "    svm_train(y, x [, options]) -> model | ACC | MSE\n",
      "    \n",
      "    y: a list/tuple/ndarray of l true labels (type must be int/double).\n",
      "    \n",
      "    x: 1. a list/tuple of l training instances. Feature vector of\n",
      "          each training instance is a list/tuple or dictionary.\n",
      "    \n",
      "       2. an l * n numpy ndarray or scipy spmatrix (n: number of features).\n",
      "    \n",
      "    svm_train(prob [, options]) -> model | ACC | MSE\n",
      "    svm_train(prob, param) -> model | ACC| MSE\n",
      "    \n",
      "    Train an SVM model from data (y, x) or an svm_problem prob using\n",
      "    'options' or an svm_parameter param.\n",
      "    If '-v' is specified in 'options' (i.e., cross validation)\n",
      "    either accuracy (ACC) or mean-squared error (MSE) is returned.\n",
      "    options:\n",
      "        -s svm_type : set type of SVM (default 0)\n",
      "            0 -- C-SVC              (multi-class classification)\n",
      "            1 -- nu-SVC             (multi-class classification)\n",
      "            2 -- one-class SVM\n",
      "            3 -- epsilon-SVR        (regression)\n",
      "            4 -- nu-SVR             (regression)\n",
      "        -t kernel_type : set type of kernel function (default 2)\n",
      "            0 -- linear: u'*v\n",
      "            1 -- polynomial: (gamma*u'*v + coef0)^degree\n",
      "            2 -- radial basis function: exp(-gamma*|u-v|^2)\n",
      "            3 -- sigmoid: tanh(gamma*u'*v + coef0)\n",
      "            4 -- precomputed kernel (kernel values in training_set_file)\n",
      "        -d degree : set degree in kernel function (default 3)\n",
      "        -g gamma : set gamma in kernel function (default 1/num_features)\n",
      "        -r coef0 : set coef0 in kernel function (default 0)\n",
      "        -c cost : set the parameter C of C-SVC, epsilon-SVR, and nu-SVR (default 1)\n",
      "        -n nu : set the parameter nu of nu-SVC, one-class SVM, and nu-SVR (default 0.5)\n",
      "        -p epsilon : set the epsilon in loss function of epsilon-SVR (default 0.1)\n",
      "        -m cachesize : set cache memory size in MB (default 100)\n",
      "        -e epsilon : set tolerance of termination criterion (default 0.001)\n",
      "        -h shrinking : whether to use the shrinking heuristics, 0 or 1 (default 1)\n",
      "        -b probability_estimates : whether to train a SVC or SVR model for probability estimates, 0 or 1 (default 0)\n",
      "        -wi weight : set the parameter C of class i to weight*C, for C-SVC (default 1)\n",
      "        -v n: n-fold cross validation mode\n",
      "        -q : quiet mode (no outputs)\n",
      "\n"
     ]
    }
   ],
   "source": [
    "help(svm_train)"
   ]
  },
  {
   "cell_type": "markdown",
   "metadata": {},
   "source": [
    "## Visualize Boundary"
   ]
  },
  {
   "cell_type": "code",
   "execution_count": 273,
   "metadata": {},
   "outputs": [
    {
     "data": {
      "image/png": "[encoded data removed]",
      "text/plain": [
       "<Figure size 432x288 with 1 Axes>"
      ]
     },
     "metadata": {
      "needs_background": "light"
     },
     "output_type": "display_data"
    }
   ],
   "source": [
    "# Visualize(X, y, model) boundary learned by the SVM and overlays the data on it\n",
    "\n",
    "# Plot the training data on top of the boundary\n",
    "mask= (y2==1).squeeze()\n",
    "plt.plot(X2[mask][:,0], X2[mask][:,1], '+', markersize=6, color = 'green')\n",
    "plt.plot(X2[~mask][:,0], X2[~mask][:,1], 'bo', markersize=3, color = 'blue')\n",
    "\n",
    "\n",
    "x1plot = np.linspace(min(X2[:,0]), max(X2[:,0]), 100)\n",
    "x2plot = np.linspace(min(X2[:,1]), max(X2[:,1]), 100)\n",
    "XX1, XX2 = np.meshgrid(x1plot, x2plot)"
   ]
  },
  {
   "cell_type": "code",
   "execution_count": 274,
   "metadata": {},
   "outputs": [
    {
     "data": {
      "text/plain": [
       "array([[0.402632  , 0.402632  , 0.402632  , ..., 0.402632  , 0.402632  ,\n",
       "        0.402632  ],\n",
       "       [0.40855083, 0.40855083, 0.40855083, ..., 0.40855083, 0.40855083,\n",
       "        0.40855083],\n",
       "       [0.41446966, 0.41446966, 0.41446966, ..., 0.41446966, 0.41446966,\n",
       "        0.41446966],\n",
       "       ...,\n",
       "       [0.97675834, 0.97675834, 0.97675834, ..., 0.97675834, 0.97675834,\n",
       "        0.97675834],\n",
       "       [0.98267717, 0.98267717, 0.98267717, ..., 0.98267717, 0.98267717,\n",
       "        0.98267717],\n",
       "       [0.988596  , 0.988596  , 0.988596  , ..., 0.988596  , 0.988596  ,\n",
       "        0.988596  ]])"
      ]
     },
     "execution_count": 274,
     "metadata": {},
     "output_type": "execute_result"
    }
   ],
   "source": [
    "XX2"
   ]
  },
  {
   "cell_type": "code",
   "execution_count": 275,
   "metadata": {},
   "outputs": [],
   "source": [
    "XY = np.dstack((XX1, XX2))\n",
    "XY = XY.reshape(100*100, 2)"
   ]
  },
  {
   "cell_type": "code",
   "execution_count": 276,
   "metadata": {},
   "outputs": [
    {
     "data": {
      "text/plain": [
       "<matplotlib.axes._subplots.AxesSubplot at 0x1350efa20>"
      ]
     },
     "execution_count": 276,
     "metadata": {},
     "output_type": "execute_result"
    },
    {
     "data": {
      "image/png": "[encoded data removed]",
      "text/plain": [
       "<Figure size 432x288 with 1 Axes>"
      ]
     },
     "metadata": {
      "needs_background": "light"
     },
     "output_type": "display_data"
    }
   ],
   "source": [
    "sns.distplot(XY[:, 0])"
   ]
  },
  {
   "cell_type": "code",
   "execution_count": 277,
   "metadata": {},
   "outputs": [
    {
     "data": {
      "text/plain": [
       "<matplotlib.axes._subplots.AxesSubplot at 0x134927c50>"
      ]
     },
     "execution_count": 277,
     "metadata": {},
     "output_type": "execute_result"
    },
    {
     "data": {
      "image/png": "[encoded data removed]",
      "text/plain": [
       "<Figure size 432x288 with 1 Axes>"
      ]
     },
     "metadata": {
      "needs_background": "light"
     },
     "output_type": "display_data"
    }
   ],
   "source": [
    "sns.distplot(XY[:, 1])"
   ]
  },
  {
   "cell_type": "code",
   "execution_count": 278,
   "metadata": {},
   "outputs": [
    {
     "name": "stdout",
     "output_type": "stream",
     "text": [
      "Accuracy = 41.47% (4147/10000) (classification)\n",
      "863\n"
     ]
    },
    {
     "data": {
      "image/png": "[encoded data removed]",
      "text/plain": [
       "<Figure size 432x288 with 1 Axes>"
      ]
     },
     "metadata": {
      "needs_background": "light"
     },
     "output_type": "display_data"
    }
   ],
   "source": [
    "vals = np.zeros(XX1.shape)\n",
    "zp_label, p_acc, p_vals= svm_predict([], XY, m_2, '-b 1')\n",
    "zp_label = np.array(zp_label)\n",
    "zp_label = zp_label.reshape(100, 100)\n",
    "print(len(p_label))\n",
    "plt.plot(X2[mask][:,0], X2[mask][:,1], '+', markersize=6, color = 'green')\n",
    "plt.plot(X2[~mask][:,0], X2[~mask][:,1], 'bo', markersize=3, color = 'blue')\n",
    "\n",
    "h = plt.contour(XX1, XX2, zp_label)\n",
    "plt.show()\n",
    "\n",
    "\n",
    "#contour(X1, X2, vals, [0.5 0.5], 'b');\n"
   ]
  },
  {
   "cell_type": "code",
   "execution_count": 177,
   "metadata": {},
   "outputs": [
    {
     "name": "stderr",
     "output_type": "stream",
     "text": [
      "/Users/juersong/miniconda3/lib/python3.7/site-packages/seaborn/distributions.py:288: UserWarning: Data must have variance to compute a kernel density estimate.\n",
      "  warnings.warn(msg, UserWarning)\n"
     ]
    },
    {
     "data": {
      "text/plain": [
       "<matplotlib.axes._subplots.AxesSubplot at 0x130db8e10>"
      ]
     },
     "execution_count": 177,
     "metadata": {},
     "output_type": "execute_result"
    },
    {
     "data": {
      "image/png": "[encoded data removed]",
      "text/plain": [
       "<Figure size 432x288 with 1 Axes>"
      ]
     },
     "metadata": {
      "needs_background": "light"
     },
     "output_type": "display_data"
    }
   ],
   "source": [
    "sns.distplot(zp_label)"
   ]
  },
  {
   "cell_type": "markdown",
   "metadata": {},
   "source": [
    "## CV"
   ]
  },
  {
   "cell_type": "code",
   "execution_count": 282,
   "metadata": {},
   "outputs": [
    {
     "name": "stdout",
     "output_type": "stream",
     "text": [
      "data keys: dict_keys(['__header__', '__version__', '__globals__', 'X', 'y', 'yval', 'Xval'])\n",
      "X.shape: (863, 2)\n",
      "y.shape: (863, 1)\n",
      "Xval.shape: (200, 2)\n",
      "yval.shape: (200, 1)\n"
     ]
    }
   ],
   "source": [
    "matdata3 = loadmat('machine-learning-ex6/ex6/ex6data3.mat')\n",
    "print('data keys:', matdata3.keys())\n",
    "X = matdata3['X']\n",
    "y = matdata3['y']\n",
    "Xval = matdata3['Xval']\n",
    "yval = matdata3['yval']\n",
    "\n",
    "\n",
    "print('X.shape:', X2.shape)\n",
    "print('y.shape:', y2.shape)\n",
    "print('Xval.shape:', Xval.shape)\n",
    "print('yval.shape:', yval.shape)"
   ]
  },
  {
   "cell_type": "code",
   "execution_count": 283,
   "metadata": {},
   "outputs": [
    {
     "data": {
      "text/plain": [
       "[<matplotlib.lines.Line2D at 0x1351cbe48>]"
      ]
     },
     "execution_count": 283,
     "metadata": {},
     "output_type": "execute_result"
    },
    {
     "data": {
      "image/png": "[encoded data removed]",
      "text/plain": [
       "<Figure size 432x288 with 1 Axes>"
      ]
     },
     "metadata": {
      "needs_background": "light"
     },
     "output_type": "display_data"
    }
   ],
   "source": [
    "# Plot the training data on top of the boundary\n",
    "mask= (y==1).squeeze()\n",
    "plt.plot(X[mask][:,0], X[mask][:,1], '+', markersize=6, color = 'green')\n",
    "plt.plot(X[~mask][:,0], X[~mask][:,1], 'bo', markersize=3, color = 'blue')"
   ]
  },
  {
   "cell_type": "code",
   "execution_count": 313,
   "metadata": {},
   "outputs": [],
   "source": [
    "prob  = svm_problem(y.squeeze(), X.squeeze())"
   ]
  },
  {
   "cell_type": "code",
   "execution_count": 316,
   "metadata": {},
   "outputs": [
    {
     "name": "stdout",
     "output_type": "stream",
     "text": [
      "-t 2 -c 0.031250 -g 0.031250 -b 1\n",
      "Accuracy = 56.5% (113/200) (classification)\n",
      "-t 2 -c 0.031250 -g 0.062500 -b 1\n",
      "Accuracy = 56.5% (113/200) (classification)\n",
      "-t 2 -c 0.031250 -g 0.125000 -b 1\n",
      "Accuracy = 56.5% (113/200) (classification)\n",
      "-t 2 -c 0.031250 -g 0.250000 -b 1\n",
      "Accuracy = 43.5% (87/200) (classification)\n",
      "-t 2 -c 0.031250 -g 0.500000 -b 1\n",
      "Accuracy = 70% (140/200) (classification)\n",
      "-t 2 -c 0.031250 -g 1.000000 -b 1\n",
      "Accuracy = 82% (164/200) (classification)\n",
      "-t 2 -c 0.031250 -g 2.000000 -b 1\n",
      "Accuracy = 83% (166/200) (classification)\n",
      "-t 2 -c 0.031250 -g 4.000000 -b 1\n",
      "Accuracy = 85% (170/200) (classification)\n",
      "-t 2 -c 0.031250 -g 8.000000 -b 1\n",
      "Accuracy = 89.5% (179/200) (classification)\n",
      "-t 2 -c 0.031250 -g 16.000000 -b 1\n",
      "Accuracy = 91% (182/200) (classification)\n",
      "-t 2 -c 0.031250 -g 32.000000 -b 1\n",
      "Accuracy = 78% (156/200) (classification)\n",
      "-t 2 -c 0.031250 -g 64.000000 -b 1\n",
      "Accuracy = 43.5% (87/200) (classification)\n",
      "-t 2 -c 0.031250 -g 128.000000 -b 1\n",
      "Accuracy = 56.5% (113/200) (classification)\n",
      "-t 2 -c 0.031250 -g 256.000000 -b 1\n",
      "Accuracy = 56.5% (113/200) (classification)\n",
      "-t 2 -c 0.031250 -g 512.000000 -b 1\n",
      "Accuracy = 56.5% (113/200) (classification)\n",
      "-t 2 -c 0.031250 -g 1024.000000 -b 1\n",
      "Accuracy = 56.5% (113/200) (classification)\n",
      "-t 2 -c 0.031250 -g 2048.000000 -b 1\n",
      "Accuracy = 56.5% (113/200) (classification)\n",
      "-t 2 -c 0.031250 -g 4096.000000 -b 1\n",
      "Accuracy = 56.5% (113/200) (classification)\n",
      "-t 2 -c 0.031250 -g 8192.000000 -b 1\n",
      "Accuracy = 56.5% (113/200) (classification)\n",
      "-t 2 -c 0.031250 -g 16384.000000 -b 1\n",
      "Accuracy = 56.5% (113/200) (classification)\n",
      "-t 2 -c 0.062500 -g 0.031250 -b 1\n",
      "Accuracy = 56.5% (113/200) (classification)\n",
      "-t 2 -c 0.062500 -g 0.062500 -b 1\n",
      "Accuracy = 56.5% (113/200) (classification)\n",
      "-t 2 -c 0.062500 -g 0.125000 -b 1\n",
      "Accuracy = 56.5% (113/200) (classification)\n",
      "-t 2 -c 0.062500 -g 0.250000 -b 1\n",
      "Accuracy = 66% (132/200) (classification)\n",
      "-t 2 -c 0.062500 -g 0.500000 -b 1\n",
      "Accuracy = 81.5% (163/200) (classification)\n",
      "-t 2 -c 0.062500 -g 1.000000 -b 1\n",
      "Accuracy = 83.5% (167/200) (classification)\n",
      "-t 2 -c 0.062500 -g 2.000000 -b 1\n",
      "Accuracy = 85% (170/200) (classification)\n",
      "-t 2 -c 0.062500 -g 4.000000 -b 1\n",
      "Accuracy = 88.5% (177/200) (classification)\n",
      "-t 2 -c 0.062500 -g 8.000000 -b 1\n",
      "Accuracy = 91% (182/200) (classification)\n",
      "-t 2 -c 0.062500 -g 16.000000 -b 1\n",
      "Accuracy = 93% (186/200) (classification)\n",
      "-t 2 -c 0.062500 -g 32.000000 -b 1\n",
      "Accuracy = 94% (188/200) (classification)\n",
      "-t 2 -c 0.062500 -g 64.000000 -b 1\n",
      "Accuracy = 81% (162/200) (classification)\n",
      "-t 2 -c 0.062500 -g 128.000000 -b 1\n",
      "Accuracy = 43.5% (87/200) (classification)\n",
      "-t 2 -c 0.062500 -g 256.000000 -b 1\n",
      "Accuracy = 43.5% (87/200) (classification)\n",
      "-t 2 -c 0.062500 -g 512.000000 -b 1\n",
      "Accuracy = 56.5% (113/200) (classification)\n",
      "-t 2 -c 0.062500 -g 1024.000000 -b 1\n",
      "Accuracy = 56.5% (113/200) (classification)\n",
      "-t 2 -c 0.062500 -g 2048.000000 -b 1\n",
      "Accuracy = 56.5% (113/200) (classification)\n",
      "-t 2 -c 0.062500 -g 4096.000000 -b 1\n",
      "Accuracy = 56.5% (113/200) (classification)\n",
      "-t 2 -c 0.062500 -g 8192.000000 -b 1\n",
      "Accuracy = 56.5% (113/200) (classification)\n",
      "-t 2 -c 0.062500 -g 16384.000000 -b 1\n",
      "Accuracy = 56.5% (113/200) (classification)\n",
      "-t 2 -c 0.125000 -g 0.031250 -b 1\n",
      "Accuracy = 43.5% (87/200) (classification)\n",
      "-t 2 -c 0.125000 -g 0.062500 -b 1\n",
      "Accuracy = 56.5% (113/200) (classification)\n",
      "-t 2 -c 0.125000 -g 0.125000 -b 1\n",
      "Accuracy = 74% (148/200) (classification)\n",
      "-t 2 -c 0.125000 -g 0.250000 -b 1\n",
      "Accuracy = 82% (164/200) (classification)\n",
      "-t 2 -c 0.125000 -g 0.500000 -b 1\n",
      "Accuracy = 83.5% (167/200) (classification)\n",
      "-t 2 -c 0.125000 -g 1.000000 -b 1\n",
      "Accuracy = 88% (176/200) (classification)\n",
      "-t 2 -c 0.125000 -g 2.000000 -b 1\n",
      "Accuracy = 90% (180/200) (classification)\n",
      "-t 2 -c 0.125000 -g 4.000000 -b 1\n",
      "Accuracy = 91% (182/200) (classification)\n",
      "-t 2 -c 0.125000 -g 8.000000 -b 1\n",
      "Accuracy = 93.5% (187/200) (classification)\n",
      "-t 2 -c 0.125000 -g 16.000000 -b 1\n",
      "Accuracy = 94.5% (189/200) (classification)\n",
      "-t 2 -c 0.125000 -g 32.000000 -b 1\n",
      "Accuracy = 95.5% (191/200) (classification)\n",
      "-t 2 -c 0.125000 -g 64.000000 -b 1\n",
      "Accuracy = 94.5% (189/200) (classification)\n",
      "-t 2 -c 0.125000 -g 128.000000 -b 1\n",
      "Accuracy = 92.5% (185/200) (classification)\n",
      "-t 2 -c 0.125000 -g 256.000000 -b 1\n",
      "Accuracy = 57.5% (115/200) (classification)\n",
      "-t 2 -c 0.125000 -g 512.000000 -b 1\n",
      "Accuracy = 55.5% (111/200) (classification)\n",
      "-t 2 -c 0.125000 -g 1024.000000 -b 1\n",
      "Accuracy = 56.5% (113/200) (classification)\n",
      "-t 2 -c 0.125000 -g 2048.000000 -b 1\n",
      "Accuracy = 56.5% (113/200) (classification)\n",
      "-t 2 -c 0.125000 -g 4096.000000 -b 1\n",
      "Accuracy = 56.5% (113/200) (classification)\n",
      "-t 2 -c 0.125000 -g 8192.000000 -b 1\n",
      "Accuracy = 56.5% (113/200) (classification)\n",
      "-t 2 -c 0.125000 -g 16384.000000 -b 1\n",
      "Accuracy = 56.5% (113/200) (classification)\n",
      "-t 2 -c 0.250000 -g 0.031250 -b 1\n",
      "Accuracy = 41.5% (83/200) (classification)\n",
      "-t 2 -c 0.250000 -g 0.062500 -b 1\n",
      "Accuracy = 77% (154/200) (classification)\n",
      "-t 2 -c 0.250000 -g 0.125000 -b 1\n",
      "Accuracy = 82.5% (165/200) (classification)\n",
      "-t 2 -c 0.250000 -g 0.250000 -b 1\n",
      "Accuracy = 85% (170/200) (classification)\n",
      "-t 2 -c 0.250000 -g 0.500000 -b 1\n",
      "Accuracy = 88.5% (177/200) (classification)\n",
      "-t 2 -c 0.250000 -g 1.000000 -b 1\n",
      "Accuracy = 90.5% (181/200) (classification)\n",
      "-t 2 -c 0.250000 -g 2.000000 -b 1\n",
      "Accuracy = 92% (184/200) (classification)\n",
      "-t 2 -c 0.250000 -g 4.000000 -b 1\n",
      "Accuracy = 93.5% (187/200) (classification)\n",
      "-t 2 -c 0.250000 -g 8.000000 -b 1\n",
      "Accuracy = 94.5% (189/200) (classification)\n",
      "-t 2 -c 0.250000 -g 16.000000 -b 1\n",
      "Accuracy = 95.5% (191/200) (classification)\n",
      "-t 2 -c 0.250000 -g 32.000000 -b 1\n",
      "Accuracy = 96% (192/200) (classification)\n",
      "-t 2 -c 0.250000 -g 64.000000 -b 1\n",
      "Accuracy = 96.5% (193/200) (classification)\n",
      "-t 2 -c 0.250000 -g 128.000000 -b 1\n",
      "Accuracy = 96.5% (193/200) (classification)\n",
      "-t 2 -c 0.250000 -g 256.000000 -b 1\n",
      "Accuracy = 95% (190/200) (classification)\n",
      "-t 2 -c 0.250000 -g 512.000000 -b 1\n",
      "Accuracy = 69.5% (139/200) (classification)\n",
      "-t 2 -c 0.250000 -g 1024.000000 -b 1\n",
      "Accuracy = 52% (104/200) (classification)\n",
      "-t 2 -c 0.250000 -g 2048.000000 -b 1\n",
      "Accuracy = 56% (112/200) (classification)\n",
      "-t 2 -c 0.250000 -g 4096.000000 -b 1\n",
      "Accuracy = 56.5% (113/200) (classification)\n",
      "-t 2 -c 0.250000 -g 8192.000000 -b 1\n",
      "Accuracy = 56.5% (113/200) (classification)\n",
      "-t 2 -c 0.250000 -g 16384.000000 -b 1\n",
      "Accuracy = 56.5% (113/200) (classification)\n",
      "-t 2 -c 0.500000 -g 0.031250 -b 1\n",
      "Accuracy = 77% (154/200) (classification)\n",
      "-t 2 -c 0.500000 -g 0.062500 -b 1\n",
      "Accuracy = 83% (166/200) (classification)\n",
      "-t 2 -c 0.500000 -g 0.125000 -b 1\n",
      "Accuracy = 85.5% (171/200) (classification)\n",
      "-t 2 -c 0.500000 -g 0.250000 -b 1\n",
      "Accuracy = 89% (178/200) (classification)\n",
      "-t 2 -c 0.500000 -g 0.500000 -b 1\n",
      "Accuracy = 90% (180/200) (classification)\n",
      "-t 2 -c 0.500000 -g 1.000000 -b 1\n",
      "Accuracy = 92% (184/200) (classification)\n",
      "-t 2 -c 0.500000 -g 2.000000 -b 1\n",
      "Accuracy = 92% (184/200) (classification)\n",
      "-t 2 -c 0.500000 -g 4.000000 -b 1\n",
      "Accuracy = 94.5% (189/200) (classification)\n",
      "-t 2 -c 0.500000 -g 8.000000 -b 1\n",
      "Accuracy = 96.5% (193/200) (classification)\n",
      "-t 2 -c 0.500000 -g 16.000000 -b 1\n",
      "Accuracy = 96.5% (193/200) (classification)\n",
      "-t 2 -c 0.500000 -g 32.000000 -b 1\n",
      "Accuracy = 96% (192/200) (classification)\n",
      "-t 2 -c 0.500000 -g 64.000000 -b 1\n",
      "Accuracy = 97% (194/200) (classification)\n",
      "-t 2 -c 0.500000 -g 128.000000 -b 1\n",
      "Accuracy = 96% (192/200) (classification)\n",
      "-t 2 -c 0.500000 -g 256.000000 -b 1\n",
      "Accuracy = 93.5% (187/200) (classification)\n",
      "-t 2 -c 0.500000 -g 512.000000 -b 1\n",
      "Accuracy = 90.5% (181/200) (classification)\n",
      "-t 2 -c 0.500000 -g 1024.000000 -b 1\n",
      "Accuracy = 77% (154/200) (classification)\n",
      "-t 2 -c 0.500000 -g 2048.000000 -b 1\n",
      "Accuracy = 40% (80/200) (classification)\n",
      "-t 2 -c 0.500000 -g 4096.000000 -b 1\n",
      "Accuracy = 55% (110/200) (classification)\n",
      "-t 2 -c 0.500000 -g 8192.000000 -b 1\n",
      "Accuracy = 56% (112/200) (classification)\n",
      "-t 2 -c 0.500000 -g 16384.000000 -b 1\n",
      "Accuracy = 56.5% (113/200) (classification)\n",
      "-t 2 -c 1.000000 -g 0.031250 -b 1\n",
      "Accuracy = 83% (166/200) (classification)\n",
      "-t 2 -c 1.000000 -g 0.062500 -b 1\n",
      "Accuracy = 86% (172/200) (classification)\n",
      "-t 2 -c 1.000000 -g 0.125000 -b 1\n",
      "Accuracy = 90% (180/200) (classification)\n",
      "-t 2 -c 1.000000 -g 0.250000 -b 1\n",
      "Accuracy = 91% (182/200) (classification)\n",
      "-t 2 -c 1.000000 -g 0.500000 -b 1\n",
      "Accuracy = 92% (184/200) (classification)\n",
      "-t 2 -c 1.000000 -g 1.000000 -b 1\n",
      "Accuracy = 92% (184/200) (classification)\n",
      "-t 2 -c 1.000000 -g 2.000000 -b 1\n",
      "Accuracy = 93.5% (187/200) (classification)\n",
      "-t 2 -c 1.000000 -g 4.000000 -b 1\n",
      "Accuracy = 95% (190/200) (classification)\n",
      "-t 2 -c 1.000000 -g 8.000000 -b 1\n",
      "Accuracy = 96% (192/200) (classification)\n",
      "-t 2 -c 1.000000 -g 16.000000 -b 1\n",
      "Accuracy = 96.5% (193/200) (classification)\n",
      "-t 2 -c 1.000000 -g 32.000000 -b 1\n",
      "Accuracy = 97% (194/200) (classification)\n",
      "-t 2 -c 1.000000 -g 64.000000 -b 1\n",
      "Accuracy = 96.5% (193/200) (classification)\n",
      "-t 2 -c 1.000000 -g 128.000000 -b 1\n",
      "Accuracy = 95% (190/200) (classification)\n",
      "-t 2 -c 1.000000 -g 256.000000 -b 1\n"
     ]
    },
    {
     "name": "stdout",
     "output_type": "stream",
     "text": [
      "Accuracy = 94.5% (189/200) (classification)\n",
      "-t 2 -c 1.000000 -g 512.000000 -b 1\n",
      "Accuracy = 89.5% (179/200) (classification)\n",
      "-t 2 -c 1.000000 -g 1024.000000 -b 1\n",
      "Accuracy = 88.5% (177/200) (classification)\n",
      "-t 2 -c 1.000000 -g 2048.000000 -b 1\n",
      "Accuracy = 83.5% (167/200) (classification)\n",
      "-t 2 -c 1.000000 -g 4096.000000 -b 1\n",
      "Accuracy = 78% (156/200) (classification)\n",
      "-t 2 -c 1.000000 -g 8192.000000 -b 1\n",
      "Accuracy = 32.5% (65/200) (classification)\n",
      "-t 2 -c 1.000000 -g 16384.000000 -b 1\n",
      "Accuracy = 40% (80/200) (classification)\n",
      "-t 2 -c 2.000000 -g 0.031250 -b 1\n",
      "Accuracy = 86% (172/200) (classification)\n",
      "-t 2 -c 2.000000 -g 0.062500 -b 1\n",
      "Accuracy = 90% (180/200) (classification)\n",
      "-t 2 -c 2.000000 -g 0.125000 -b 1\n",
      "Accuracy = 91% (182/200) (classification)\n",
      "-t 2 -c 2.000000 -g 0.250000 -b 1\n",
      "Accuracy = 92% (184/200) (classification)\n",
      "-t 2 -c 2.000000 -g 0.500000 -b 1\n",
      "Accuracy = 93.5% (187/200) (classification)\n",
      "-t 2 -c 2.000000 -g 1.000000 -b 1\n",
      "Accuracy = 93% (186/200) (classification)\n",
      "-t 2 -c 2.000000 -g 2.000000 -b 1\n",
      "Accuracy = 94% (188/200) (classification)\n",
      "-t 2 -c 2.000000 -g 4.000000 -b 1\n",
      "Accuracy = 96% (192/200) (classification)\n",
      "-t 2 -c 2.000000 -g 8.000000 -b 1\n",
      "Accuracy = 95.5% (191/200) (classification)\n",
      "-t 2 -c 2.000000 -g 16.000000 -b 1\n",
      "Accuracy = 95.5% (191/200) (classification)\n",
      "-t 2 -c 2.000000 -g 32.000000 -b 1\n",
      "Accuracy = 95.5% (191/200) (classification)\n",
      "-t 2 -c 2.000000 -g 64.000000 -b 1\n",
      "Accuracy = 96.5% (193/200) (classification)\n",
      "-t 2 -c 2.000000 -g 128.000000 -b 1\n",
      "Accuracy = 95% (190/200) (classification)\n",
      "-t 2 -c 2.000000 -g 256.000000 -b 1\n",
      "Accuracy = 93.5% (187/200) (classification)\n",
      "-t 2 -c 2.000000 -g 512.000000 -b 1\n",
      "Accuracy = 90.5% (181/200) (classification)\n",
      "-t 2 -c 2.000000 -g 1024.000000 -b 1\n",
      "Accuracy = 86.5% (173/200) (classification)\n",
      "-t 2 -c 2.000000 -g 2048.000000 -b 1\n",
      "Accuracy = 74.5% (149/200) (classification)\n",
      "-t 2 -c 2.000000 -g 4096.000000 -b 1\n",
      "Accuracy = 80.5% (161/200) (classification)\n",
      "-t 2 -c 2.000000 -g 8192.000000 -b 1\n",
      "Accuracy = 55.5% (111/200) (classification)\n",
      "-t 2 -c 2.000000 -g 16384.000000 -b 1\n",
      "Accuracy = 52% (104/200) (classification)\n",
      "-t 2 -c 4.000000 -g 0.031250 -b 1\n",
      "Accuracy = 90% (180/200) (classification)\n",
      "-t 2 -c 4.000000 -g 0.062500 -b 1\n",
      "Accuracy = 90.5% (181/200) (classification)\n",
      "-t 2 -c 4.000000 -g 0.125000 -b 1\n",
      "Accuracy = 92% (184/200) (classification)\n",
      "-t 2 -c 4.000000 -g 0.250000 -b 1\n",
      "Accuracy = 93% (186/200) (classification)\n",
      "-t 2 -c 4.000000 -g 0.500000 -b 1\n",
      "Accuracy = 93% (186/200) (classification)\n",
      "-t 2 -c 4.000000 -g 1.000000 -b 1\n",
      "Accuracy = 93% (186/200) (classification)\n",
      "-t 2 -c 4.000000 -g 2.000000 -b 1\n",
      "Accuracy = 93.5% (187/200) (classification)\n",
      "-t 2 -c 4.000000 -g 4.000000 -b 1\n",
      "Accuracy = 95% (190/200) (classification)\n",
      "-t 2 -c 4.000000 -g 8.000000 -b 1\n",
      "Accuracy = 94.5% (189/200) (classification)\n",
      "-t 2 -c 4.000000 -g 16.000000 -b 1\n",
      "Accuracy = 95.5% (191/200) (classification)\n",
      "-t 2 -c 4.000000 -g 32.000000 -b 1\n",
      "Accuracy = 96% (192/200) (classification)\n",
      "-t 2 -c 4.000000 -g 64.000000 -b 1\n",
      "Accuracy = 95% (190/200) (classification)\n",
      "-t 2 -c 4.000000 -g 128.000000 -b 1\n",
      "Accuracy = 94% (188/200) (classification)\n",
      "-t 2 -c 4.000000 -g 256.000000 -b 1\n",
      "Accuracy = 88.5% (177/200) (classification)\n",
      "-t 2 -c 4.000000 -g 512.000000 -b 1\n",
      "Accuracy = 91.5% (183/200) (classification)\n",
      "-t 2 -c 4.000000 -g 1024.000000 -b 1\n",
      "Accuracy = 86% (172/200) (classification)\n",
      "-t 2 -c 4.000000 -g 2048.000000 -b 1\n",
      "Accuracy = 83% (166/200) (classification)\n",
      "-t 2 -c 4.000000 -g 4096.000000 -b 1\n",
      "Accuracy = 64% (128/200) (classification)\n",
      "-t 2 -c 4.000000 -g 8192.000000 -b 1\n",
      "Accuracy = 71.5% (143/200) (classification)\n",
      "-t 2 -c 4.000000 -g 16384.000000 -b 1\n",
      "Accuracy = 50.5% (101/200) (classification)\n",
      "-t 2 -c 8.000000 -g 0.031250 -b 1\n",
      "Accuracy = 90.5% (181/200) (classification)\n",
      "-t 2 -c 8.000000 -g 0.062500 -b 1\n",
      "Accuracy = 92% (184/200) (classification)\n",
      "-t 2 -c 8.000000 -g 0.125000 -b 1\n",
      "Accuracy = 93% (186/200) (classification)\n",
      "-t 2 -c 8.000000 -g 0.250000 -b 1\n",
      "Accuracy = 93.5% (187/200) (classification)\n",
      "-t 2 -c 8.000000 -g 0.500000 -b 1\n",
      "Accuracy = 93.5% (187/200) (classification)\n",
      "-t 2 -c 8.000000 -g 1.000000 -b 1\n",
      "Accuracy = 93% (186/200) (classification)\n",
      "-t 2 -c 8.000000 -g 2.000000 -b 1\n",
      "Accuracy = 95% (190/200) (classification)\n",
      "-t 2 -c 8.000000 -g 4.000000 -b 1\n",
      "Accuracy = 94.5% (189/200) (classification)\n",
      "-t 2 -c 8.000000 -g 8.000000 -b 1\n",
      "Accuracy = 95.5% (191/200) (classification)\n",
      "-t 2 -c 8.000000 -g 16.000000 -b 1\n",
      "Accuracy = 96% (192/200) (classification)\n",
      "-t 2 -c 8.000000 -g 32.000000 -b 1\n",
      "Accuracy = 95% (190/200) (classification)\n",
      "-t 2 -c 8.000000 -g 64.000000 -b 1\n",
      "Accuracy = 94% (188/200) (classification)\n",
      "-t 2 -c 8.000000 -g 128.000000 -b 1\n",
      "Accuracy = 94% (188/200) (classification)\n",
      "-t 2 -c 8.000000 -g 256.000000 -b 1\n",
      "Accuracy = 88% (176/200) (classification)\n",
      "-t 2 -c 8.000000 -g 512.000000 -b 1\n",
      "Accuracy = 91.5% (183/200) (classification)\n",
      "-t 2 -c 8.000000 -g 1024.000000 -b 1\n",
      "Accuracy = 88% (176/200) (classification)\n",
      "-t 2 -c 8.000000 -g 2048.000000 -b 1\n",
      "Accuracy = 77% (154/200) (classification)\n",
      "-t 2 -c 8.000000 -g 4096.000000 -b 1\n",
      "Accuracy = 65% (130/200) (classification)\n",
      "-t 2 -c 8.000000 -g 8192.000000 -b 1\n",
      "Accuracy = 57% (114/200) (classification)\n",
      "-t 2 -c 8.000000 -g 16384.000000 -b 1\n",
      "Accuracy = 51% (102/200) (classification)\n",
      "-t 2 -c 16.000000 -g 0.031250 -b 1\n",
      "Accuracy = 93% (186/200) (classification)\n",
      "-t 2 -c 16.000000 -g 0.062500 -b 1\n",
      "Accuracy = 93.5% (187/200) (classification)\n",
      "-t 2 -c 16.000000 -g 0.125000 -b 1\n",
      "Accuracy = 93% (186/200) (classification)\n",
      "-t 2 -c 16.000000 -g 0.250000 -b 1\n",
      "Accuracy = 93.5% (187/200) (classification)\n",
      "-t 2 -c 16.000000 -g 0.500000 -b 1\n",
      "Accuracy = 92.5% (185/200) (classification)\n",
      "-t 2 -c 16.000000 -g 1.000000 -b 1\n",
      "Accuracy = 93% (186/200) (classification)\n",
      "-t 2 -c 16.000000 -g 2.000000 -b 1\n",
      "Accuracy = 94% (188/200) (classification)\n",
      "-t 2 -c 16.000000 -g 4.000000 -b 1\n",
      "Accuracy = 95% (190/200) (classification)\n",
      "-t 2 -c 16.000000 -g 8.000000 -b 1\n",
      "Accuracy = 95.5% (191/200) (classification)\n",
      "-t 2 -c 16.000000 -g 16.000000 -b 1\n",
      "Accuracy = 96.5% (193/200) (classification)\n",
      "-t 2 -c 16.000000 -g 32.000000 -b 1\n",
      "Accuracy = 95.5% (191/200) (classification)\n",
      "-t 2 -c 16.000000 -g 64.000000 -b 1\n",
      "Accuracy = 94% (188/200) (classification)\n",
      "-t 2 -c 16.000000 -g 128.000000 -b 1\n",
      "Accuracy = 93.5% (187/200) (classification)\n",
      "-t 2 -c 16.000000 -g 256.000000 -b 1\n",
      "Accuracy = 91.5% (183/200) (classification)\n",
      "-t 2 -c 16.000000 -g 512.000000 -b 1\n",
      "Accuracy = 91.5% (183/200) (classification)\n",
      "-t 2 -c 16.000000 -g 1024.000000 -b 1\n",
      "Accuracy = 88% (176/200) (classification)\n",
      "-t 2 -c 16.000000 -g 2048.000000 -b 1\n",
      "Accuracy = 84% (168/200) (classification)\n",
      "-t 2 -c 16.000000 -g 4096.000000 -b 1\n",
      "Accuracy = 62.5% (125/200) (classification)\n",
      "-t 2 -c 16.000000 -g 8192.000000 -b 1\n",
      "Accuracy = 57.5% (115/200) (classification)\n",
      "-t 2 -c 16.000000 -g 16384.000000 -b 1\n",
      "Accuracy = 50.5% (101/200) (classification)\n",
      "-t 2 -c 32.000000 -g 0.031250 -b 1\n",
      "Accuracy = 93% (186/200) (classification)\n",
      "-t 2 -c 32.000000 -g 0.062500 -b 1\n",
      "Accuracy = 93% (186/200) (classification)\n",
      "-t 2 -c 32.000000 -g 0.125000 -b 1\n",
      "Accuracy = 93.5% (187/200) (classification)\n",
      "-t 2 -c 32.000000 -g 0.250000 -b 1\n",
      "Accuracy = 93% (186/200) (classification)\n",
      "-t 2 -c 32.000000 -g 0.500000 -b 1\n",
      "Accuracy = 92% (184/200) (classification)\n",
      "-t 2 -c 32.000000 -g 1.000000 -b 1\n",
      "Accuracy = 94% (188/200) (classification)\n",
      "-t 2 -c 32.000000 -g 2.000000 -b 1\n",
      "Accuracy = 95% (190/200) (classification)\n",
      "-t 2 -c 32.000000 -g 4.000000 -b 1\n",
      "Accuracy = 95.5% (191/200) (classification)\n",
      "-t 2 -c 32.000000 -g 8.000000 -b 1\n",
      "Accuracy = 96% (192/200) (classification)\n",
      "-t 2 -c 32.000000 -g 16.000000 -b 1\n",
      "Accuracy = 96% (192/200) (classification)\n",
      "-t 2 -c 32.000000 -g 32.000000 -b 1\n",
      "Accuracy = 95.5% (191/200) (classification)\n",
      "-t 2 -c 32.000000 -g 64.000000 -b 1\n",
      "Accuracy = 93% (186/200) (classification)\n",
      "-t 2 -c 32.000000 -g 128.000000 -b 1\n",
      "Accuracy = 92% (184/200) (classification)\n",
      "-t 2 -c 32.000000 -g 256.000000 -b 1\n",
      "Accuracy = 91.5% (183/200) (classification)\n",
      "-t 2 -c 32.000000 -g 512.000000 -b 1\n",
      "Accuracy = 88.5% (177/200) (classification)\n",
      "-t 2 -c 32.000000 -g 1024.000000 -b 1\n",
      "Accuracy = 88% (176/200) (classification)\n",
      "-t 2 -c 32.000000 -g 2048.000000 -b 1\n",
      "Accuracy = 85.5% (171/200) (classification)\n",
      "-t 2 -c 32.000000 -g 4096.000000 -b 1\n",
      "Accuracy = 65% (130/200) (classification)\n",
      "-t 2 -c 32.000000 -g 8192.000000 -b 1\n",
      "Accuracy = 56% (112/200) (classification)\n",
      "-t 2 -c 32.000000 -g 16384.000000 -b 1\n",
      "Accuracy = 49.5% (99/200) (classification)\n",
      "-t 2 -c 64.000000 -g 0.031250 -b 1\n",
      "Accuracy = 93.5% (187/200) (classification)\n",
      "-t 2 -c 64.000000 -g 0.062500 -b 1\n",
      "Accuracy = 93.5% (187/200) (classification)\n",
      "-t 2 -c 64.000000 -g 0.125000 -b 1\n",
      "Accuracy = 93% (186/200) (classification)\n",
      "-t 2 -c 64.000000 -g 0.250000 -b 1\n",
      "Accuracy = 93% (186/200) (classification)\n",
      "-t 2 -c 64.000000 -g 0.500000 -b 1\n",
      "Accuracy = 93% (186/200) (classification)\n",
      "-t 2 -c 64.000000 -g 1.000000 -b 1\n",
      "Accuracy = 94% (188/200) (classification)\n",
      "-t 2 -c 64.000000 -g 2.000000 -b 1\n",
      "Accuracy = 95% (190/200) (classification)\n",
      "-t 2 -c 64.000000 -g 4.000000 -b 1\n",
      "Accuracy = 95% (190/200) (classification)\n",
      "-t 2 -c 64.000000 -g 8.000000 -b 1\n",
      "Accuracy = 96.5% (193/200) (classification)\n",
      "-t 2 -c 64.000000 -g 16.000000 -b 1\n",
      "Accuracy = 94% (188/200) (classification)\n",
      "-t 2 -c 64.000000 -g 32.000000 -b 1\n"
     ]
    },
    {
     "name": "stdout",
     "output_type": "stream",
     "text": [
      "Accuracy = 95.5% (191/200) (classification)\n",
      "-t 2 -c 64.000000 -g 64.000000 -b 1\n",
      "Accuracy = 93.5% (187/200) (classification)\n",
      "-t 2 -c 64.000000 -g 128.000000 -b 1\n",
      "Accuracy = 91.5% (183/200) (classification)\n",
      "-t 2 -c 64.000000 -g 256.000000 -b 1\n",
      "Accuracy = 88% (176/200) (classification)\n",
      "-t 2 -c 64.000000 -g 512.000000 -b 1\n",
      "Accuracy = 89.5% (179/200) (classification)\n",
      "-t 2 -c 64.000000 -g 1024.000000 -b 1\n",
      "Accuracy = 89% (178/200) (classification)\n",
      "-t 2 -c 64.000000 -g 2048.000000 -b 1\n",
      "Accuracy = 85.5% (171/200) (classification)\n",
      "-t 2 -c 64.000000 -g 4096.000000 -b 1\n",
      "Accuracy = 64% (128/200) (classification)\n",
      "-t 2 -c 64.000000 -g 8192.000000 -b 1\n",
      "Accuracy = 60.5% (121/200) (classification)\n",
      "-t 2 -c 64.000000 -g 16384.000000 -b 1\n",
      "Accuracy = 52% (104/200) (classification)\n",
      "-t 2 -c 128.000000 -g 0.031250 -b 1\n",
      "Accuracy = 93.5% (187/200) (classification)\n",
      "-t 2 -c 128.000000 -g 0.062500 -b 1\n",
      "Accuracy = 93.5% (187/200) (classification)\n",
      "-t 2 -c 128.000000 -g 0.125000 -b 1\n",
      "Accuracy = 93.5% (187/200) (classification)\n",
      "-t 2 -c 128.000000 -g 0.250000 -b 1\n",
      "Accuracy = 93% (186/200) (classification)\n",
      "-t 2 -c 128.000000 -g 0.500000 -b 1\n",
      "Accuracy = 93.5% (187/200) (classification)\n",
      "-t 2 -c 128.000000 -g 1.000000 -b 1\n",
      "Accuracy = 93.5% (187/200) (classification)\n",
      "-t 2 -c 128.000000 -g 2.000000 -b 1\n",
      "Accuracy = 95.5% (191/200) (classification)\n",
      "-t 2 -c 128.000000 -g 4.000000 -b 1\n",
      "Accuracy = 96% (192/200) (classification)\n",
      "-t 2 -c 128.000000 -g 8.000000 -b 1\n",
      "Accuracy = 95% (190/200) (classification)\n",
      "-t 2 -c 128.000000 -g 16.000000 -b 1\n",
      "Accuracy = 94.5% (189/200) (classification)\n",
      "-t 2 -c 128.000000 -g 32.000000 -b 1\n",
      "Accuracy = 93.5% (187/200) (classification)\n",
      "-t 2 -c 128.000000 -g 64.000000 -b 1\n",
      "Accuracy = 91.5% (183/200) (classification)\n",
      "-t 2 -c 128.000000 -g 128.000000 -b 1\n",
      "Accuracy = 92.5% (185/200) (classification)\n",
      "-t 2 -c 128.000000 -g 256.000000 -b 1\n",
      "Accuracy = 90.5% (181/200) (classification)\n",
      "-t 2 -c 128.000000 -g 512.000000 -b 1\n",
      "Accuracy = 82% (164/200) (classification)\n",
      "-t 2 -c 128.000000 -g 1024.000000 -b 1\n",
      "Accuracy = 86.5% (173/200) (classification)\n",
      "-t 2 -c 128.000000 -g 2048.000000 -b 1\n",
      "Accuracy = 76% (152/200) (classification)\n",
      "-t 2 -c 128.000000 -g 4096.000000 -b 1\n",
      "Accuracy = 64% (128/200) (classification)\n",
      "-t 2 -c 128.000000 -g 8192.000000 -b 1\n",
      "Accuracy = 56.5% (113/200) (classification)\n",
      "-t 2 -c 128.000000 -g 16384.000000 -b 1\n",
      "Accuracy = 51% (102/200) (classification)\n",
      "-t 2 -c 256.000000 -g 0.031250 -b 1\n",
      "Accuracy = 93.5% (187/200) (classification)\n",
      "-t 2 -c 256.000000 -g 0.062500 -b 1\n",
      "Accuracy = 93.5% (187/200) (classification)\n",
      "-t 2 -c 256.000000 -g 0.125000 -b 1\n",
      "Accuracy = 92.5% (185/200) (classification)\n",
      "-t 2 -c 256.000000 -g 0.250000 -b 1\n",
      "Accuracy = 93% (186/200) (classification)\n",
      "-t 2 -c 256.000000 -g 0.500000 -b 1\n",
      "Accuracy = 94% (188/200) (classification)\n",
      "-t 2 -c 256.000000 -g 1.000000 -b 1\n",
      "Accuracy = 94% (188/200) (classification)\n",
      "-t 2 -c 256.000000 -g 2.000000 -b 1\n",
      "Accuracy = 95.5% (191/200) (classification)\n",
      "-t 2 -c 256.000000 -g 4.000000 -b 1\n",
      "Accuracy = 96% (192/200) (classification)\n",
      "-t 2 -c 256.000000 -g 8.000000 -b 1\n",
      "Accuracy = 95.5% (191/200) (classification)\n",
      "-t 2 -c 256.000000 -g 16.000000 -b 1\n",
      "Accuracy = 93.5% (187/200) (classification)\n",
      "-t 2 -c 256.000000 -g 32.000000 -b 1\n",
      "Accuracy = 92% (184/200) (classification)\n",
      "-t 2 -c 256.000000 -g 64.000000 -b 1\n",
      "Accuracy = 91% (182/200) (classification)\n",
      "-t 2 -c 256.000000 -g 128.000000 -b 1\n",
      "Accuracy = 93% (186/200) (classification)\n",
      "-t 2 -c 256.000000 -g 256.000000 -b 1\n",
      "Accuracy = 85% (170/200) (classification)\n",
      "-t 2 -c 256.000000 -g 512.000000 -b 1\n",
      "Accuracy = 89.5% (179/200) (classification)\n",
      "-t 2 -c 256.000000 -g 1024.000000 -b 1\n",
      "Accuracy = 86.5% (173/200) (classification)\n",
      "-t 2 -c 256.000000 -g 2048.000000 -b 1\n",
      "Accuracy = 84% (168/200) (classification)\n",
      "-t 2 -c 256.000000 -g 4096.000000 -b 1\n",
      "Accuracy = 64% (128/200) (classification)\n",
      "-t 2 -c 256.000000 -g 8192.000000 -b 1\n",
      "Accuracy = 56.5% (113/200) (classification)\n",
      "-t 2 -c 256.000000 -g 16384.000000 -b 1\n",
      "Accuracy = 49.5% (99/200) (classification)\n",
      "-t 2 -c 512.000000 -g 0.031250 -b 1\n",
      "Accuracy = 93% (186/200) (classification)\n",
      "-t 2 -c 512.000000 -g 0.062500 -b 1\n",
      "Accuracy = 93% (186/200) (classification)\n",
      "-t 2 -c 512.000000 -g 0.125000 -b 1\n",
      "Accuracy = 93% (186/200) (classification)\n",
      "-t 2 -c 512.000000 -g 0.250000 -b 1\n",
      "Accuracy = 93% (186/200) (classification)\n",
      "-t 2 -c 512.000000 -g 0.500000 -b 1\n",
      "Accuracy = 93% (186/200) (classification)\n",
      "-t 2 -c 512.000000 -g 1.000000 -b 1\n",
      "Accuracy = 94% (188/200) (classification)\n",
      "-t 2 -c 512.000000 -g 2.000000 -b 1\n",
      "Accuracy = 96% (192/200) (classification)\n",
      "-t 2 -c 512.000000 -g 4.000000 -b 1\n",
      "Accuracy = 95.5% (191/200) (classification)\n",
      "-t 2 -c 512.000000 -g 8.000000 -b 1\n",
      "Accuracy = 94% (188/200) (classification)\n",
      "-t 2 -c 512.000000 -g 16.000000 -b 1\n",
      "Accuracy = 93.5% (187/200) (classification)\n",
      "-t 2 -c 512.000000 -g 32.000000 -b 1\n",
      "Accuracy = 90.5% (181/200) (classification)\n",
      "-t 2 -c 512.000000 -g 64.000000 -b 1\n",
      "Accuracy = 90.5% (181/200) (classification)\n",
      "-t 2 -c 512.000000 -g 128.000000 -b 1\n",
      "Accuracy = 93% (186/200) (classification)\n",
      "-t 2 -c 512.000000 -g 256.000000 -b 1\n",
      "Accuracy = 88.5% (177/200) (classification)\n",
      "-t 2 -c 512.000000 -g 512.000000 -b 1\n",
      "Accuracy = 89% (178/200) (classification)\n",
      "-t 2 -c 512.000000 -g 1024.000000 -b 1\n",
      "Accuracy = 88% (176/200) (classification)\n",
      "-t 2 -c 512.000000 -g 2048.000000 -b 1\n",
      "Accuracy = 85.5% (171/200) (classification)\n",
      "-t 2 -c 512.000000 -g 4096.000000 -b 1\n",
      "Accuracy = 65% (130/200) (classification)\n",
      "-t 2 -c 512.000000 -g 8192.000000 -b 1\n",
      "Accuracy = 57% (114/200) (classification)\n",
      "-t 2 -c 512.000000 -g 16384.000000 -b 1\n",
      "Accuracy = 49.5% (99/200) (classification)\n",
      "-t 2 -c 1024.000000 -g 0.031250 -b 1\n",
      "Accuracy = 93% (186/200) (classification)\n",
      "-t 2 -c 1024.000000 -g 0.062500 -b 1\n",
      "Accuracy = 93% (186/200) (classification)\n",
      "-t 2 -c 1024.000000 -g 0.125000 -b 1\n",
      "Accuracy = 92.5% (185/200) (classification)\n",
      "-t 2 -c 1024.000000 -g 0.250000 -b 1\n",
      "Accuracy = 93.5% (187/200) (classification)\n",
      "-t 2 -c 1024.000000 -g 0.500000 -b 1\n",
      "Accuracy = 94% (188/200) (classification)\n",
      "-t 2 -c 1024.000000 -g 1.000000 -b 1\n",
      "Accuracy = 94% (188/200) (classification)\n",
      "-t 2 -c 1024.000000 -g 2.000000 -b 1\n",
      "Accuracy = 95% (190/200) (classification)\n",
      "-t 2 -c 1024.000000 -g 4.000000 -b 1\n",
      "Accuracy = 95.5% (191/200) (classification)\n",
      "-t 2 -c 1024.000000 -g 8.000000 -b 1\n",
      "Accuracy = 94.5% (189/200) (classification)\n",
      "-t 2 -c 1024.000000 -g 16.000000 -b 1\n",
      "Accuracy = 94.5% (189/200) (classification)\n",
      "-t 2 -c 1024.000000 -g 32.000000 -b 1\n",
      "Accuracy = 89.5% (179/200) (classification)\n",
      "-t 2 -c 1024.000000 -g 64.000000 -b 1\n",
      "Accuracy = 90% (180/200) (classification)\n",
      "-t 2 -c 1024.000000 -g 128.000000 -b 1\n",
      "Accuracy = 92% (184/200) (classification)\n",
      "-t 2 -c 1024.000000 -g 256.000000 -b 1\n",
      "Accuracy = 92% (184/200) (classification)\n",
      "-t 2 -c 1024.000000 -g 512.000000 -b 1\n",
      "Accuracy = 88.5% (177/200) (classification)\n",
      "-t 2 -c 1024.000000 -g 1024.000000 -b 1\n",
      "Accuracy = 86.5% (173/200) (classification)\n",
      "-t 2 -c 1024.000000 -g 2048.000000 -b 1\n",
      "Accuracy = 77% (154/200) (classification)\n",
      "-t 2 -c 1024.000000 -g 4096.000000 -b 1\n",
      "Accuracy = 65% (130/200) (classification)\n",
      "-t 2 -c 1024.000000 -g 8192.000000 -b 1\n",
      "Accuracy = 58.5% (117/200) (classification)\n",
      "-t 2 -c 1024.000000 -g 16384.000000 -b 1\n",
      "Accuracy = 38% (76/200) (classification)\n",
      "-t 2 -c 2048.000000 -g 0.031250 -b 1\n",
      "Accuracy = 92% (184/200) (classification)\n",
      "-t 2 -c 2048.000000 -g 0.062500 -b 1\n",
      "Accuracy = 93% (186/200) (classification)\n",
      "-t 2 -c 2048.000000 -g 0.125000 -b 1\n",
      "Accuracy = 92.5% (185/200) (classification)\n",
      "-t 2 -c 2048.000000 -g 0.250000 -b 1\n",
      "Accuracy = 93% (186/200) (classification)\n",
      "-t 2 -c 2048.000000 -g 0.500000 -b 1\n",
      "Accuracy = 94% (188/200) (classification)\n",
      "-t 2 -c 2048.000000 -g 1.000000 -b 1\n",
      "Accuracy = 94.5% (189/200) (classification)\n",
      "-t 2 -c 2048.000000 -g 2.000000 -b 1\n",
      "Accuracy = 95% (190/200) (classification)\n",
      "-t 2 -c 2048.000000 -g 4.000000 -b 1\n",
      "Accuracy = 94.5% (189/200) (classification)\n",
      "-t 2 -c 2048.000000 -g 8.000000 -b 1\n",
      "Accuracy = 94.5% (189/200) (classification)\n",
      "-t 2 -c 2048.000000 -g 16.000000 -b 1\n",
      "Accuracy = 92.5% (185/200) (classification)\n",
      "-t 2 -c 2048.000000 -g 32.000000 -b 1\n",
      "Accuracy = 87.5% (175/200) (classification)\n",
      "-t 2 -c 2048.000000 -g 64.000000 -b 1\n",
      "Accuracy = 89% (178/200) (classification)\n",
      "-t 2 -c 2048.000000 -g 128.000000 -b 1\n",
      "Accuracy = 93% (186/200) (classification)\n",
      "-t 2 -c 2048.000000 -g 256.000000 -b 1\n",
      "Accuracy = 92% (184/200) (classification)\n",
      "-t 2 -c 2048.000000 -g 512.000000 -b 1\n",
      "Accuracy = 82.5% (165/200) (classification)\n",
      "-t 2 -c 2048.000000 -g 1024.000000 -b 1\n",
      "Accuracy = 88% (176/200) (classification)\n",
      "-t 2 -c 2048.000000 -g 2048.000000 -b 1\n",
      "Accuracy = 76% (152/200) (classification)\n",
      "-t 2 -c 2048.000000 -g 4096.000000 -b 1\n",
      "Accuracy = 62.5% (125/200) (classification)\n",
      "-t 2 -c 2048.000000 -g 8192.000000 -b 1\n",
      "Accuracy = 56% (112/200) (classification)\n",
      "-t 2 -c 2048.000000 -g 16384.000000 -b 1\n",
      "Accuracy = 50% (100/200) (classification)\n",
      "-t 2 -c 4096.000000 -g 0.031250 -b 1\n",
      "Accuracy = 93% (186/200) (classification)\n",
      "-t 2 -c 4096.000000 -g 0.062500 -b 1\n",
      "Accuracy = 92.5% (185/200) (classification)\n",
      "-t 2 -c 4096.000000 -g 0.125000 -b 1\n",
      "Accuracy = 93% (186/200) (classification)\n",
      "-t 2 -c 4096.000000 -g 0.250000 -b 1\n",
      "Accuracy = 93% (186/200) (classification)\n",
      "-t 2 -c 4096.000000 -g 0.500000 -b 1\n",
      "Accuracy = 94% (188/200) (classification)\n",
      "-t 2 -c 4096.000000 -g 1.000000 -b 1\n",
      "Accuracy = 93.5% (187/200) (classification)\n",
      "-t 2 -c 4096.000000 -g 2.000000 -b 1\n"
     ]
    },
    {
     "name": "stdout",
     "output_type": "stream",
     "text": [
      "Accuracy = 95% (190/200) (classification)\n",
      "-t 2 -c 4096.000000 -g 4.000000 -b 1\n",
      "Accuracy = 94% (188/200) (classification)\n",
      "-t 2 -c 4096.000000 -g 8.000000 -b 1\n",
      "Accuracy = 94.5% (189/200) (classification)\n",
      "-t 2 -c 4096.000000 -g 16.000000 -b 1\n",
      "Accuracy = 90% (180/200) (classification)\n",
      "-t 2 -c 4096.000000 -g 32.000000 -b 1\n",
      "Accuracy = 84.5% (169/200) (classification)\n",
      "-t 2 -c 4096.000000 -g 64.000000 -b 1\n",
      "Accuracy = 91.5% (183/200) (classification)\n",
      "-t 2 -c 4096.000000 -g 128.000000 -b 1\n",
      "Accuracy = 90.5% (181/200) (classification)\n",
      "-t 2 -c 4096.000000 -g 256.000000 -b 1\n",
      "Accuracy = 91.5% (183/200) (classification)\n",
      "-t 2 -c 4096.000000 -g 512.000000 -b 1\n",
      "Accuracy = 88% (176/200) (classification)\n",
      "-t 2 -c 4096.000000 -g 1024.000000 -b 1\n",
      "Accuracy = 87.5% (175/200) (classification)\n",
      "-t 2 -c 4096.000000 -g 2048.000000 -b 1\n",
      "Accuracy = 75.5% (151/200) (classification)\n",
      "-t 2 -c 4096.000000 -g 4096.000000 -b 1\n",
      "Accuracy = 64% (128/200) (classification)\n",
      "-t 2 -c 4096.000000 -g 8192.000000 -b 1\n",
      "Accuracy = 56.5% (113/200) (classification)\n",
      "-t 2 -c 4096.000000 -g 16384.000000 -b 1\n",
      "Accuracy = 51% (102/200) (classification)\n",
      "-t 2 -c 8192.000000 -g 0.031250 -b 1\n",
      "Accuracy = 92.5% (185/200) (classification)\n",
      "-t 2 -c 8192.000000 -g 0.062500 -b 1\n",
      "Accuracy = 92.5% (185/200) (classification)\n",
      "-t 2 -c 8192.000000 -g 0.125000 -b 1\n",
      "Accuracy = 93.5% (187/200) (classification)\n",
      "-t 2 -c 8192.000000 -g 0.250000 -b 1\n",
      "Accuracy = 93.5% (187/200) (classification)\n",
      "-t 2 -c 8192.000000 -g 0.500000 -b 1\n",
      "Accuracy = 94% (188/200) (classification)\n",
      "-t 2 -c 8192.000000 -g 1.000000 -b 1\n",
      "Accuracy = 93.5% (187/200) (classification)\n",
      "-t 2 -c 8192.000000 -g 2.000000 -b 1\n",
      "Accuracy = 95.5% (191/200) (classification)\n",
      "-t 2 -c 8192.000000 -g 4.000000 -b 1\n",
      "Accuracy = 94.5% (189/200) (classification)\n",
      "-t 2 -c 8192.000000 -g 8.000000 -b 1\n",
      "Accuracy = 94% (188/200) (classification)\n",
      "-t 2 -c 8192.000000 -g 16.000000 -b 1\n",
      "Accuracy = 87.5% (175/200) (classification)\n",
      "-t 2 -c 8192.000000 -g 32.000000 -b 1\n",
      "Accuracy = 90.5% (181/200) (classification)\n",
      "-t 2 -c 8192.000000 -g 64.000000 -b 1\n",
      "Accuracy = 91% (182/200) (classification)\n",
      "-t 2 -c 8192.000000 -g 128.000000 -b 1\n",
      "Accuracy = 92% (184/200) (classification)\n",
      "-t 2 -c 8192.000000 -g 256.000000 -b 1\n",
      "Accuracy = 86% (172/200) (classification)\n",
      "-t 2 -c 8192.000000 -g 512.000000 -b 1\n",
      "Accuracy = 89.5% (179/200) (classification)\n",
      "-t 2 -c 8192.000000 -g 1024.000000 -b 1\n",
      "Accuracy = 87.5% (175/200) (classification)\n",
      "-t 2 -c 8192.000000 -g 2048.000000 -b 1\n",
      "Accuracy = 85.5% (171/200) (classification)\n",
      "-t 2 -c 8192.000000 -g 4096.000000 -b 1\n",
      "Accuracy = 73.5% (147/200) (classification)\n",
      "-t 2 -c 8192.000000 -g 8192.000000 -b 1\n",
      "Accuracy = 58% (116/200) (classification)\n",
      "-t 2 -c 8192.000000 -g 16384.000000 -b 1\n",
      "Accuracy = 51% (102/200) (classification)\n",
      "-t 2 -c 16384.000000 -g 0.031250 -b 1\n",
      "Accuracy = 93% (186/200) (classification)\n",
      "-t 2 -c 16384.000000 -g 0.062500 -b 1\n",
      "Accuracy = 93% (186/200) (classification)\n",
      "-t 2 -c 16384.000000 -g 0.125000 -b 1\n",
      "Accuracy = 93% (186/200) (classification)\n",
      "-t 2 -c 16384.000000 -g 0.250000 -b 1\n",
      "Accuracy = 94% (188/200) (classification)\n",
      "-t 2 -c 16384.000000 -g 0.500000 -b 1\n",
      "Accuracy = 94% (188/200) (classification)\n",
      "-t 2 -c 16384.000000 -g 1.000000 -b 1\n",
      "Accuracy = 94% (188/200) (classification)\n",
      "-t 2 -c 16384.000000 -g 2.000000 -b 1\n",
      "Accuracy = 96.5% (193/200) (classification)\n",
      "-t 2 -c 16384.000000 -g 4.000000 -b 1\n",
      "Accuracy = 94% (188/200) (classification)\n",
      "-t 2 -c 16384.000000 -g 8.000000 -b 1\n",
      "Accuracy = 95% (190/200) (classification)\n",
      "-t 2 -c 16384.000000 -g 16.000000 -b 1\n",
      "Accuracy = 88% (176/200) (classification)\n",
      "-t 2 -c 16384.000000 -g 32.000000 -b 1\n",
      "Accuracy = 88% (176/200) (classification)\n",
      "-t 2 -c 16384.000000 -g 64.000000 -b 1\n",
      "Accuracy = 89% (178/200) (classification)\n",
      "-t 2 -c 16384.000000 -g 128.000000 -b 1\n",
      "Accuracy = 92% (184/200) (classification)\n",
      "-t 2 -c 16384.000000 -g 256.000000 -b 1\n",
      "Accuracy = 91.5% (183/200) (classification)\n",
      "-t 2 -c 16384.000000 -g 512.000000 -b 1\n",
      "Accuracy = 89% (178/200) (classification)\n",
      "-t 2 -c 16384.000000 -g 1024.000000 -b 1\n",
      "Accuracy = 87.5% (175/200) (classification)\n",
      "-t 2 -c 16384.000000 -g 2048.000000 -b 1\n",
      "Accuracy = 85.5% (171/200) (classification)\n",
      "-t 2 -c 16384.000000 -g 4096.000000 -b 1\n",
      "Accuracy = 80% (160/200) (classification)\n",
      "-t 2 -c 16384.000000 -g 8192.000000 -b 1\n",
      "Accuracy = 58.5% (117/200) (classification)\n",
      "-t 2 -c 16384.000000 -g 16384.000000 -b 1\n",
      "Accuracy = 49% (98/200) (classification)\n"
     ]
    }
   ],
   "source": [
    "# Loose grid serach\n",
    "acc_list = []\n",
    "c_list = []\n",
    "g_list = []\n",
    "\n",
    "C = 2 ** (-5)\n",
    "\n",
    "for i in range(20):\n",
    "    \n",
    "    gamma = 2 ** (-5)\n",
    "    \n",
    "    for j in range(20):\n",
    "        pp = \"-t 2 -c %f -g %f -b 1\" % (C , gamma)\n",
    "        print(pp)\n",
    "        param = svm_parameter(pp)\n",
    "        model = svm_train(prob, param)\n",
    "        p_label, p_acc, p_val = svm_predict(yval.squeeze(), Xval.squeeze(), model, '-b 1')\n",
    "        \n",
    "        acc_list.append(p_acc[0])\n",
    "        c_list.append(C)\n",
    "        g_list.append(gamma)\n",
    "\n",
    "        gamma = gamma *2\n",
    "        \n",
    "    C = C * 2"
   ]
  },
  {
   "cell_type": "code",
   "execution_count": 317,
   "metadata": {},
   "outputs": [],
   "source": [
    "lsres = np.column_stack([c_list, g_list, acc_list])"
   ]
  },
  {
   "cell_type": "code",
   "execution_count": 334,
   "metadata": {},
   "outputs": [
    {
     "name": "stdout",
     "output_type": "stream",
     "text": [
      "-t 2 -c 0.500000 -g 64.000000 -b 1\n",
      "Accuracy = 97% (194/200) (classification)\n"
     ]
    }
   ],
   "source": [
    "C = 0.5\n",
    "gamma = 64\n",
    "pp_optimal = \"-t 2 -c %f -g %f -b 1\" % (C , gamma)\n",
    "print(pp_optimal)\n",
    "param = svm_parameter(pp_optimal)\n",
    "model = svm_train(prob, param)\n",
    "p_label, p_acc, p_val = svm_predict(yval.squeeze(), Xval.squeeze(), model, '-b 1')"
   ]
  },
  {
   "cell_type": "code",
   "execution_count": 335,
   "metadata": {},
   "outputs": [
    {
     "name": "stdout",
     "output_type": "stream",
     "text": [
      "Accuracy = 95.2607% (201/211) (classification)\n"
     ]
    }
   ],
   "source": [
    "p_label, p_acc, p_val = svm_predict(y.squeeze(), X.squeeze(), model, '-b 1')"
   ]
  },
  {
   "cell_type": "code",
   "execution_count": 323,
   "metadata": {},
   "outputs": [
    {
     "data": {
      "text/plain": [
       "array([ 0.5, 64. , 97. ])"
      ]
     },
     "execution_count": 323,
     "metadata": {},
     "output_type": "execute_result"
    }
   ],
   "source": [
    "lsres[91]"
   ]
  },
  {
   "cell_type": "code",
   "execution_count": 336,
   "metadata": {},
   "outputs": [
    {
     "name": "stdout",
     "output_type": "stream",
     "text": [
      "Accuracy = 48.03% (4803/10000) (classification)\n"
     ]
    },
    {
     "data": {
      "image/png": "[encoded data removed]",
      "text/plain": [
       "<Figure size 432x288 with 1 Axes>"
      ]
     },
     "metadata": {
      "needs_background": "light"
     },
     "output_type": "display_data"
    }
   ],
   "source": [
    "# Visualize(X, y, model) boundary learned by the SVM and overlays the data on it\n",
    "\n",
    "# Plot the training data on top of the boundary\n",
    "mask= (y==1).squeeze()\n",
    "plt.plot(X[mask][:,0], X[mask][:,1], '+', markersize=6, color = 'green')\n",
    "plt.plot(X[~mask][:,0], X[~mask][:,1], 'bo', markersize=3, color = 'blue')\n",
    "\n",
    "\n",
    "x1plot = np.linspace(min(X[:,0]), max(X[:,0]), 100)\n",
    "x2plot = np.linspace(min(X[:,1]), max(X[:,1]), 100)\n",
    "XX1, XX2 = np.meshgrid(x1plot, x2plot)\n",
    "\n",
    "XY = np.dstack((XX1, XX2))\n",
    "XY = XY.reshape(100*100, 2)\n",
    "\n",
    "vals = np.zeros(XX1.shape)\n",
    "zp_label, p_acc, p_vals= svm_predict([], XY, model, '-b 1')\n",
    "zp_label = np.array(zp_label)\n",
    "zp_label = zp_label.reshape(100, 100)\n",
    "\n",
    "h = plt.contour(XX1, XX2, zp_label)\n",
    "plt.show()\n",
    "\n"
   ]
  },
  {
   "cell_type": "code",
   "execution_count": null,
   "metadata": {},
   "outputs": [],
   "source": []
  }
 ],
 "metadata": {
  "kernelspec": {
   "display_name": "Python 3",
   "language": "python",
   "name": "python3"
  },
  "toc": {
   "base_numbering": 1,
   "nav_menu": {},
   "number_sections": true,
   "sideBar": true,
   "skip_h1_title": false,
   "title_cell": "Table of Contents",
   "title_sidebar": "Contents",
   "toc_cell": false,
   "toc_position": {},
   "toc_section_display": true,
   "toc_window_display": false
  },
  "varInspector": {
   "cols": {
    "lenName": 16,
    "lenType": 16,
    "lenVar": 40
   },
   "kernels_config": {
    "python": {
     "delete_cmd_postfix": "",
     "delete_cmd_prefix": "del ",
     "library": "var_list.py",
     "varRefreshCmd": "print(var_dic_list())"
    },
    "r": {
     "delete_cmd_postfix": ") ",
     "delete_cmd_prefix": "rm(",
     "library": "var_list.r",
     "varRefreshCmd": "cat(var_dic_list()) "
    }
   },
   "types_to_exclude": [
    "module",
    "function",
    "builtin_function_or_method",
    "instance",
    "_Feature"
   ],
   "window_display": false
  }
 },
 "nbformat": 4,
 "nbformat_minor": 2
}
