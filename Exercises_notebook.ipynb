{
 "cells": [
  {
   "cell_type": "code",
   "execution_count": 226,
   "metadata": {},
   "outputs": [],
   "source": [
    "import numpy as np\n",
    "import math\n",
    "import pandas as pd\n",
    "import seaborn as sns\n",
    "import numpy.linalg as la\n",
    "import scipy.optimize as op\n",
    "from scipy.optimize import minimize\n",
    "from sklearn.preprocessing import PolynomialFeatures \n",
    "from matplotlib import pyplot as plt"
   ]
  },
  {
   "cell_type": "markdown",
   "metadata": {},
   "source": [
    "The ex1data1.txt contains the dataset for our linear regression problem. \n",
    "The first column is the population of a city and the second column is the profit of a food truck in that city. A negative value for profit indicates a loss"
   ]
  },
  {
   "cell_type": "markdown",
   "metadata": {},
   "source": [
    "# Week 1-2, Ex1"
   ]
  },
  {
   "cell_type": "markdown",
   "metadata": {},
   "source": [
    "## Linear regression with one variable"
   ]
  },
  {
   "cell_type": "markdown",
   "metadata": {},
   "source": [
    "### Load data"
   ]
  },
  {
   "cell_type": "code",
   "execution_count": 283,
   "metadata": {},
   "outputs": [],
   "source": [
    "cols1 = ['pop', 'profit']\n",
    "data1 = pd.read_csv('ex1/ex1data1.txt', header = None, names = cols1)"
   ]
  },
  {
   "cell_type": "markdown",
   "metadata": {},
   "source": [
    "### Plot the data"
   ]
  },
  {
   "cell_type": "code",
   "execution_count": 284,
   "metadata": {},
   "outputs": [
    {
     "data": {
      "text/plain": [
       "(97, 2)"
      ]
     },
     "execution_count": 284,
     "metadata": {},
     "output_type": "execute_result"
    }
   ],
   "source": [
    "data1.shape"
   ]
  },
  {
   "cell_type": "code",
   "execution_count": 285,
   "metadata": {},
   "outputs": [
    {
     "data": {
      "image/png": "[encoded data removed]",
      "text/plain": [
       "<Figure size 432x288 with 1 Axes>"
      ]
     },
     "metadata": {
      "needs_background": "light"
     },
     "output_type": "display_data"
    }
   ],
   "source": [
    "data1.plot(kind='scatter',x='pop',y='profit',color='red')\n",
    "plt.xlabel('Population of City in 10,000s')\n",
    "plt.ylabel('Profit in $10,000s')\n",
    "plt.title('Scatter plot of training data')\n",
    "plt.show()"
   ]
  },
  {
   "cell_type": "markdown",
   "metadata": {},
   "source": [
    "### Gradient Descent"
   ]
  },
  {
   "cell_type": "code",
   "execution_count": 448,
   "metadata": {},
   "outputs": [],
   "source": [
    "X = pd.DataFrame(data1['pop']).to_numpy()\n",
    "y = pd.DataFrame(data1['profit']).to_numpy()\n",
    "\n",
    "# Add a column of ones to X\n",
    "myX = np.append(np.ones([len(X),1]), X ,1)\n",
    "myX = myX.T\n",
    "y = y.T\n",
    "# Initialize fitting parameters\n",
    "d = myX.shape[0] # Dimensions of theta / number of features\n",
    "theta = np.zeros((d, 1));"
   ]
  },
  {
   "cell_type": "code",
   "execution_count": 449,
   "metadata": {},
   "outputs": [
    {
     "name": "stdout",
     "output_type": "stream",
     "text": [
      "myX shape: (2, 97)\n",
      "theta shape: (2, 1)\n",
      "y shape: (1, 97)\n"
     ]
    }
   ],
   "source": [
    "print('myX shape:', myX.shape)\n",
    "print('theta shape:', theta.shape)\n",
    "print('y shape:', y.shape)"
   ]
  },
  {
   "cell_type": "code",
   "execution_count": 450,
   "metadata": {},
   "outputs": [],
   "source": [
    "iterations = 50;\n",
    "alpha = 0.01;"
   ]
  },
  {
   "cell_type": "code",
   "execution_count": 451,
   "metadata": {},
   "outputs": [],
   "source": [
    "loss = []\n",
    "for i in range(iterations):\n",
    "    # Cost function: mean squared error as a function of theta 1, 2, ..., d\n",
    "    J_theta = ((theta.T @ myX - y) @ (theta.T @ myX - y).T / (2 * len(y))).item()\n",
    "    #print('J_theta:', J_theta)\n",
    "    \n",
    "    delta_J_0 = np.mean(theta.T @ myX - y, axis=1).item()\n",
    "    delta_J_1 = ((theta.T @ myX - y) @ (myX[1, :].T / y.shape[1])).item()\n",
    "    \n",
    "    if (np.absolute(delta_J_0) > 0.0001 and np.absolute(delta_J_1) > 0.0001):\n",
    "        delta = np.array([delta_J_0, delta_J_1]).reshape(-1,1)\n",
    "        theta = theta - alpha * delta\n",
    "        \n",
    "        loss.append(J_theta)\n",
    "        i +=1\n",
    "    else:\n",
    "        break"
   ]
  },
  {
   "cell_type": "code",
   "execution_count": 452,
   "metadata": {},
   "outputs": [
    {
     "data": {
      "text/plain": [
       "[<matplotlib.lines.Line2D at 0x11e101d68>]"
      ]
     },
     "execution_count": 452,
     "metadata": {},
     "output_type": "execute_result"
    },
    {
     "data": {
      "image/png": "[encoded data removed]",
      "text/plain": [
       "<Figure size 432x288 with 1 Axes>"
      ]
     },
     "metadata": {
      "needs_background": "light"
     },
     "output_type": "display_data"
    }
   ],
   "source": [
    "plt.plot(loss)\n",
    "#plt.yscale('log')"
   ]
  },
  {
   "cell_type": "code",
   "execution_count": 433,
   "metadata": {},
   "outputs": [
    {
     "data": {
      "text/plain": [
       "array([[-0.86287834],\n",
       "       [ 0.88834569]])"
      ]
     },
     "execution_count": 433,
     "metadata": {},
     "output_type": "execute_result"
    }
   ],
   "source": [
    "theta"
   ]
  },
  {
   "cell_type": "code",
   "execution_count": 436,
   "metadata": {},
   "outputs": [],
   "source": [
    "predict1 = theta.T @ [1, 3.5] ;\n",
    "predict2 = theta.T @ [1, 7] ;"
   ]
  },
  {
   "cell_type": "code",
   "execution_count": 453,
   "metadata": {},
   "outputs": [
    {
     "data": {
      "text/plain": [
       "(array([2.24633156]), array([5.35554147]))"
      ]
     },
     "execution_count": 453,
     "metadata": {},
     "output_type": "execute_result"
    }
   ],
   "source": [
    "predict1, predict2"
   ]
  },
  {
   "cell_type": "code",
   "execution_count": 443,
   "metadata": {},
   "outputs": [
    {
     "data": {
      "image/png": "[encoded data removed]",
      "text/plain": [
       "<Figure size 432x288 with 1 Axes>"
      ]
     },
     "metadata": {
      "needs_background": "light"
     },
     "output_type": "display_data"
    }
   ],
   "source": [
    "plt.plot(data1['pop'], data1['profit'], '.')\n",
    "plt.plot(X, theta[0] + theta[1] * X, '-')\n",
    "plt.show()"
   ]
  },
  {
   "cell_type": "markdown",
   "metadata": {},
   "source": [
    "## Linear regression with multiple variables"
   ]
  },
  {
   "cell_type": "markdown",
   "metadata": {},
   "source": [
    "### Plot the data"
   ]
  },
  {
   "cell_type": "markdown",
   "metadata": {},
   "source": [
    "The ex1data2.txt contains a training set of housing prices in Portland, Oregon. The first column is the size of the house (in square feet), the\n",
    "second column is the number of bedrooms, and the third column is the price\n",
    "of the house."
   ]
  },
  {
   "cell_type": "code",
   "execution_count": 456,
   "metadata": {},
   "outputs": [],
   "source": [
    "cols2 = ['size', 'num_of_bedrooms', 'housing_price']\n",
    "data2 = pd.read_csv('ex1/ex1data2.txt', header = None, names = cols2)"
   ]
  },
  {
   "cell_type": "code",
   "execution_count": 460,
   "metadata": {},
   "outputs": [
    {
     "data": {
      "image/png": "[encoded data removed]",
      "text/plain": [
       "<Figure size 432x288 with 1 Axes>"
      ]
     },
     "metadata": {
      "needs_background": "light"
     },
     "output_type": "display_data"
    }
   ],
   "source": [
    "data2.plot(kind='scatter',x='size',y='housing_price',color='red')\n",
    "plt.show()"
   ]
  },
  {
   "cell_type": "code",
   "execution_count": 462,
   "metadata": {},
   "outputs": [
    {
     "data": {
      "image/png": "[encoded data removed]",
      "text/plain": [
       "<Figure size 432x288 with 1 Axes>"
      ]
     },
     "metadata": {
      "needs_background": "light"
     },
     "output_type": "display_data"
    }
   ],
   "source": [
    "data2.plot(kind='scatter',x='num_of_bedrooms',y='housing_price',color='blue')\n",
    "plt.show()"
   ]
  },
  {
   "cell_type": "markdown",
   "metadata": {},
   "source": [
    "### Feature normalization"
   ]
  },
  {
   "cell_type": "code",
   "execution_count": 614,
   "metadata": {},
   "outputs": [],
   "source": [
    "# pandas.DataFrame.values: Return a Numpy representation of the DataFrame.\n",
    "X = data2[['size','num_of_bedrooms']].values\n",
    "y = pd.DataFrame(data2['housing_price']).to_numpy()\n",
    "\n",
    "# Transpose X to make it [d,n], where d is dimension of features, n is number of samples\n",
    "X = X.T\n",
    "y = y.T"
   ]
  },
  {
   "cell_type": "code",
   "execution_count": 652,
   "metadata": {},
   "outputs": [],
   "source": [
    "def feature_norm(X):\n",
    "    d = X.shape[0]\n",
    "    n = X.shape[1]\n",
    "    X_norm = np.zeros(X.shape)\n",
    "    for d in range(X.shape[0]):\n",
    "        mean = np.mean(X[d, :])\n",
    "        std = np.std(X[d, :])\n",
    "        print(mean, std)\n",
    "        X_norm[d, :] = (X[d, :] - mean)/std\n",
    "    return X_norm, mean, std"
   ]
  },
  {
   "cell_type": "code",
   "execution_count": 653,
   "metadata": {},
   "outputs": [
    {
     "name": "stdout",
     "output_type": "stream",
     "text": [
      "2000.6808510638298 786.2026187430467\n",
      "3.1702127659574466 0.7528428090618781\n"
     ]
    }
   ],
   "source": [
    "X_norm, mean, std = feature_norm(X)"
   ]
  },
  {
   "cell_type": "code",
   "execution_count": 617,
   "metadata": {},
   "outputs": [],
   "source": [
    "# Add a row of ones to X\n",
    "myX = np.append(np.ones([1, X.shape[1]]), X_norm ,0)"
   ]
  },
  {
   "cell_type": "code",
   "execution_count": 618,
   "metadata": {},
   "outputs": [
    {
     "name": "stdout",
     "output_type": "stream",
     "text": [
      "myX shape: (3, 47)\n",
      "theta shape: (3, 1)\n",
      "y shape: (1, 47)\n"
     ]
    }
   ],
   "source": [
    "print('myX shape:', myX.shape)\n",
    "print('theta shape:', theta.shape)\n",
    "print('y shape:', y.shape)"
   ]
  },
  {
   "cell_type": "markdown",
   "metadata": {},
   "source": [
    "### Gradient Descent with multiple variables"
   ]
  },
  {
   "cell_type": "code",
   "execution_count": 624,
   "metadata": {},
   "outputs": [],
   "source": [
    "def gradient_descent(iterations, alpha, myX, y):\n",
    "    # Initialize fitting parameters\n",
    "    d = myX.shape[0] # Dimensions of theta / number of features\n",
    "    theta = np.zeros((d, 1));\n",
    "    loss = []\n",
    "    for i in range(iterations):\n",
    "        # Cost function: mean squared error as a function of theta 1, 2, ..., d\n",
    "        J_theta =((theta.T @ myX - y) @ (theta.T @ myX - y).T / (2 * len(y))).item()\n",
    "        n = y.shape[1]\n",
    "        delta = ((theta.T @ myX - y) @ myX.T / n).T\n",
    "        theta = theta - alpha * delta\n",
    "        loss.append(J_theta)\n",
    "        i +=1\n",
    "    return theta, loss"
   ]
  },
  {
   "cell_type": "code",
   "execution_count": 626,
   "metadata": {},
   "outputs": [],
   "source": [
    "theta1, loss1 = gradient_descent(500, 0.01, myX, y)"
   ]
  },
  {
   "cell_type": "code",
   "execution_count": 627,
   "metadata": {},
   "outputs": [
    {
     "data": {
      "text/plain": [
       "[<matplotlib.lines.Line2D at 0x12026cdd8>]"
      ]
     },
     "execution_count": 627,
     "metadata": {},
     "output_type": "execute_result"
    },
    {
     "data": {
      "image/png": "[encoded data removed]",
      "text/plain": [
       "<Figure size 432x288 with 1 Axes>"
      ]
     },
     "metadata": {
      "needs_background": "light"
     },
     "output_type": "display_data"
    }
   ],
   "source": [
    "plt.plot(loss1)\n",
    "#plt.yscale('log')"
   ]
  },
  {
   "cell_type": "markdown",
   "metadata": {},
   "source": [
    "### Selecting learning rate"
   ]
  },
  {
   "cell_type": "code",
   "execution_count": 646,
   "metadata": {},
   "outputs": [],
   "source": [
    "theta1, loss1 = gradient_descent(500, 0.01, myX)\n",
    "theta2, loss2 = gradient_descent(500, 0.03, myX)\n",
    "theta3, loss3 = gradient_descent(500, 0.1, myX)\n",
    "theta4, loss4 = gradient_descent(500, 0.3, myX)\n",
    "theta5, loss5 = gradient_descent(500, 1, myX)"
   ]
  },
  {
   "cell_type": "code",
   "execution_count": 647,
   "metadata": {},
   "outputs": [
    {
     "data": {
      "text/plain": [
       "<matplotlib.legend.Legend at 0x11f5c7d30>"
      ]
     },
     "execution_count": 647,
     "metadata": {},
     "output_type": "execute_result"
    },
    {
     "data": {
      "image/png": "[encoded data removed]",
      "text/plain": [
       "<Figure size 432x288 with 1 Axes>"
      ]
     },
     "metadata": {
      "needs_background": "light"
     },
     "output_type": "display_data"
    }
   ],
   "source": [
    "plt.plot(loss1, label='alpha = 0.01')\n",
    "plt.plot(loss2, label='alpha = 0.03')\n",
    "plt.plot(loss3, label='alpha = 0.1')\n",
    "plt.plot(loss4, label='alpha = 0.3')\n",
    "plt.plot(loss5, label='alpha = 1')\n",
    "plt.legend()"
   ]
  },
  {
   "cell_type": "code",
   "execution_count": 648,
   "metadata": {},
   "outputs": [
    {
     "data": {
      "text/plain": [
       "(array([[ 3.38175984e+05],\n",
       "        [ 1.03032124e+05],\n",
       "        [-2.02325233e+02]]), array([[340412.57680449],\n",
       "        [109372.3081412 ],\n",
       "        [ -6502.86652974]]), array([[340412.65957447],\n",
       "        [109447.79645983],\n",
       "        [ -6578.35484435]]), array([[340412.65957447],\n",
       "        [109447.79646964],\n",
       "        [ -6578.35485416]]), array([[340412.65957447],\n",
       "        [109447.79646964],\n",
       "        [ -6578.35485416]]))"
      ]
     },
     "execution_count": 648,
     "metadata": {},
     "output_type": "execute_result"
    }
   ],
   "source": [
    "theta1, theta2, theta3, theta4, theta5"
   ]
  },
  {
   "cell_type": "markdown",
   "metadata": {},
   "source": [
    "### Made a prediction"
   ]
  },
  {
   "cell_type": "code",
   "execution_count": 654,
   "metadata": {},
   "outputs": [],
   "source": [
    "X_test = [(1650 - 2000.6808510638298)/786.2026187430467, (3-3.1702127659574466)/0.7528428090618781]"
   ]
  },
  {
   "cell_type": "code",
   "execution_count": 655,
   "metadata": {},
   "outputs": [
    {
     "data": {
      "text/plain": [
       "[-0.4460438603276164, -0.2260933675776883]"
      ]
     },
     "execution_count": 655,
     "metadata": {},
     "output_type": "execute_result"
    }
   ],
   "source": [
    "X_test"
   ]
  },
  {
   "cell_type": "code",
   "execution_count": 656,
   "metadata": {},
   "outputs": [],
   "source": [
    "X_test = [1, -0.4460438603276164, -0.2260933675776883]"
   ]
  },
  {
   "cell_type": "code",
   "execution_count": 657,
   "metadata": {},
   "outputs": [
    {
     "data": {
      "text/plain": [
       "array([293081.4643349])"
      ]
     },
     "execution_count": 657,
     "metadata": {},
     "output_type": "execute_result"
    }
   ],
   "source": [
    "theta5.T @ X_test"
   ]
  },
  {
   "cell_type": "markdown",
   "metadata": {},
   "source": [
    "## Normal Equations"
   ]
  },
  {
   "cell_type": "markdown",
   "metadata": {},
   "source": [
    "theta = (inv(X.T @ X)) @ X.T @ y"
   ]
  },
  {
   "cell_type": "code",
   "execution_count": 659,
   "metadata": {},
   "outputs": [],
   "source": [
    "X = data2[['size','num_of_bedrooms']].values\n",
    "\n",
    "X = np.append(np.ones([len(X),1]), X ,1)\n",
    "\n",
    "y = pd.DataFrame(data2['housing_price']).to_numpy()\n",
    "\n"
   ]
  },
  {
   "cell_type": "code",
   "execution_count": 661,
   "metadata": {},
   "outputs": [],
   "source": [
    "theta = (la.inv(X.T @ X)) @ X.T @ y"
   ]
  },
  {
   "cell_type": "code",
   "execution_count": 662,
   "metadata": {},
   "outputs": [
    {
     "data": {
      "text/plain": [
       "array([[89597.9095428 ],\n",
       "       [  139.21067402],\n",
       "       [-8738.01911233]])"
      ]
     },
     "execution_count": 662,
     "metadata": {},
     "output_type": "execute_result"
    }
   ],
   "source": [
    "theta"
   ]
  },
  {
   "cell_type": "code",
   "execution_count": 665,
   "metadata": {},
   "outputs": [],
   "source": [
    "X_test = [1, 1650, 3]"
   ]
  },
  {
   "cell_type": "code",
   "execution_count": 666,
   "metadata": {},
   "outputs": [
    {
     "data": {
      "text/plain": [
       "array([293081.4643349])"
      ]
     },
     "execution_count": 666,
     "metadata": {},
     "output_type": "execute_result"
    }
   ],
   "source": [
    "theta.T @ X_test"
   ]
  },
  {
   "cell_type": "markdown",
   "metadata": {},
   "source": [
    "# Week 3 - Ex2"
   ]
  },
  {
   "cell_type": "markdown",
   "metadata": {},
   "source": [
    "## Logistic Regression - Plot data"
   ]
  },
  {
   "cell_type": "code",
   "execution_count": 10,
   "metadata": {},
   "outputs": [],
   "source": [
    "cols1 = ['exam1_score', 'exam2_score', 'admitted']\n",
    "data1 = pd.read_csv('machine-learning-ex2/ex2/ex2data1.txt', header = None, names = cols1)"
   ]
  },
  {
   "cell_type": "code",
   "execution_count": 11,
   "metadata": {},
   "outputs": [
    {
     "data": {
      "text/html": [
       "<div>\n",
       "<style scoped>\n",
       "    .dataframe tbody tr th:only-of-type {\n",
       "        vertical-align: middle;\n",
       "    }\n",
       "\n",
       "    .dataframe tbody tr th {\n",
       "        vertical-align: top;\n",
       "    }\n",
       "\n",
       "    .dataframe thead th {\n",
       "        text-align: right;\n",
       "    }\n",
       "</style>\n",
       "<table border=\"1\" class=\"dataframe\">\n",
       "  <thead>\n",
       "    <tr style=\"text-align: right;\">\n",
       "      <th></th>\n",
       "      <th>exam1_score</th>\n",
       "      <th>exam2_score</th>\n",
       "      <th>admitted</th>\n",
       "    </tr>\n",
       "  </thead>\n",
       "  <tbody>\n",
       "    <tr>\n",
       "      <td>0</td>\n",
       "      <td>34.623660</td>\n",
       "      <td>78.024693</td>\n",
       "      <td>0</td>\n",
       "    </tr>\n",
       "    <tr>\n",
       "      <td>1</td>\n",
       "      <td>30.286711</td>\n",
       "      <td>43.894998</td>\n",
       "      <td>0</td>\n",
       "    </tr>\n",
       "    <tr>\n",
       "      <td>2</td>\n",
       "      <td>35.847409</td>\n",
       "      <td>72.902198</td>\n",
       "      <td>0</td>\n",
       "    </tr>\n",
       "    <tr>\n",
       "      <td>3</td>\n",
       "      <td>60.182599</td>\n",
       "      <td>86.308552</td>\n",
       "      <td>1</td>\n",
       "    </tr>\n",
       "    <tr>\n",
       "      <td>4</td>\n",
       "      <td>79.032736</td>\n",
       "      <td>75.344376</td>\n",
       "      <td>1</td>\n",
       "    </tr>\n",
       "    <tr>\n",
       "      <td>...</td>\n",
       "      <td>...</td>\n",
       "      <td>...</td>\n",
       "      <td>...</td>\n",
       "    </tr>\n",
       "    <tr>\n",
       "      <td>95</td>\n",
       "      <td>83.489163</td>\n",
       "      <td>48.380286</td>\n",
       "      <td>1</td>\n",
       "    </tr>\n",
       "    <tr>\n",
       "      <td>96</td>\n",
       "      <td>42.261701</td>\n",
       "      <td>87.103851</td>\n",
       "      <td>1</td>\n",
       "    </tr>\n",
       "    <tr>\n",
       "      <td>97</td>\n",
       "      <td>99.315009</td>\n",
       "      <td>68.775409</td>\n",
       "      <td>1</td>\n",
       "    </tr>\n",
       "    <tr>\n",
       "      <td>98</td>\n",
       "      <td>55.340018</td>\n",
       "      <td>64.931938</td>\n",
       "      <td>1</td>\n",
       "    </tr>\n",
       "    <tr>\n",
       "      <td>99</td>\n",
       "      <td>74.775893</td>\n",
       "      <td>89.529813</td>\n",
       "      <td>1</td>\n",
       "    </tr>\n",
       "  </tbody>\n",
       "</table>\n",
       "<p>100 rows × 3 columns</p>\n",
       "</div>"
      ],
      "text/plain": [
       "    exam1_score  exam2_score  admitted\n",
       "0     34.623660    78.024693         0\n",
       "1     30.286711    43.894998         0\n",
       "2     35.847409    72.902198         0\n",
       "3     60.182599    86.308552         1\n",
       "4     79.032736    75.344376         1\n",
       "..          ...          ...       ...\n",
       "95    83.489163    48.380286         1\n",
       "96    42.261701    87.103851         1\n",
       "97    99.315009    68.775409         1\n",
       "98    55.340018    64.931938         1\n",
       "99    74.775893    89.529813         1\n",
       "\n",
       "[100 rows x 3 columns]"
      ]
     },
     "execution_count": 11,
     "metadata": {},
     "output_type": "execute_result"
    }
   ],
   "source": [
    "data1"
   ]
  },
  {
   "cell_type": "code",
   "execution_count": 32,
   "metadata": {},
   "outputs": [
    {
     "data": {
      "text/plain": [
       "(100, 3)"
      ]
     },
     "execution_count": 32,
     "metadata": {},
     "output_type": "execute_result"
    }
   ],
   "source": [
    "data1.shape"
   ]
  },
  {
   "cell_type": "code",
   "execution_count": 15,
   "metadata": {},
   "outputs": [
    {
     "data": {
      "image/png": "[encoded data removed]",
      "text/plain": [
       "<Figure size 441.25x360 with 1 Axes>"
      ]
     },
     "metadata": {
      "needs_background": "light"
     },
     "output_type": "display_data"
    }
   ],
   "source": [
    "sns.relplot(x=\"exam1_score\", y=\"exam2_score\", \n",
    "            hue=\"admitted\", kind=\"scatter\",\n",
    "            data=data1);"
   ]
  },
  {
   "cell_type": "markdown",
   "metadata": {},
   "source": [
    "## Implementation"
   ]
  },
  {
   "cell_type": "markdown",
   "metadata": {},
   "source": [
    "### Sigmoid function"
   ]
  },
  {
   "cell_type": "markdown",
   "metadata": {},
   "source": [
    "Your first step is to implement this function so it can be called by the rest of your program. When you are fnished, try testing a few values by calling sigmoid(x). For large positive values of x, the sigmoid should be close to 1, while for large negative values, the sigmoid should be close to 0. Evaluating sigmoid(0) should give you exactly 0.5. Your code should also work with vectors and matrices. For a matrix, your function should perform the sigmoid function on every element."
   ]
  },
  {
   "cell_type": "code",
   "execution_count": 216,
   "metadata": {},
   "outputs": [],
   "source": [
    "def sigmoid(x):\n",
    "    return 1/(1+ np.exp(-x))"
   ]
  },
  {
   "cell_type": "code",
   "execution_count": 30,
   "metadata": {},
   "outputs": [
    {
     "data": {
      "text/plain": [
       "4.5397868702434395e-05"
      ]
     },
     "execution_count": 30,
     "metadata": {},
     "output_type": "execute_result"
    }
   ],
   "source": [
    "# Test: \n",
    "sigmoid(0)\n",
    "sigmoid(10)\n",
    "sigmoid(-10)"
   ]
  },
  {
   "cell_type": "code",
   "execution_count": 476,
   "metadata": {},
   "outputs": [
    {
     "data": {
      "text/plain": [
       "array([[0.73105858, 0.5       , 0.88079708],\n",
       "       [0.95257413, 0.88079708, 0.99330715]])"
      ]
     },
     "execution_count": 476,
     "metadata": {},
     "output_type": "execute_result"
    }
   ],
   "source": [
    "x = np.array([0,1,2])\n",
    "y = np.array([[1,0,2],[3,2,5]])\n",
    "sigmoid(x)\n",
    "sigmoid(y)"
   ]
  },
  {
   "cell_type": "markdown",
   "metadata": {},
   "source": [
    "### Cost function and gradient"
   ]
  },
  {
   "cell_type": "code",
   "execution_count": 31,
   "metadata": {},
   "outputs": [],
   "source": [
    "### Function to return the cost and gradient"
   ]
  },
  {
   "cell_type": "code",
   "execution_count": 505,
   "metadata": {},
   "outputs": [],
   "source": [
    "# Prepare training dataset\n",
    "# Assume features include only the first-order exam scores. Therefore g(X) = theta0 + theta1 * x1 + theta * x2\n",
    "X = data1[['exam1_score', 'exam2_score']].values\n",
    "y = data1['admitted'].to_numpy()\n",
    "\n",
    "# Input X has dimensions (n, d), y has dimensions (n,1)\n",
    "myX = np.append(np.ones([len(X),1]), X ,1)\n",
    "y = y.reshape(-1,1) "
   ]
  },
  {
   "cell_type": "code",
   "execution_count": 524,
   "metadata": {},
   "outputs": [],
   "source": [
    "# Initialize theta. theta has dimensions (d,1)\n",
    "d = myX.shape[1]\n",
    "theta = np.zeros([d, 1])"
   ]
  },
  {
   "cell_type": "code",
   "execution_count": 525,
   "metadata": {},
   "outputs": [],
   "source": [
    "gX = myX @ theta\n",
    "hX = sigmoid(gX)\n",
    "loss = (-1/len(y) * (y.T @ np.log(hX) + (1-y).T @ np.log(1-hX))).item()\n",
    "derivative= 1/len(y) * myX.T @ (hX - y)\n",
    "\n",
    "theta = theta - alpha * derivative"
   ]
  },
  {
   "cell_type": "code",
   "execution_count": 526,
   "metadata": {},
   "outputs": [
    {
     "data": {
      "text/plain": [
       "(100, 1)"
      ]
     },
     "execution_count": 526,
     "metadata": {},
     "output_type": "execute_result"
    }
   ],
   "source": [
    "hX.shape"
   ]
  },
  {
   "cell_type": "code",
   "execution_count": 552,
   "metadata": {},
   "outputs": [],
   "source": [
    "def costFunction(theta, X, y):\n",
    "    gX = X @ theta   # gX has shape (N,1)\n",
    "    hX = sigmoid(gX)   # hX has shape (N,1)\n",
    "    n = len(y)   #\n",
    "    loss = ((1/n) * (- y.T @ np.log(hX) - (1-y).T @ np.log(1-hX))).item()\n",
    "    #derivative = (1/n) * myX.T @ (hX - y)\n",
    "    return loss\n",
    "\n",
    "def gradientFunction(theta, X, y):\n",
    "    gX = X @ theta   # gX has shape (N,1)\n",
    "    hX = sigmoid(gX).reshape(-1, 1)   # hX has shape (N,1)\n",
    "    n = len(y)   #\n",
    "    derivative = (1/n) * X.T @ (hX - y)\n",
    "    derivative = derivative.squeeze()\n",
    "    return derivative\n"
   ]
  },
  {
   "cell_type": "markdown",
   "metadata": {},
   "source": [
    "### Learning parameters using Scipy Optimize\n"
   ]
  },
  {
   "cell_type": "markdown",
   "metadata": {},
   "source": [
    "Alternative of Octave/Matlab alternative"
   ]
  },
  {
   "cell_type": "code",
   "execution_count": 512,
   "metadata": {},
   "outputs": [],
   "source": [
    "# Initialize theta\n",
    "initial_theta = np.zeros((d, 1));"
   ]
  },
  {
   "cell_type": "markdown",
   "metadata": {},
   "source": [
    "#### scipy.optimize.fmin"
   ]
  },
  {
   "cell_type": "code",
   "execution_count": 482,
   "metadata": {},
   "outputs": [],
   "source": [
    "## Minimize a function using the downhill simplex algorithm \n",
    "## https://docs.scipy.org/doc/scipy/reference/generated/scipy.optimize.fmin.html)"
   ]
  },
  {
   "cell_type": "code",
   "execution_count": 513,
   "metadata": {},
   "outputs": [
    {
     "name": "stdout",
     "output_type": "stream",
     "text": [
      "Optimization terminated successfully.\n",
      "         Current function value: 0.203498\n",
      "         Iterations: 157\n",
      "         Function evaluations: 287\n"
     ]
    }
   ],
   "source": [
    "Result = op.fmin(func = costFunction, \n",
    "                 x0 = initial_theta, \n",
    "                 args = (myX, y)\n",
    "                        );"
   ]
  },
  {
   "cell_type": "code",
   "execution_count": 514,
   "metadata": {},
   "outputs": [
    {
     "data": {
      "text/plain": [
       "array([-25.16130062,   0.20623142,   0.20147143])"
      ]
     },
     "execution_count": 514,
     "metadata": {},
     "output_type": "execute_result"
    }
   ],
   "source": [
    "Result"
   ]
  },
  {
   "cell_type": "raw",
   "metadata": {},
   "source": [
    "Notes: \n",
    " \n",
    "Uses a Nelder-Mead simplex algorithm to find the minimum of function of one or more variables.\n",
    "\n",
    "This algorithm has a long history of successful use in applications. But it will usually be slower than an algorithm that uses first or second derivative information. In practice it can have poor performance in high-dimensional problems and is not robust to minimizing complicated functions. Additionally, there currently is no complete theory describing when the algorithm will successfully converge to the minimum, or how fast it will if it does. Both the ftol and xtol criteria must be met for convergence."
   ]
  },
  {
   "cell_type": "markdown",
   "metadata": {},
   "source": [
    "#### scipy.optimize.fmin_ncg"
   ]
  },
  {
   "cell_type": "code",
   "execution_count": 485,
   "metadata": {},
   "outputs": [],
   "source": [
    "## Newton-Conjugate-Gradient\n",
    "## https://docs.scipy.org/doc/scipy/reference/tutorial/optimize.html"
   ]
  },
  {
   "cell_type": "code",
   "execution_count": 500,
   "metadata": {},
   "outputs": [
    {
     "data": {
      "text/plain": [
       "'1.4.1'"
      ]
     },
     "execution_count": 500,
     "metadata": {},
     "output_type": "execute_result"
    }
   ],
   "source": [
    "import scipy\n",
    "scipy.__version__"
   ]
  },
  {
   "cell_type": "code",
   "execution_count": 515,
   "metadata": {},
   "outputs": [
    {
     "name": "stdout",
     "output_type": "stream",
     "text": [
      "(3,)\n"
     ]
    },
    {
     "data": {
      "text/plain": [
       "array([ -0.1       , -12.00921659, -11.26284221])"
      ]
     },
     "execution_count": 515,
     "metadata": {},
     "output_type": "execute_result"
    }
   ],
   "source": [
    "gradientFunction(initial_theta, myX, y)"
   ]
  },
  {
   "cell_type": "code",
   "execution_count": 520,
   "metadata": {},
   "outputs": [
    {
     "name": "stdout",
     "output_type": "stream",
     "text": [
      "(3,)\n",
      "(3,)\n",
      "(3,)\n",
      "(3,)\n",
      "(3,)\n",
      "(3,)\n",
      "(3,)\n",
      "(3,)\n",
      "(3,)\n",
      "(3,)\n",
      "(3,)\n",
      "(3,)\n",
      "(3,)\n",
      "(3,)\n",
      "(3,)\n",
      "(3,)\n",
      "(3,)\n",
      "(3,)\n",
      "(3,)\n",
      "(3,)\n",
      "Optimization terminated successfully.\n",
      "         Current function value: 1.559132\n",
      "         Iterations: 4\n",
      "         Function evaluations: 5\n",
      "         Gradient evaluations: 20\n",
      "         Hessian evaluations: 0\n"
     ]
    }
   ],
   "source": [
    "# Test: from https://github.com/scipy/scipy/blob/master/scipy/optimize/tests/test_optimize.py#L344\n",
    "def func(x):\n",
    "    F = np.array([[1, 1, 1],\n",
    "                       [1, 1, 0],\n",
    "                       [1, 0, 1],\n",
    "                       [1, 0, 0],\n",
    "                       [1, 0, 0]])\n",
    "    K = np.array([1., 0.3, 0.5])\n",
    "    log_pdot = np.dot(F, x)\n",
    "    logZ = np.log(sum(np.exp(log_pdot)))\n",
    "    f = logZ - np.dot(K, x)\n",
    "    return f\n",
    "\n",
    "\n",
    "def grad(x):\n",
    "    F = np.array([[1, 1, 1],\n",
    "                  [1, 1, 0],\n",
    "                  [1, 0, 1],\n",
    "                  [1, 0, 0],\n",
    "                  [1, 0, 0]])\n",
    "    K = np.array([1., 0.3, 0.5])    \n",
    "    log_pdot = np.dot(F, x)\n",
    "    logZ = np.log(sum(np.exp(log_pdot)))\n",
    "    p = np.exp(log_pdot - logZ)\n",
    "    res = np.dot(F.transpose(), p) - K\n",
    "    print(res.shape)\n",
    "    return res\n",
    "\n",
    "\n",
    "startparams = np.zeros(3, np.float64)\n",
    "retval = op.fmin_ncg(func, startparams, grad,\n",
    "                     args=(),\n",
    "                     full_output=False, \n",
    "                     retall=False)"
   ]
  },
  {
   "cell_type": "code",
   "execution_count": 553,
   "metadata": {},
   "outputs": [
    {
     "name": "stdout",
     "output_type": "stream",
     "text": [
      "Optimization terminated successfully.\n",
      "         Current function value: 0.203498\n",
      "         Iterations: 28\n",
      "         Function evaluations: 72\n",
      "         Gradient evaluations: 235\n",
      "         Hessian evaluations: 0\n"
     ]
    }
   ],
   "source": [
    "retval  = op.fmin_ncg(f = costFunction, \n",
    "                x0 = initial_theta, \n",
    "                fprime = gradientFunction,\n",
    "                args = (myX, y),\n",
    "                full_output=False,\n",
    "                retall=False)"
   ]
  },
  {
   "cell_type": "code",
   "execution_count": 554,
   "metadata": {},
   "outputs": [
    {
     "data": {
      "text/plain": [
       "array([-25.15442442,   0.20617599,   0.20141617])"
      ]
     },
     "execution_count": 554,
     "metadata": {},
     "output_type": "execute_result"
    }
   ],
   "source": [
    "retval"
   ]
  },
  {
   "cell_type": "markdown",
   "metadata": {},
   "source": [
    "#### scipy.optimize.fmin_bfgs"
   ]
  },
  {
   "cell_type": "code",
   "execution_count": 567,
   "metadata": {},
   "outputs": [],
   "source": [
    "# alternative to octave's fminunc, which uses some form of bfgs"
   ]
  },
  {
   "cell_type": "code",
   "execution_count": 555,
   "metadata": {},
   "outputs": [
    {
     "name": "stdout",
     "output_type": "stream",
     "text": [
      "Optimization terminated successfully.\n",
      "         Current function value: 0.203498\n",
      "         Iterations: 23\n",
      "         Function evaluations: 31\n",
      "         Gradient evaluations: 31\n"
     ]
    },
    {
     "name": "stderr",
     "output_type": "stream",
     "text": [
      "/Users/juersong/miniconda3/lib/python3.7/site-packages/ipykernel_launcher.py:5: RuntimeWarning: divide by zero encountered in log\n",
      "  \"\"\"\n",
      "/Users/juersong/miniconda3/lib/python3.7/site-packages/ipykernel_launcher.py:5: RuntimeWarning: invalid value encountered in matmul\n",
      "  \"\"\"\n"
     ]
    }
   ],
   "source": [
    "retval = op.fmin_bfgs(f = costFunction, \n",
    "                x0 = initial_theta, \n",
    "                fprime = gradientFunction,\n",
    "                args = (myX, y),\n",
    "                full_output=False,\n",
    "                retall=False)"
   ]
  },
  {
   "cell_type": "code",
   "execution_count": 556,
   "metadata": {},
   "outputs": [
    {
     "data": {
      "text/plain": [
       "array([-25.16133284,   0.2062317 ,   0.2014716 ])"
      ]
     },
     "execution_count": 556,
     "metadata": {},
     "output_type": "execute_result"
    }
   ],
   "source": [
    "retval"
   ]
  },
  {
   "cell_type": "markdown",
   "metadata": {},
   "source": [
    "#### My gradient descent"
   ]
  },
  {
   "cell_type": "code",
   "execution_count": 583,
   "metadata": {},
   "outputs": [],
   "source": [
    "def optimizeLogisticRegression(X, y, theta, iterations, alpha):\n",
    "    loss = []\n",
    "    for i in range(iterations):\n",
    "        cost = costFunction(theta, X, y)\n",
    "        derivative = gradientFunction(theta,X,y).reshape(-1,1)\n",
    "        theta = theta - alpha * derivative\n",
    "        loss.append(cost)\n",
    "        i += 1\n",
    "    return loss, theta"
   ]
  },
  {
   "cell_type": "code",
   "execution_count": 584,
   "metadata": {},
   "outputs": [],
   "source": [
    "initial_theta = np.zeros((d, 1));\n",
    "loss, return_theta = optimizeLogisticRegression(myX, y, initial_theta, iterations=1000000, alpha=0.001)"
   ]
  },
  {
   "cell_type": "code",
   "execution_count": 585,
   "metadata": {},
   "outputs": [
    {
     "data": {
      "text/plain": [
       "[<matplotlib.lines.Line2D at 0x130069a90>]"
      ]
     },
     "execution_count": 585,
     "metadata": {},
     "output_type": "execute_result"
    },
    {
     "data": {
      "image/png": "[encoded data removed]",
      "text/plain": [
       "<Figure size 432x288 with 1 Axes>"
      ]
     },
     "metadata": {
      "needs_background": "light"
     },
     "output_type": "display_data"
    }
   ],
   "source": [
    "plt.plot(loss)"
   ]
  },
  {
   "cell_type": "markdown",
   "metadata": {},
   "source": [
    "It takes a very long time and many iterations (1MM) to get it to the converge!"
   ]
  },
  {
   "cell_type": "code",
   "execution_count": 588,
   "metadata": {},
   "outputs": [
    {
     "name": "stdout",
     "output_type": "stream",
     "text": [
      "0.6931471805599453\n"
     ]
    }
   ],
   "source": [
    "## call your costFunction using the initial parameters of theta. \n",
    "## You should see that the cost is about 0.693.\n",
    "print(loss[0]) "
   ]
  },
  {
   "cell_type": "code",
   "execution_count": 590,
   "metadata": {},
   "outputs": [
    {
     "name": "stdout",
     "output_type": "stream",
     "text": [
      "0.2246541908824744\n"
     ]
    }
   ],
   "source": [
    "print(loss[-1])"
   ]
  },
  {
   "cell_type": "markdown",
   "metadata": {},
   "source": [
    "Compared to scipy optimize functions, which reports \"Current function value: 0.203498\". After 1MM iterations, it still hasn't converged."
   ]
  },
  {
   "cell_type": "markdown",
   "metadata": {},
   "source": [
    "### Predict"
   ]
  },
  {
   "cell_type": "code",
   "execution_count": 603,
   "metadata": {},
   "outputs": [],
   "source": [
    "def PredictLogisticRegression(X_test, theta):\n",
    "    gX = X_test @ theta   # gX has shape (N,1)\n",
    "    hX = sigmoid(gX)   # hX has shape (N,1)\n",
    "    if X_test @ theta > 0.5:\n",
    "        y = 1\n",
    "    else:\n",
    "        y = 0\n",
    "    return hX, y"
   ]
  },
  {
   "cell_type": "markdown",
   "metadata": {},
   "source": [
    "For a student with an Exam 1 score of 45 and an Exam 2 score of 85, you should expect to see an admission\n",
    "probability of 0.776."
   ]
  },
  {
   "cell_type": "code",
   "execution_count": 604,
   "metadata": {},
   "outputs": [],
   "source": [
    "X_test = np.array([1, 45, 85])"
   ]
  },
  {
   "cell_type": "code",
   "execution_count": 605,
   "metadata": {},
   "outputs": [
    {
     "data": {
      "text/plain": [
       "(0.776290724058894, 1)"
      ]
     },
     "execution_count": 605,
     "metadata": {},
     "output_type": "execute_result"
    }
   ],
   "source": [
    "PredictLogisticRegression(X_test, retval)"
   ]
  },
  {
   "cell_type": "markdown",
   "metadata": {},
   "source": [
    "### Plot decision boundary"
   ]
  },
  {
   "cell_type": "code",
   "execution_count": 358,
   "metadata": {},
   "outputs": [],
   "source": [
    "## theta0 + theta1 * x1 + theta2 * x2 = 0\n",
    "## ==> x2 = -1/theta2 * (theta0 + theta1 * x1)"
   ]
  },
  {
   "cell_type": "code",
   "execution_count": 596,
   "metadata": {},
   "outputs": [
    {
     "data": {
      "text/plain": [
       "array([-25.16133284,   0.2062317 ,   0.2014716 ])"
      ]
     },
     "execution_count": 596,
     "metadata": {},
     "output_type": "execute_result"
    }
   ],
   "source": [
    "retval"
   ]
  },
  {
   "cell_type": "code",
   "execution_count": 602,
   "metadata": {},
   "outputs": [
    {
     "data": {
      "text/plain": [
       "<matplotlib.collections.PathCollection at 0x1323da2b0>"
      ]
     },
     "execution_count": 602,
     "metadata": {},
     "output_type": "execute_result"
    },
    {
     "data": {
      "image/png": "[encoded data removed]",
      "text/plain": [
       "<Figure size 432x288 with 1 Axes>"
      ]
     },
     "metadata": {
      "needs_background": "light"
     },
     "output_type": "display_data"
    }
   ],
   "source": [
    "ax = plt.gca()\n",
    "#ax.autoscale(False)\n",
    "x1_vals = np.arange(100)\n",
    "x2_vals = -1/retval[2] * (retval[0] + retval[1] * x1_vals)\n",
    "plt.plot(x1_vals, x2_vals, '--', c=\"orange\")\n",
    "\n",
    "plt.scatter(data1[data1['admitted']==1][\"exam1_score\"],\n",
    "            data1[data1['admitted']==1][\"exam2_score\"], marker='+')\n",
    "plt.scatter(data1[data1['admitted']==0][\"exam1_score\"],\n",
    "            data1[data1['admitted']==0][\"exam2_score\"], c= 'green', marker='o')\n"
   ]
  },
  {
   "cell_type": "markdown",
   "metadata": {},
   "source": [
    "## Regularized logistic regression"
   ]
  },
  {
   "cell_type": "markdown",
   "metadata": {},
   "source": [
    "### Plotting the data"
   ]
  },
  {
   "cell_type": "code",
   "execution_count": 608,
   "metadata": {},
   "outputs": [],
   "source": [
    "cols2 = ['Microchip_Test_1', 'Microchip_Test_2', 'Accepted']\n",
    "data2 = pd.read_csv('machine-learning-ex2/ex2/ex2data2.txt', header = None, names = cols2)"
   ]
  },
  {
   "cell_type": "code",
   "execution_count": 607,
   "metadata": {},
   "outputs": [
    {
     "data": {
      "text/html": [
       "<div>\n",
       "<style scoped>\n",
       "    .dataframe tbody tr th:only-of-type {\n",
       "        vertical-align: middle;\n",
       "    }\n",
       "\n",
       "    .dataframe tbody tr th {\n",
       "        vertical-align: top;\n",
       "    }\n",
       "\n",
       "    .dataframe thead th {\n",
       "        text-align: right;\n",
       "    }\n",
       "</style>\n",
       "<table border=\"1\" class=\"dataframe\">\n",
       "  <thead>\n",
       "    <tr style=\"text-align: right;\">\n",
       "      <th></th>\n",
       "      <th>exam1_score</th>\n",
       "      <th>exam2_score</th>\n",
       "      <th>admitted</th>\n",
       "    </tr>\n",
       "  </thead>\n",
       "  <tbody>\n",
       "    <tr>\n",
       "      <td>0</td>\n",
       "      <td>0.051267</td>\n",
       "      <td>0.699560</td>\n",
       "      <td>1</td>\n",
       "    </tr>\n",
       "    <tr>\n",
       "      <td>1</td>\n",
       "      <td>-0.092742</td>\n",
       "      <td>0.684940</td>\n",
       "      <td>1</td>\n",
       "    </tr>\n",
       "    <tr>\n",
       "      <td>2</td>\n",
       "      <td>-0.213710</td>\n",
       "      <td>0.692250</td>\n",
       "      <td>1</td>\n",
       "    </tr>\n",
       "    <tr>\n",
       "      <td>3</td>\n",
       "      <td>-0.375000</td>\n",
       "      <td>0.502190</td>\n",
       "      <td>1</td>\n",
       "    </tr>\n",
       "    <tr>\n",
       "      <td>4</td>\n",
       "      <td>-0.513250</td>\n",
       "      <td>0.465640</td>\n",
       "      <td>1</td>\n",
       "    </tr>\n",
       "    <tr>\n",
       "      <td>...</td>\n",
       "      <td>...</td>\n",
       "      <td>...</td>\n",
       "      <td>...</td>\n",
       "    </tr>\n",
       "    <tr>\n",
       "      <td>113</td>\n",
       "      <td>-0.720620</td>\n",
       "      <td>0.538740</td>\n",
       "      <td>0</td>\n",
       "    </tr>\n",
       "    <tr>\n",
       "      <td>114</td>\n",
       "      <td>-0.593890</td>\n",
       "      <td>0.494880</td>\n",
       "      <td>0</td>\n",
       "    </tr>\n",
       "    <tr>\n",
       "      <td>115</td>\n",
       "      <td>-0.484450</td>\n",
       "      <td>0.999270</td>\n",
       "      <td>0</td>\n",
       "    </tr>\n",
       "    <tr>\n",
       "      <td>116</td>\n",
       "      <td>-0.006336</td>\n",
       "      <td>0.999270</td>\n",
       "      <td>0</td>\n",
       "    </tr>\n",
       "    <tr>\n",
       "      <td>117</td>\n",
       "      <td>0.632650</td>\n",
       "      <td>-0.030612</td>\n",
       "      <td>0</td>\n",
       "    </tr>\n",
       "  </tbody>\n",
       "</table>\n",
       "<p>118 rows × 3 columns</p>\n",
       "</div>"
      ],
      "text/plain": [
       "     exam1_score  exam2_score  admitted\n",
       "0       0.051267     0.699560         1\n",
       "1      -0.092742     0.684940         1\n",
       "2      -0.213710     0.692250         1\n",
       "3      -0.375000     0.502190         1\n",
       "4      -0.513250     0.465640         1\n",
       "..           ...          ...       ...\n",
       "113    -0.720620     0.538740         0\n",
       "114    -0.593890     0.494880         0\n",
       "115    -0.484450     0.999270         0\n",
       "116    -0.006336     0.999270         0\n",
       "117     0.632650    -0.030612         0\n",
       "\n",
       "[118 rows x 3 columns]"
      ]
     },
     "execution_count": 607,
     "metadata": {},
     "output_type": "execute_result"
    }
   ],
   "source": [
    "data2"
   ]
  },
  {
   "cell_type": "code",
   "execution_count": 612,
   "metadata": {},
   "outputs": [
    {
     "data": {
      "image/png": "[encoded data removed]",
      "text/plain": [
       "<Figure size 432x288 with 1 Axes>"
      ]
     },
     "metadata": {
      "needs_background": "light"
     },
     "output_type": "display_data"
    }
   ],
   "source": [
    "x1 = plt.scatter(data2[data2['Accepted']==1][\"Microchip_Test_1\"],\n",
    "            data2[data2['Accepted']==1][\"Microchip_Test_2\"], marker='+')\n",
    "x2 = plt.scatter(data2[data2['Accepted']==0][\"Microchip_Test_1\"],\n",
    "            data2[data2['Accepted']==0][\"Microchip_Test_2\"], c= 'yellow', marker='o')\n",
    "plt.xlabel('Microchip Test 1')\n",
    "plt.ylabel('Microchip Test 2')\n",
    "plt.title('Plot of training data')\n",
    "plt.legend((x1,x2),('Acepted: y=1', 'Not Accepted: y=0'),loc='lower left', ncol=3, fontsize=8)\n",
    "plt.show()"
   ]
  },
  {
   "cell_type": "markdown",
   "metadata": {},
   "source": [
    "### Feature mapping"
   ]
  },
  {
   "cell_type": "code",
   "execution_count": 613,
   "metadata": {},
   "outputs": [],
   "source": [
    "# we will map the features into all polynomial terms of x1 and x2 up to the sixth power."
   ]
  },
  {
   "cell_type": "code",
   "execution_count": 615,
   "metadata": {},
   "outputs": [],
   "source": [
    "from sklearn.preprocessing import PolynomialFeatures  \n",
    "#https://scikit-learn.org/stable/modules/generated/sklearn.preprocessing.PolynomialFeatures.html"
   ]
  },
  {
   "cell_type": "code",
   "execution_count": 630,
   "metadata": {},
   "outputs": [],
   "source": [
    "X2 = data2[['Microchip_Test_1', 'Microchip_Test_2']].values\n",
    "y2 = data2['Accepted'].to_numpy().reshape(-1,1)"
   ]
  },
  {
   "cell_type": "code",
   "execution_count": 625,
   "metadata": {},
   "outputs": [],
   "source": [
    "poly = PolynomialFeatures(6)\n",
    "X2t = poly.fit_transform(X2)"
   ]
  },
  {
   "cell_type": "code",
   "execution_count": 638,
   "metadata": {},
   "outputs": [
    {
     "data": {
      "text/plain": [
       "(118, 28)"
      ]
     },
     "execution_count": 638,
     "metadata": {},
     "output_type": "execute_result"
    }
   ],
   "source": [
    "X2t.shape"
   ]
  },
  {
   "cell_type": "code",
   "execution_count": 632,
   "metadata": {},
   "outputs": [
    {
     "data": {
      "text/plain": [
       "(118, 1)"
      ]
     },
     "execution_count": 632,
     "metadata": {},
     "output_type": "execute_result"
    }
   ],
   "source": [
    "y2.shape"
   ]
  },
  {
   "cell_type": "markdown",
   "metadata": {},
   "source": [
    "### Cost function and gradient"
   ]
  },
  {
   "cell_type": "code",
   "execution_count": 662,
   "metadata": {},
   "outputs": [],
   "source": [
    "def costFunctionReg(theta, X, y, bambda):\n",
    "    gX = X @ theta\n",
    "    hX = sigmoid(gX)\n",
    "    n = len(y)\n",
    "    loss = ((1/n) * (- y.T @ np.log(hX) - (1-y).T @ np.log(1-hX)) +\n",
    "           bambda / (2 *n) * (theta[1:].T @ theta[1:])).item()\n",
    "    return loss\n",
    "    \n",
    "\n",
    "def gradFunctionReg(theta, X, y, bambda):\n",
    "    gX = X @ theta   # gX has shape (N,1)\n",
    "    hX = sigmoid(gX).reshape(-1, 1)   # hX has shape (N,1)\n",
    "    n = len(y)\n",
    "    thetap = (np.insert(theta[1:], obj= 0, values = 0)).reshape(-1,1)\n",
    "    derivative = (1/n) * X.T @ (hX - y) + bambda / n * thetap\n",
    "    derivative = derivative.squeeze()\n",
    "    return derivative\n"
   ]
  },
  {
   "cell_type": "code",
   "execution_count": 663,
   "metadata": {},
   "outputs": [],
   "source": [
    "# Initialize theta\n",
    "d = X2t.shape[1]\n",
    "initial_theta = np.zeros([d, 1])"
   ]
  },
  {
   "cell_type": "code",
   "execution_count": 637,
   "metadata": {},
   "outputs": [
    {
     "data": {
      "text/plain": [
       "0.6931471805599454"
      ]
     },
     "execution_count": 637,
     "metadata": {},
     "output_type": "execute_result"
    }
   ],
   "source": [
    "costFunctionReg(initial_theta, X2t, y2, bambda = 0.5)"
   ]
  },
  {
   "cell_type": "code",
   "execution_count": 664,
   "metadata": {},
   "outputs": [
    {
     "data": {
      "text/plain": [
       "array([8.47457627e-03, 1.87880932e-02, 7.77711864e-05, 5.03446395e-02,\n",
       "       1.15013308e-02, 3.76648474e-02, 1.83559872e-02, 7.32393391e-03,\n",
       "       8.19244468e-03, 2.34764889e-02, 3.93486234e-02, 2.23923907e-03,\n",
       "       1.28600503e-02, 3.09593720e-03, 3.93028171e-02, 1.99707467e-02,\n",
       "       4.32983232e-03, 3.38643902e-03, 5.83822078e-03, 4.47629067e-03,\n",
       "       3.10079849e-02, 3.10312442e-02, 1.09740238e-03, 6.31570797e-03,\n",
       "       4.08503006e-04, 7.26504316e-03, 1.37646175e-03, 3.87936363e-02])"
      ]
     },
     "execution_count": 664,
     "metadata": {},
     "output_type": "execute_result"
    }
   ],
   "source": [
    "gradFunctionReg(initial_theta, X2t, y2, bambda = 0.5)"
   ]
  },
  {
   "cell_type": "markdown",
   "metadata": {},
   "source": [
    "### Learning the parameters"
   ]
  },
  {
   "cell_type": "code",
   "execution_count": 654,
   "metadata": {},
   "outputs": [],
   "source": [
    "bambda = 0.5"
   ]
  },
  {
   "cell_type": "code",
   "execution_count": 665,
   "metadata": {},
   "outputs": [
    {
     "name": "stdout",
     "output_type": "stream",
     "text": [
      "Optimization terminated successfully.\n",
      "         Current function value: 0.482934\n",
      "         Iterations: 59\n",
      "         Function evaluations: 60\n",
      "         Gradient evaluations: 60\n"
     ]
    }
   ],
   "source": [
    "retval = op.fmin_bfgs(f = costFunctionReg, \n",
    "                x0 = initial_theta, \n",
    "                fprime = gradFunctionReg,\n",
    "                args = (X2t, y2, bambda),\n",
    "                full_output=False,\n",
    "                retall=False)"
   ]
  },
  {
   "cell_type": "code",
   "execution_count": 666,
   "metadata": {},
   "outputs": [
    {
     "data": {
      "text/plain": [
       "array([ 1.69991248e+00,  9.72925440e-01,  1.67212125e+00, -2.71227470e+00,\n",
       "       -1.49290123e+00, -2.11862134e+00,  2.70884646e-01, -5.67763958e-01,\n",
       "       -5.02056252e-01, -1.94281156e-01, -1.97453078e+00, -2.08421856e-02,\n",
       "       -8.95028328e-01, -4.75646810e-01, -1.62944985e+00, -3.00810447e-01,\n",
       "       -2.95953237e-01,  1.00968578e-03, -4.35634896e-01, -4.80985867e-01,\n",
       "       -4.75116187e-01, -1.42887006e+00,  8.24457081e-02, -4.14312912e-01,\n",
       "        5.30420292e-02, -4.86692647e-01, -2.77324486e-01, -1.13436781e+00])"
      ]
     },
     "execution_count": 666,
     "metadata": {},
     "output_type": "execute_result"
    }
   ],
   "source": [
    "retval"
   ]
  },
  {
   "cell_type": "markdown",
   "metadata": {},
   "source": [
    "### Plot decision boundary"
   ]
  },
  {
   "cell_type": "code",
   "execution_count": 692,
   "metadata": {},
   "outputs": [],
   "source": [
    "# X - some data in 2dimensional np.array\n",
    "\n",
    "x1_min, x1_max = data2['Microchip_Test_1'].min() - 1, data2['Microchip_Test_1'].max() + 1\n",
    "x2_min, x2_max = data2['Microchip_Test_2'].min() - 1, data2['Microchip_Test_2'].max() + 1\n",
    "xx1, xx2 = np.meshgrid(np.arange(x1_min, x1_max, 0.25),\n",
    "                     np.arange(x2_min, x2_max, 0.25))\n"
   ]
  },
  {
   "cell_type": "code",
   "execution_count": 693,
   "metadata": {},
   "outputs": [],
   "source": [
    "x1 = xx1.flatten().reshape(-1,1)\n",
    "x2 = xx2.flatten().reshape(-1,1)\n",
    "x3 = np.column_stack((x1,x2))"
   ]
  },
  {
   "cell_type": "code",
   "execution_count": 699,
   "metadata": {},
   "outputs": [],
   "source": [
    "poly = PolynomialFeatures(6)\n",
    "X_grid = poly.fit_transform(x3)"
   ]
  },
  {
   "cell_type": "code",
   "execution_count": 701,
   "metadata": {},
   "outputs": [],
   "source": [
    "Z = sigmoid(X_grid @ retval.reshape(-1,1))\n",
    "Z = Z.reshape(xx1.shape)"
   ]
  },
  {
   "cell_type": "code",
   "execution_count": 705,
   "metadata": {},
   "outputs": [
    {
     "data": {
      "image/png": "[encoded data removed]",
      "text/plain": [
       "<Figure size 432x288 with 1 Axes>"
      ]
     },
     "metadata": {
      "needs_background": "light"
     },
     "output_type": "display_data"
    }
   ],
   "source": [
    "# Put the result into a color plot\n",
    "Z = Z.reshape(xx.shape)\n",
    "plt.contourf(xx1, xx2, Z)\n",
    "plt.axis('off')\n",
    "\n",
    "# Plot also the training points\n",
    "x1 = plt.scatter(data2[data2['Accepted']==1][\"Microchip_Test_1\"],\n",
    "            data2[data2['Accepted']==1][\"Microchip_Test_2\"], marker='+')\n",
    "x2 = plt.scatter(data2[data2['Accepted']==0][\"Microchip_Test_1\"],\n",
    "            data2[data2['Accepted']==0][\"Microchip_Test_2\"], c= 'yellow', marker='o')\n",
    "plt.xlabel('Microchip Test 1')\n",
    "plt.ylabel('Microchip Test 2')\n",
    "plt.title('Plot of training data')\n",
    "plt.legend((x1,x2),('Acepted: y=1', 'Not Accepted: y=0'),loc='lower left', ncol=3, fontsize=8)\n",
    "plt.show()"
   ]
  },
  {
   "cell_type": "markdown",
   "metadata": {},
   "source": [
    "### Change regularization terms"
   ]
  },
  {
   "cell_type": "code",
   "execution_count": 706,
   "metadata": {},
   "outputs": [
    {
     "name": "stdout",
     "output_type": "stream",
     "text": [
      "Optimization terminated successfully.\n",
      "         Current function value: 0.394594\n",
      "         Iterations: 91\n",
      "         Function evaluations: 92\n",
      "         Gradient evaluations: 92\n"
     ]
    }
   ],
   "source": [
    "bambda = 0.1\n",
    "retval1 = op.fmin_bfgs(f = costFunctionReg, \n",
    "                x0 = initial_theta, \n",
    "                fprime = gradFunctionReg,\n",
    "                args = (X2t, y2, bambda),\n",
    "                full_output=False,\n",
    "                retall=False)"
   ]
  },
  {
   "cell_type": "code",
   "execution_count": 707,
   "metadata": {},
   "outputs": [
    {
     "name": "stdout",
     "output_type": "stream",
     "text": [
      "Optimization terminated successfully.\n",
      "         Current function value: 0.514096\n",
      "         Iterations: 51\n",
      "         Function evaluations: 52\n",
      "         Gradient evaluations: 52\n"
     ]
    }
   ],
   "source": [
    "bambda = 0.8\n",
    "retval8 = op.fmin_bfgs(f = costFunctionReg, \n",
    "                x0 = initial_theta, \n",
    "                fprime = gradFunctionReg,\n",
    "                args = (X2t, y2, bambda),\n",
    "                full_output=False,\n",
    "                retall=False)"
   ]
  },
  {
   "cell_type": "code",
   "execution_count": 708,
   "metadata": {},
   "outputs": [
    {
     "data": {
      "text/plain": [
       "(-1.83007, 1.91993, -1.76974, 1.98026)"
      ]
     },
     "execution_count": 708,
     "metadata": {},
     "output_type": "execute_result"
    },
    {
     "data": {
      "image/png": "[encoded data removed]",
      "text/plain": [
       "<Figure size 432x288 with 1 Axes>"
      ]
     },
     "metadata": {
      "needs_background": "light"
     },
     "output_type": "display_data"
    }
   ],
   "source": [
    "Z1 = sigmoid(X_grid @ retval1.reshape(-1,1))\n",
    "Z1 = Z1.reshape(xx1.shape)\n",
    "# Put the result into a color plot\n",
    "Z1 = Z1.reshape(xx.shape)\n",
    "plt.contourf(xx1, xx2, Z1)\n",
    "plt.axis('off')\n"
   ]
  },
  {
   "cell_type": "code",
   "execution_count": 711,
   "metadata": {},
   "outputs": [
    {
     "data": {
      "text/plain": [
       "(-1.83007, 1.91993, -1.76974, 1.98026)"
      ]
     },
     "execution_count": 711,
     "metadata": {},
     "output_type": "execute_result"
    },
    {
     "data": {
      "image/png": "[encoded data removed]",
      "text/plain": [
       "<Figure size 432x288 with 1 Axes>"
      ]
     },
     "metadata": {
      "needs_background": "light"
     },
     "output_type": "display_data"
    }
   ],
   "source": [
    "Z8 = sigmoid(X_grid @ retval8.reshape(-1,1))\n",
    "Z8 = Z8.reshape(xx1.shape)\n",
    "# Put the result into a color plot\n",
    "Z8 = Z8.reshape(xx.shape)\n",
    "plt.contourf(xx1, xx2, Z8)\n",
    "plt.axis('off')\n"
   ]
  },
  {
   "cell_type": "markdown",
   "metadata": {},
   "source": [
    "# Week 4 - Ex3"
   ]
  },
  {
   "cell_type": "markdown",
   "metadata": {},
   "source": [
    "## Multi-class Classification"
   ]
  },
  {
   "cell_type": "markdown",
   "metadata": {},
   "source": [
    "### Load data"
   ]
  },
  {
   "cell_type": "code",
   "execution_count": 314,
   "metadata": {},
   "outputs": [],
   "source": [
    "from scipy.io import loadmat"
   ]
  },
  {
   "cell_type": "code",
   "execution_count": 404,
   "metadata": {},
   "outputs": [],
   "source": [
    "matdata = loadmat('machine-learning-ex3/ex3/ex3data1.mat')\n",
    "X = matdata['X']\n",
    "y = matdata['y']"
   ]
  },
  {
   "cell_type": "markdown",
   "metadata": {},
   "source": [
    "There are 5000 training examples in ex3data1.mat, where each training\n",
    "example is a 20 pixel by 20 pixel grayscale image of the digit. Each pixel is\n",
    "represented by a floating point number indicating the grayscale intensity at\n",
    "that location. The 20 by 20 grid of pixels is unrolled into a 400-dimensional\n",
    "vector. Each of these training examples becomes a single row in our data\n",
    "matrix X. This gives us a 5000 by 400 matrix X where every row is a training\n",
    "example for a handwritten digit image."
   ]
  },
  {
   "cell_type": "code",
   "execution_count": 325,
   "metadata": {},
   "outputs": [
    {
     "data": {
      "text/plain": [
       "(5000, 400)"
      ]
     },
     "execution_count": 325,
     "metadata": {},
     "output_type": "execute_result"
    }
   ],
   "source": [
    "X.shape"
   ]
  },
  {
   "cell_type": "code",
   "execution_count": 87,
   "metadata": {},
   "outputs": [
    {
     "data": {
      "text/plain": [
       "(5000, 1)"
      ]
     },
     "execution_count": 87,
     "metadata": {},
     "output_type": "execute_result"
    }
   ],
   "source": [
    "y.shape"
   ]
  },
  {
   "cell_type": "markdown",
   "metadata": {},
   "source": [
    "### Display image"
   ]
  },
  {
   "cell_type": "code",
   "execution_count": 363,
   "metadata": {},
   "outputs": [],
   "source": [
    "filename = 'my.png'"
   ]
  },
  {
   "cell_type": "code",
   "execution_count": 364,
   "metadata": {},
   "outputs": [],
   "source": [
    "def save_images(images,filename):\n",
    "    \n",
    "    from PIL import Image\n",
    "    # Compute number of items to display\n",
    "    row = int(math.floor(math.sqrt(len(images))))\n",
    "    col = int(math.ceil(len(images)/row))\n",
    "    \n",
    "    # for each image\n",
    "    w = int(math.sqrt(X.shape[1]))\n",
    "    h = int(np.round(X.shape[1]/w))\n",
    "    \n",
    "    height = row * h\n",
    "    width = col * w\n",
    "    output = np.zeros((height, width))\n",
    "\n",
    "    for i in range(row):\n",
    "        for j in range(col):\n",
    "            image = images[i*row+j]\n",
    "            image = image.reshape(h,w)\n",
    "            output[i*h:i*h + h,j*w:j*w+w] = image\n",
    "    output = (output * 255).clip(0,255).astype('uint8')\n",
    "    output = output.T\n",
    "    im = Image.fromarray(output)\n",
    "    im.save(filename)\n",
    "    im.show()"
   ]
  },
  {
   "cell_type": "code",
   "execution_count": 365,
   "metadata": {},
   "outputs": [],
   "source": [
    "filename = 'my.png'\n",
    "save_images(X,filename)"
   ]
  },
  {
   "cell_type": "markdown",
   "metadata": {},
   "source": [
    "### One-vs-all Classication"
   ]
  },
  {
   "cell_type": "code",
   "execution_count": 415,
   "metadata": {},
   "outputs": [
    {
     "data": {
      "text/plain": [
       "array([ 1,  2,  3,  4,  5,  6,  7,  8,  9, 10], dtype=uint8)"
      ]
     },
     "execution_count": 415,
     "metadata": {},
     "output_type": "execute_result"
    }
   ],
   "source": [
    "y.shape\n",
    "n = len(y)\n",
    "y_class = np.unique(y)\n",
    "y_class"
   ]
  },
  {
   "cell_type": "code",
   "execution_count": 416,
   "metadata": {},
   "outputs": [
    {
     "data": {
      "text/plain": [
       "(5000, 401)"
      ]
     },
     "execution_count": 416,
     "metadata": {},
     "output_type": "execute_result"
    }
   ],
   "source": [
    "# Add ones to the X data matrix\n",
    "myX = np.append(np.ones([len(X),1]), X ,1)\n",
    "myX.shape"
   ]
  },
  {
   "cell_type": "code",
   "execution_count": 417,
   "metadata": {},
   "outputs": [
    {
     "data": {
      "text/plain": [
       "(400, 1)"
      ]
     },
     "execution_count": 417,
     "metadata": {},
     "output_type": "execute_result"
    }
   ],
   "source": [
    "initial_theta.shape"
   ]
  },
  {
   "cell_type": "code",
   "execution_count": 418,
   "metadata": {},
   "outputs": [],
   "source": [
    "def costFunctionReg(theta, X, y, bambda):\n",
    "    gX = X @ theta\n",
    "    hX = sigmoid(gX)\n",
    "    n = len(y)\n",
    "    loss = ((1/n) * (- y.T @ np.log(hX) - (1-y).T @ np.log(1-hX)) +\n",
    "           bambda / (2 *n) * (theta[1:].T @ theta[1:])).item()\n",
    "    return loss\n",
    "    \n",
    "\n",
    "def gradFunctionReg(theta, X, y, bambda):\n",
    "    gX = X @ theta   # gX has shape (N,1)\n",
    "    hX = sigmoid(gX).reshape(-1, 1)   # hX has shape (N,1)\n",
    "    n = len(y)\n",
    "    thetap = (np.insert(theta[1:], obj= 0, values = 0)).reshape(-1,1)\n",
    "    derivative = (1/n) * X.T @ (hX - y) + bambda / n * thetap\n",
    "    derivative = derivative.squeeze()\n",
    "    return derivative"
   ]
  },
  {
   "cell_type": "code",
   "execution_count": 420,
   "metadata": {},
   "outputs": [],
   "source": [
    "def one_vs_all_logistic_classification(X, y, bambda):\n",
    "    \n",
    "    retval_all = []\n",
    "    \n",
    "    y_class = np.unique(y)\n",
    "    \n",
    "    for k in y_class:\n",
    "        # Initialize theta\n",
    "        d = X.shape[1]\n",
    "        initial_theta = np.zeros([d, 1])\n",
    "        yk = 1 * (y == k) \n",
    "        retval_k = op.fmin_bfgs(f = costFunctionReg, \n",
    "                    x0 = initial_theta, \n",
    "                    fprime = gradFunctionReg,\n",
    "                    args = (X, yk, bambda),\n",
    "                    full_output=False,\n",
    "                    retall=False)\n",
    "        retval_all.append(retval_k)\n",
    "        \n",
    "    return retval_all"
   ]
  },
  {
   "cell_type": "code",
   "execution_count": 421,
   "metadata": {},
   "outputs": [
    {
     "name": "stdout",
     "output_type": "stream",
     "text": [
      "Optimization terminated successfully.\n",
      "         Current function value: 0.022429\n",
      "         Iterations: 203\n",
      "         Function evaluations: 204\n",
      "         Gradient evaluations: 204\n",
      "Optimization terminated successfully.\n",
      "         Current function value: 0.062418\n",
      "         Iterations: 268\n",
      "         Function evaluations: 269\n",
      "         Gradient evaluations: 269\n",
      "Optimization terminated successfully.\n",
      "         Current function value: 0.066870\n",
      "         Iterations: 280\n",
      "         Function evaluations: 281\n",
      "         Gradient evaluations: 281\n",
      "Optimization terminated successfully.\n",
      "         Current function value: 0.045644\n",
      "         Iterations: 251\n",
      "         Function evaluations: 252\n",
      "         Gradient evaluations: 252\n",
      "Optimization terminated successfully.\n",
      "         Current function value: 0.068821\n",
      "         Iterations: 284\n",
      "         Function evaluations: 285\n",
      "         Gradient evaluations: 285\n",
      "Optimization terminated successfully.\n",
      "         Current function value: 0.029461\n",
      "         Iterations: 230\n",
      "         Function evaluations: 231\n",
      "         Gradient evaluations: 231\n",
      "Optimization terminated successfully.\n",
      "         Current function value: 0.041380\n",
      "         Iterations: 231\n",
      "         Function evaluations: 232\n",
      "         Gradient evaluations: 232\n",
      "Optimization terminated successfully.\n",
      "         Current function value: 0.087502\n",
      "         Iterations: 282\n",
      "         Function evaluations: 283\n",
      "         Gradient evaluations: 283\n",
      "Optimization terminated successfully.\n",
      "         Current function value: 0.082754\n",
      "         Iterations: 279\n",
      "         Function evaluations: 280\n",
      "         Gradient evaluations: 280\n",
      "Optimization terminated successfully.\n",
      "         Current function value: 0.015924\n",
      "         Iterations: 215\n",
      "         Function evaluations: 216\n",
      "         Gradient evaluations: 216\n"
     ]
    }
   ],
   "source": [
    "theta_all = one_vs_all_logistic_classification(myX, y, bambda = 0.5)"
   ]
  },
  {
   "cell_type": "markdown",
   "metadata": {},
   "source": [
    "### One-vs-all Prediction"
   ]
  },
  {
   "cell_type": "markdown",
   "metadata": {},
   "source": [
    "Predict the label for a trained one-vs-all classifier. The labels are in the range 1..K, where K = size(all_theta, 1).  \n",
    "p = predictOneVsAll(all_theta, X) will return a vector of predictions for each example in the matrix X. \n",
    "Note that X contains the examples in rows. \n",
    "all_theta is a matrix where the i-th row is a trained logistic regression theta vector for the i-th class. \n",
    "You should set p to a vector of values from 1..K \n",
    "(e.g., p = [1; 3; 1; 2] predicts classes 1, 3, 1, 2 for 4 examples) "
   ]
  },
  {
   "cell_type": "code",
   "execution_count": 422,
   "metadata": {},
   "outputs": [],
   "source": [
    "theta_all= np.array(theta_all).T"
   ]
  },
  {
   "cell_type": "code",
   "execution_count": 423,
   "metadata": {},
   "outputs": [],
   "source": [
    "X_test = X.copy()"
   ]
  },
  {
   "cell_type": "code",
   "execution_count": 424,
   "metadata": {},
   "outputs": [],
   "source": [
    "def predictOneVsAll(all_theta, X_test):\n",
    "    \n",
    "    m = X_test.shape[0]\n",
    "    ps = []\n",
    "  \n",
    "    k = all_theta.shape[1] # k include theta 0 (for 1 term)\n",
    "\n",
    "    # Add ones to the X data matrix    \n",
    "    X_test = np.append(np.ones([len(X_test),1]), X_test ,1)\n",
    "    \n",
    "    h = sigmoid(X_test @ all_theta)  # hx dimensions: (m, k). m:test size; k: number of classes \n",
    "\n",
    "    for i in range(m):\n",
    "        p = np.argmax(h[i]) +1\n",
    "        ps.append(p)\n",
    "    ps = np.array(ps).T\n",
    "        \n",
    "    return ps"
   ]
  },
  {
   "cell_type": "code",
   "execution_count": 425,
   "metadata": {},
   "outputs": [
    {
     "data": {
      "text/plain": [
       "array([10, 10, 10, ...,  9,  9,  7])"
      ]
     },
     "execution_count": 425,
     "metadata": {},
     "output_type": "execute_result"
    }
   ],
   "source": [
    "#================ Predict for One-Vs-All ================\n",
    "pred = predictOneVsAll(theta_all, X)\n",
    "pred"
   ]
  },
  {
   "cell_type": "code",
   "execution_count": 427,
   "metadata": {},
   "outputs": [
    {
     "name": "stdout",
     "output_type": "stream",
     "text": [
      "\n",
      "Training Set Accuracy: %f\n",
      " 0.9506\n"
     ]
    }
   ],
   "source": [
    "print('\\nTraining Set Accuracy: %f\\n', np.mean((pred == y.flatten()) * 1))"
   ]
  },
  {
   "cell_type": "markdown",
   "metadata": {},
   "source": [
    "## Neural Networks - Feedforward Propagation and Prediction"
   ]
  },
  {
   "cell_type": "code",
   "execution_count": 326,
   "metadata": {},
   "outputs": [],
   "source": [
    "## You have been provided with a set of network parameters, theta1, theta2 already trained.\n",
    "## The parameters have dimensions that are sized for a neural network with 25 units \n",
    "## in the second layer and 10 output units (corresponding to the 10 digit classes).\n",
    "\n",
    "matweights = loadmat('machine-learning-ex3/ex3/ex3weights.mat')\n",
    "theta1 = matweights['Theta1']\n",
    "theta2 = matweights['Theta2']"
   ]
  },
  {
   "cell_type": "code",
   "execution_count": 327,
   "metadata": {},
   "outputs": [
    {
     "data": {
      "text/plain": [
       "(25, 401)"
      ]
     },
     "execution_count": 327,
     "metadata": {},
     "output_type": "execute_result"
    }
   ],
   "source": [
    "theta1.shape"
   ]
  },
  {
   "cell_type": "code",
   "execution_count": 328,
   "metadata": {},
   "outputs": [
    {
     "data": {
      "text/plain": [
       "(10, 26)"
      ]
     },
     "execution_count": 328,
     "metadata": {},
     "output_type": "execute_result"
    }
   ],
   "source": [
    "theta2.shape"
   ]
  },
  {
   "cell_type": "code",
   "execution_count": 394,
   "metadata": {},
   "outputs": [],
   "source": [
    "## Predict the label of an input given a trained neural network\n",
    "## outputs the predicted label of X given the trained weights of a neural network (Theta1, Theta2)\n",
    "    \n",
    "def predict(Theta1, Theta2, X_test):\n",
    "\n",
    "    ## Useful values\n",
    "    m = X_test.shape[0] # size of training data\n",
    "    d = X_test.shape[1] # number of input features, excluding bias term 1\n",
    "    num_labels = Theta2.shape[0] # dimensions of outputs\n",
    "    \n",
    "    ## Initialize all_p. It should be a vector containing labels between 1 to num_labels.\n",
    "    all_p = []\n",
    "    \n",
    "    ## Add bias term to X\n",
    "    X_test = np.append(np.ones([len(X_test),1]), X_test ,1).T # Shape: (d+!, m) => (401, 5000)\n",
    "    z2= Theta1 @ X_test # dim: (25, 5000)\n",
    "    a2 = sigmoid(z2)    # dim: (25, 5000) \n",
    "    a2 = np.append(np.ones([1, m]),a2,0) # Add a row of ones to a2 # dim: (26, 5000)\n",
    "    \n",
    "    z3 = Theta2 @ a2    # dim: (10, 5000)\n",
    "    a3 = sigmoid(z3)    # dim: (10, 5000)\n",
    "    \n",
    "    for i in range(m):\n",
    "        ind = np.argmax(a3[:, i])\n",
    "        p = ind + 1\n",
    "            \n",
    "        all_p.append(p)\n",
    "        \n",
    "    all_p = np.array(all_p).T\n",
    "     \n",
    "    return all_p"
   ]
  },
  {
   "cell_type": "code",
   "execution_count": 397,
   "metadata": {},
   "outputs": [
    {
     "data": {
      "text/plain": [
       "array([10, 10, 10, ...,  9,  9,  9])"
      ]
     },
     "execution_count": 397,
     "metadata": {},
     "output_type": "execute_result"
    }
   ],
   "source": [
    "# Note that the data stores digit 0 as 10\n",
    "pred = predict(theta1, theta2, X)\n",
    "pred"
   ]
  },
  {
   "cell_type": "code",
   "execution_count": 398,
   "metadata": {},
   "outputs": [
    {
     "name": "stdout",
     "output_type": "stream",
     "text": [
      "\n",
      "Training Set Accuracy: %f\n",
      " 0.9752\n"
     ]
    }
   ],
   "source": [
    "print('\\nTraining Set Accuracy: %f\\n', np.mean((pred == y.flatten()) * 1))"
   ]
  },
  {
   "cell_type": "markdown",
   "metadata": {},
   "source": [
    "## Week 5 - Ex4"
   ]
  },
  {
   "cell_type": "code",
   "execution_count": null,
   "metadata": {},
   "outputs": [],
   "source": []
  }
 ],
 "metadata": {
  "kernelspec": {
   "display_name": "Python 3",
   "language": "python",
   "name": "python3"
  },
  "language_info": {
   "codemirror_mode": {
    "name": "ipython",
    "version": 3
   },
   "file_extension": ".py",
   "mimetype": "text/x-python",
   "name": "python",
   "nbconvert_exporter": "python",
   "pygments_lexer": "ipython3",
   "version": "3.7.1"
  },
  "toc": {
   "base_numbering": 1,
   "nav_menu": {},
   "number_sections": true,
   "sideBar": true,
   "skip_h1_title": false,
   "title_cell": "Table of Contents",
   "title_sidebar": "Contents",
   "toc_cell": false,
   "toc_position": {
    "height": "calc(100% - 180px)",
    "left": "10px",
    "top": "150px",
    "width": "233.391px"
   },
   "toc_section_display": true,
   "toc_window_display": true
  },
  "varInspector": {
   "cols": {
    "lenName": 16,
    "lenType": 16,
    "lenVar": 40
   },
   "kernels_config": {
    "python": {
     "delete_cmd_postfix": "",
     "delete_cmd_prefix": "del ",
     "library": "var_list.py",
     "varRefreshCmd": "print(var_dic_list())"
    },
    "r": {
     "delete_cmd_postfix": ") ",
     "delete_cmd_prefix": "rm(",
     "library": "var_list.r",
     "varRefreshCmd": "cat(var_dic_list()) "
    }
   },
   "types_to_exclude": [
    "module",
    "function",
    "builtin_function_or_method",
    "instance",
    "_Feature"
   ],
   "window_display": false
  }
 },
 "nbformat": 4,
 "nbformat_minor": 2
}
