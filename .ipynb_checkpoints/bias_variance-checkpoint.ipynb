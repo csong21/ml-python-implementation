{
 "cells": [
  {
   "cell_type": "markdown",
   "metadata": {},
   "source": [
    "# Bias - Variance"
   ]
  },
  {
   "cell_type": "code",
   "execution_count": 163,
   "metadata": {},
   "outputs": [],
   "source": [
    "import pandas as pd\n",
    "import math\n",
    "import numpy as np\n",
    "import math\n",
    "import pandas as pd\n",
    "import seaborn as sns\n",
    "import numpy.linalg as la\n",
    "import scipy.optimize as op\n",
    "from scipy.stats import norm\n",
    "from scipy.io import loadmat\n",
    "from scipy.optimize import minimize\n",
    "from matplotlib import pyplot as plt\n",
    "from sklearn.preprocessing import PolynomialFeatures  "
   ]
  },
  {
   "cell_type": "markdown",
   "metadata": {},
   "source": [
    "## Load and plot data"
   ]
  },
  {
   "cell_type": "code",
   "execution_count": 2,
   "metadata": {},
   "outputs": [
    {
     "name": "stdout",
     "output_type": "stream",
     "text": [
      "data keys: dict_keys(['__header__', '__version__', '__globals__', 'X', 'y', 'Xtest', 'ytest', 'Xval', 'yval'])\n"
     ]
    }
   ],
   "source": [
    "data = loadmat('data/ex5data1.mat')\n",
    "print('data keys:', data.keys())\n",
    "Xtrain = data['X']\n",
    "ytrain = data['y']\n",
    "Xtest = data['Xtest']\n",
    "ytest = data['ytest']\n",
    "Xval = data['Xval']\n",
    "yval = data['yval']"
   ]
  },
  {
   "cell_type": "code",
   "execution_count": 3,
   "metadata": {},
   "outputs": [
    {
     "name": "stdout",
     "output_type": "stream",
     "text": [
      "Xtrain.shape: (12, 1)\n",
      "ytrain.shape: (12, 1)\n",
      "Xtest.shape: (21, 1)\n",
      "ytest.shape: (21, 1)\n",
      "XCV.shape: (21, 1)\n",
      "yCV.shape: (21, 1)\n"
     ]
    }
   ],
   "source": [
    "print('Xtrain.shape:', Xtrain.shape)\n",
    "print('ytrain.shape:', ytrain.shape)\n",
    "print('Xtest.shape:', Xtest.shape)\n",
    "print('ytest.shape:', ytest.shape)\n",
    "print('XCV.shape:', Xval.shape)\n",
    "print('yCV.shape:', yval.shape)"
   ]
  },
  {
   "cell_type": "code",
   "execution_count": 4,
   "metadata": {},
   "outputs": [],
   "source": [
    "# Visualize the example dataset\n",
    "dTrain = np.column_stack([Xtrain, ytrain])"
   ]
  },
  {
   "cell_type": "code",
   "execution_count": 5,
   "metadata": {},
   "outputs": [
    {
     "data": {
      "image/png": "[encoded data removed]",
      "text/plain": [
       "<Figure size 432x288 with 1 Axes>"
      ]
     },
     "metadata": {
      "needs_background": "light"
     },
     "output_type": "display_data"
    }
   ],
   "source": [
    "fig = sns.scatterplot(dTrain[:,0], dTrain[:,1])\n",
    "\n",
    "plt.xlabel(\"Change in water level (x)\")\n",
    "plt.ylabel(\"Water flowing out of the dam (y)\")\n",
    "plt.title(\"Fig. 1: training data\") # You can comment this line out if you don't need title\n",
    "plt.show(fig)\n"
   ]
  },
  {
   "cell_type": "markdown",
   "metadata": {},
   "source": [
    "## Fitting linear regression"
   ]
  },
  {
   "cell_type": "code",
   "execution_count": 42,
   "metadata": {},
   "outputs": [],
   "source": [
    "def costFuncRegLinear(theta, X, y, lambda_):\n",
    "    theta = theta.reshape([-1,1])\n",
    "    m = X.shape[0] \n",
    "    J = 0.5/m * ((la.norm(X @ theta - y)) **2 + lambda_ * la.norm(theta) **2)\n",
    "\n",
    "    grad = 1/m *((X.T @ (X @ theta - y)) + lambda_ * theta)\n",
    "\n",
    "    return J, grad.flatten()\n",
    "\n",
    "def f(theta, X, y, lambda_):\n",
    "    return costFuncRegLinear(theta, X, y, lambda_)[0]\n",
    "\n",
    "def fprime(theta, X, y,lambda_):\n",
    "    return costFuncRegLinear(theta, X, y, lambda_)[1]"
   ]
  },
  {
   "cell_type": "code",
   "execution_count": 40,
   "metadata": {},
   "outputs": [
    {
     "name": "stdout",
     "output_type": "stream",
     "text": [
      "f: theta (2, 1)\n",
      "Using theta initialized at [1, 1], we see an output of 304.034859\n",
      " and gradient of \n",
      " [-15.21968234 598.25074417]\n"
     ]
    }
   ],
   "source": [
    "# Initialize theta\n",
    "m = Xtrain.shape[0]\n",
    "n = Xtrain.shape[1]\n",
    "initial_theta = np.zeros([n+1, 1])\n",
    "\n",
    "# add bias term\n",
    "myXtrain = np.column_stack([np.ones([m,1]), Xtrain])\n",
    "\n",
    "J = f(init_theta, myXtrain, ytrain, 1)\n",
    "grad = fprime(init_theta, myXtrain, ytrain, 1)\n",
    "print('Using theta initialized at [1, 1], we see an output of %f\\n'% J,\n",
    "     'and gradient of \\n', grad)"
   ]
  },
  {
   "cell_type": "code",
   "execution_count": 125,
   "metadata": {},
   "outputs": [],
   "source": [
    "op.fmin_bfgs?\n"
   ]
  },
  {
   "cell_type": "code",
   "execution_count": 43,
   "metadata": {},
   "outputs": [
    {
     "name": "stdout",
     "output_type": "stream",
     "text": [
      "Optimization terminated successfully.\n",
      "         Current function value: 22.373906\n",
      "         Iterations: 3\n",
      "         Function evaluations: 5\n",
      "         Gradient evaluations: 5\n"
     ]
    }
   ],
   "source": [
    "learned_theta = op.fmin_bfgs(f = f, \n",
    "                x0 = initial_theta.flatten(), \n",
    "                fprime = fprime,\n",
    "                args = (myXtrain, ytrain, 0),\n",
    "                full_output=True)"
   ]
  },
  {
   "cell_type": "code",
   "execution_count": 48,
   "metadata": {},
   "outputs": [],
   "source": [
    "# fmin_bfgs actually calls minimize function\n",
    "res = op.minimize(f, initial_theta.flatten(), args =(myXtrain, ytrain, 0), method='BFGS', tol=1e-6)"
   ]
  },
  {
   "cell_type": "code",
   "execution_count": 58,
   "metadata": {},
   "outputs": [
    {
     "name": "stdout",
     "output_type": "stream",
     "text": [
      "[13.08790351  0.36777923] [13.08790327  0.36777922]\n"
     ]
    }
   ],
   "source": [
    "# Note that the results are the same\n",
    "print(learned_theta[0], res['x'])"
   ]
  },
  {
   "cell_type": "code",
   "execution_count": 70,
   "metadata": {},
   "outputs": [
    {
     "data": {
      "image/png": "[encoded data removed]",
      "text/plain": [
       "<Figure size 432x288 with 1 Axes>"
      ]
     },
     "metadata": {
      "needs_background": "light"
     },
     "output_type": "display_data"
    }
   ],
   "source": [
    "fig = sns.scatterplot(dTrain[:,0], dTrain[:,1])\n",
    "\n",
    "plt.xlabel(\"Change in water level (x)\")\n",
    "plt.ylabel(\"Water flowing out of the dam (y)\")\n",
    "plt.plot(Xtrain, learned_theta[0][0] + learned_theta[0][1] * Xtrain, '-')\n",
    "plt.title(\"Fig. 2: fitted linear\") \n",
    "plt.show(fig)\n"
   ]
  },
  {
   "cell_type": "markdown",
   "metadata": {},
   "source": [
    "## Learning curve"
   ]
  },
  {
   "cell_type": "code",
   "execution_count": 139,
   "metadata": {},
   "outputs": [],
   "source": [
    "def learningCurve(X, y, Xval, yval, lambda_):\n",
    "    # Generates the train and cross validation set errors needed to plot a learning curve.\n",
    "    # In particular, it returns two vectors of the same length - error_train and error_val. \n",
    "    # Then, error_train[i] contains the training error for i examples (and similarly for error_val[i]).\n",
    "    \n",
    "    # Number of training examples\n",
    "    m = X.shape[0]\n",
    "    n = Xval.shape[0]\n",
    "\n",
    "    trX = np.column_stack([X, y])\n",
    "    Xval = np.column_stack([np.ones([n,1]), Xval])\n",
    "    \n",
    "    error_train = []\n",
    "    error_val = []\n",
    "\n",
    "\n",
    "    for i in range(1, m):\n",
    "        # Randomly choose i examples\n",
    "        \n",
    "        idx = np.random.randint(m, size=i)\n",
    "        \n",
    "        subX = trX[idx, :]\n",
    "        x_ =  np.column_stack([np.ones([i,1]), subX[:,0]])\n",
    "        y_ = subX[:,1].reshape(-1,1)\n",
    "        \n",
    "        # Train the model\n",
    "        res_theta = op.fmin_bfgs(f = f, x0 = initial_theta.flatten(), fprime = fprime,\n",
    "                                 args = (x_, y_, lambda_),full_output= False)\n",
    "        \n",
    "\n",
    "        # Call cost function to get error\n",
    "        err_train = f(res_theta, x_, y_, 0)\n",
    "        err_cv = f(res_theta, Xval, yval, 0)\n",
    "            \n",
    "        error_train.append(err_train)\n",
    "        error_val.append(err_cv)\n",
    "\n",
    "    return error_train, error_val"
   ]
  },
  {
   "cell_type": "code",
   "execution_count": 140,
   "metadata": {},
   "outputs": [
    {
     "name": "stdout",
     "output_type": "stream",
     "text": [
      "Optimization terminated successfully.\n",
      "         Current function value: 0.000000\n",
      "         Iterations: 2\n",
      "         Function evaluations: 3\n",
      "         Gradient evaluations: 3\n",
      "Optimization terminated successfully.\n",
      "         Current function value: 0.000000\n",
      "         Iterations: 8\n",
      "         Function evaluations: 10\n",
      "         Gradient evaluations: 10\n",
      "Optimization terminated successfully.\n",
      "         Current function value: 0.053574\n",
      "         Iterations: 7\n",
      "         Function evaluations: 8\n",
      "         Gradient evaluations: 8\n",
      "Optimization terminated successfully.\n",
      "         Current function value: 0.762450\n",
      "         Iterations: 4\n",
      "         Function evaluations: 6\n",
      "         Gradient evaluations: 6\n",
      "Optimization terminated successfully.\n",
      "         Current function value: 13.209239\n",
      "         Iterations: 4\n",
      "         Function evaluations: 7\n",
      "         Gradient evaluations: 7\n",
      "Optimization terminated successfully.\n",
      "         Current function value: 13.445427\n",
      "         Iterations: 5\n",
      "         Function evaluations: 6\n",
      "         Gradient evaluations: 6\n",
      "Optimization terminated successfully.\n",
      "         Current function value: 5.544187\n",
      "         Iterations: 4\n",
      "         Function evaluations: 6\n",
      "         Gradient evaluations: 6\n",
      "Optimization terminated successfully.\n",
      "         Current function value: 25.196326\n",
      "         Iterations: 3\n",
      "         Function evaluations: 5\n",
      "         Gradient evaluations: 5\n",
      "Optimization terminated successfully.\n",
      "         Current function value: 19.449740\n",
      "         Iterations: 3\n",
      "         Function evaluations: 5\n",
      "         Gradient evaluations: 5\n",
      "Optimization terminated successfully.\n",
      "         Current function value: 20.432621\n",
      "         Iterations: 3\n",
      "         Function evaluations: 6\n",
      "         Gradient evaluations: 6\n",
      "Optimization terminated successfully.\n",
      "         Current function value: 9.943692\n",
      "         Iterations: 3\n",
      "         Function evaluations: 7\n",
      "         Gradient evaluations: 7\n"
     ]
    }
   ],
   "source": [
    "error_train, error_val = learningCurve(Xtrain, ytrain, Xval, yval, lambda_=0)"
   ]
  },
  {
   "cell_type": "code",
   "execution_count": 162,
   "metadata": {},
   "outputs": [
    {
     "data": {
      "text/plain": [
       "Text(0.5, 1.0, 'Figure 3: Linear regression learning curve')"
      ]
     },
     "execution_count": 162,
     "metadata": {},
     "output_type": "execute_result"
    },
    {
     "data": {
      "image/png": "[encoded data removed]",
      "text/plain": [
       "<Figure size 432x288 with 1 Axes>"
      ]
     },
     "metadata": {
      "needs_background": "light"
     },
     "output_type": "display_data"
    }
   ],
   "source": [
    "train = plt.plot(error_train, color = 'r', label ='training error')\n",
    "cv = plt.plot(error_val, label = 'cross-validation error')\n",
    "plt.legend()\n",
    "plt.ylabel(\"error\")\n",
    "plt.xlabel('Number of training examples')\n",
    "plt.title('Figure 3: Linear regression learning curve')"
   ]
  },
  {
   "cell_type": "markdown",
   "metadata": {},
   "source": [
    "## Polynomial regression"
   ]
  },
  {
   "cell_type": "code",
   "execution_count": 165,
   "metadata": {},
   "outputs": [],
   "source": [
    "def polyFeatures(X, p):    \n",
    "    poly = PolynomialFeatures(p)\n",
    "    Xp = poly.fit_transform(X)\n",
    "    return Xp"
   ]
  },
  {
   "cell_type": "code",
   "execution_count": 166,
   "metadata": {},
   "outputs": [],
   "source": [
    "def featureNormalize(X):\n",
    "    d = X.shape[0]\n",
    "    n = X.shape[1]\n",
    "    X_norm = np.zeros(X.shape)\n",
    "    for d in range(X.shape[0]):\n",
    "        mean = np.mean(X[d, :])\n",
    "        std = np.std(X[d, :])\n",
    "        X_norm[d, :] = (X[d, :] - mean)/std\n",
    "    return X_norm, mean, std"
   ]
  },
  {
   "cell_type": "code",
   "execution_count": 180,
   "metadata": {},
   "outputs": [],
   "source": [
    "p = 8\n",
    "X1 = polyFeatures(Xtrain, p)\n",
    "X2, mu, std = featureNormalize(X1)"
   ]
  },
  {
   "cell_type": "code",
   "execution_count": 189,
   "metadata": {},
   "outputs": [],
   "source": [
    "m = X2.shape[1]\n",
    "init_theta = np.zeros([m,1]) "
   ]
  },
  {
   "cell_type": "code",
   "execution_count": 181,
   "metadata": {},
   "outputs": [
    {
     "name": "stdout",
     "output_type": "stream",
     "text": [
      "Optimization terminated successfully.\n",
      "         Current function value: 21.778055\n",
      "         Iterations: 97\n",
      "         Function evaluations: 100\n",
      "         Gradient evaluations: 100\n"
     ]
    }
   ],
   "source": [
    "res_theta = op.fmin_bfgs(f = f, \n",
    "                x0 = init_theta.flatten(), \n",
    "                fprime = fprime,\n",
    "                args = (X2, ytrain, 0),\n",
    "                full_output=False)"
   ]
  },
  {
   "cell_type": "code",
   "execution_count": 182,
   "metadata": {},
   "outputs": [
    {
     "data": {
      "text/plain": [
       "array([ 4.59071680e+04,  7.64389521e+03, -4.02174611e+04, -8.09687460e+04,\n",
       "        7.57676117e+04, -7.00288137e+03, -1.24448952e+03,  1.08924796e+02,\n",
       "        5.97825401e+00])"
      ]
     },
     "execution_count": 182,
     "metadata": {},
     "output_type": "execute_result"
    }
   ],
   "source": [
    "res_theta"
   ]
  },
  {
   "cell_type": "code",
   "execution_count": 231,
   "metadata": {},
   "outputs": [],
   "source": [
    "def learningCurvePoly(X, y, Xval, yval, lambda_, p):\n",
    "    # Generates the train and cross validation set errors needed to plot a learning curve.\n",
    "    # In particular, it returns two vectors of the same length - error_train and error_val. \n",
    "    # Then, error_train[i] contains the training error for i examples (and similarly for error_val[i]).\n",
    "    \n",
    "    # Number of training examples\n",
    "    m = X.shape[0]\n",
    "    n = Xval.shape[0]\n",
    "    \n",
    "    ployX = polyFeatures(X, p)\n",
    "    trX, trmu, trstd = featureNormalize(ployX)\n",
    "    d = trX.shape[1]\n",
    "    print(d)\n",
    "    MX = np.column_stack([trX, y])\n",
    "    \n",
    "    ployXval = polyFeatures(Xval, p)\n",
    "    cvX, cvmu, cvstd = featureNormalize(ployXval)\n",
    "    \n",
    "    error_train = []\n",
    "    error_val = []\n",
    "    \n",
    "\n",
    "    for i in range(1, m):\n",
    "        # Randomly choose i examples\n",
    "        \n",
    "        idx = np.random.randint(m, size=i)\n",
    "        \n",
    "        subX = MX[idx, :]\n",
    "        x_ =  subX[:,0:d].reshape(i,-1)       \n",
    "        y_ = subX[:,-1].reshape(-1,1)\n",
    "        \n",
    "        # Train the model\n",
    "        init_theta = np.zeros([d,1]) \n",
    "        res_theta = op.fmin_bfgs(f = f, x0 = init_theta.flatten(), fprime = fprime,\n",
    "                                 args = (x_, y_, lambda_), full_output= False)\n",
    "        \n",
    "        print(res_theta)\n",
    "        # Call cost function to get error\n",
    "        err_train = f(res_theta, x_, y_, 0)\n",
    "        err_cv = f(res_theta, cvX, yval, 0)\n",
    "            \n",
    "        error_train.append(err_train)\n",
    "        error_val.append(err_cv)\n",
    "    return error_train, error_val"
   ]
  },
  {
   "cell_type": "code",
   "execution_count": 247,
   "metadata": {},
   "outputs": [
    {
     "name": "stdout",
     "output_type": "stream",
     "text": [
      "3\n",
      "Optimization terminated successfully.\n",
      "         Current function value: 22.377377\n",
      "         Iterations: 2\n",
      "         Function evaluations: 3\n",
      "         Gradient evaluations: 3\n",
      "[-0.49444519 -0.32987702  0.82432221]\n",
      "err_train 17.213366734637333\n",
      "err_cv 143.2505629987236\n",
      "Optimization terminated successfully.\n",
      "         Current function value: 233.787768\n",
      "         Iterations: 5\n",
      "         Function evaluations: 7\n",
      "         Gradient evaluations: 7\n",
      "[-1.72538308 -1.50208538  3.22746847]\n",
      "err_train 194.66336779850366\n",
      "err_cv 99.3999019651733\n",
      "Optimization terminated successfully.\n",
      "         Current function value: 183.362386\n",
      "         Iterations: 5\n",
      "         Function evaluations: 7\n",
      "         Gradient evaluations: 7\n",
      "[-2.81288668 -2.53064356  5.34353024]\n",
      "err_train 111.91271349223588\n",
      "err_cv 81.75651877711442\n",
      "Optimization terminated successfully.\n",
      "         Current function value: 119.242528\n",
      "         Iterations: 5\n",
      "         Function evaluations: 7\n",
      "         Gradient evaluations: 7\n",
      "[-1.52596067 -1.24510041  2.77106108]\n",
      "err_train 104.79551474231711\n",
      "err_cv 105.76838238911908\n",
      "Optimization terminated successfully.\n",
      "         Current function value: 120.175769\n",
      "         Iterations: 6\n",
      "         Function evaluations: 8\n",
      "         Gradient evaluations: 8\n",
      "[-1.90416944 -1.86602958  3.77019903]\n",
      "err_train 98.85344021830973\n",
      "err_cv 93.05328093650179\n",
      "Optimization terminated successfully.\n",
      "         Current function value: 91.859276\n",
      "         Iterations: 6\n",
      "         Function evaluations: 7\n",
      "         Gradient evaluations: 7\n",
      "[-2.04037784 -1.49339537  3.53377321]\n",
      "err_train 76.12517226010313\n",
      "err_cv 95.55978461030067\n",
      "Optimization terminated successfully.\n",
      "         Current function value: 142.317264\n",
      "         Iterations: 5\n",
      "         Function evaluations: 6\n",
      "         Gradient evaluations: 6\n",
      "[-2.31610529 -2.29449502  4.61060031]\n",
      "err_train 119.54105995359926\n",
      "err_cv 85.72352571904025\n",
      "Optimization terminated successfully.\n",
      "         Current function value: 79.854347\n",
      "         Iterations: 5\n",
      "         Function evaluations: 6\n",
      "         Gradient evaluations: 6\n",
      "[-2.38615904 -1.9013055   4.28746454]\n",
      "err_train 62.547428220319105\n",
      "err_cv 88.03965338943522\n",
      "Optimization terminated successfully.\n",
      "         Current function value: 66.407844\n",
      "         Iterations: 5\n",
      "         Function evaluations: 6\n",
      "         Gradient evaluations: 6\n",
      "[-1.78123582 -1.35126351  3.13249933]\n",
      "err_train 58.17936308466501\n",
      "err_cv 100.6121012882029\n",
      "Optimization terminated successfully.\n",
      "         Current function value: 97.615980\n",
      "         Iterations: 5\n",
      "         Function evaluations: 6\n",
      "         Gradient evaluations: 6\n",
      "[-1.87880406 -1.97853353  3.85733759]\n",
      "err_train 86.45420309531656\n",
      "err_cv 92.18559262623626\n",
      "Optimization terminated successfully.\n",
      "         Current function value: 131.493838\n",
      "         Iterations: 4\n",
      "         Function evaluations: 5\n",
      "         Gradient evaluations: 5\n",
      "[-2.92548167 -2.52828884  5.45377052]\n",
      "err_train 111.17824711588545\n",
      "err_cv 81.33133524737852\n"
     ]
    }
   ],
   "source": [
    "error_train_p, error_val_p = learningCurvePoly(Xtrain, ytrain, Xval, yval, lambda_=10, p=2)"
   ]
  },
  {
   "cell_type": "code",
   "execution_count": 248,
   "metadata": {},
   "outputs": [
    {
     "data": {
      "text/plain": [
       "Text(0.5, 1.0, 'Figure 3: Polynomial regression learning curve')"
      ]
     },
     "execution_count": 248,
     "metadata": {},
     "output_type": "execute_result"
    },
    {
     "data": {
      "image/png": "[encoded data removed]",
      "text/plain": [
       "<Figure size 432x288 with 1 Axes>"
      ]
     },
     "metadata": {
      "needs_background": "light"
     },
     "output_type": "display_data"
    }
   ],
   "source": [
    "train = plt.plot(error_train_p, color = 'r', label ='training error')\n",
    "cv = plt.plot(error_val_p, label = 'cross-validation error')\n",
    "plt.legend()\n",
    "plt.ylabel(\"error\")\n",
    "plt.xlabel('Number of training examples')\n",
    "plt.title('Figure 3: Polynomial regression learning curve')"
   ]
  },
  {
   "cell_type": "code",
   "execution_count": null,
   "metadata": {},
   "outputs": [],
   "source": []
  }
 ],
 "metadata": {
  "kernelspec": {
   "display_name": "Python 3",
   "language": "python",
   "name": "python3"
  },
  "language_info": {
   "codemirror_mode": {
    "name": "ipython",
    "version": 3
   },
   "file_extension": ".py",
   "mimetype": "text/x-python",
   "name": "python",
   "nbconvert_exporter": "python",
   "pygments_lexer": "ipython3",
   "version": "3.7.1"
  },
  "toc": {
   "base_numbering": 1,
   "nav_menu": {},
   "number_sections": true,
   "sideBar": true,
   "skip_h1_title": false,
   "title_cell": "Table of Contents",
   "title_sidebar": "Contents",
   "toc_cell": false,
   "toc_position": {},
   "toc_section_display": true,
   "toc_window_display": true
  },
  "varInspector": {
   "cols": {
    "lenName": 16,
    "lenType": 16,
    "lenVar": 40
   },
   "kernels_config": {
    "python": {
     "delete_cmd_postfix": "",
     "delete_cmd_prefix": "del ",
     "library": "var_list.py",
     "varRefreshCmd": "print(var_dic_list())"
    },
    "r": {
     "delete_cmd_postfix": ") ",
     "delete_cmd_prefix": "rm(",
     "library": "var_list.r",
     "varRefreshCmd": "cat(var_dic_list()) "
    }
   },
   "types_to_exclude": [
    "module",
    "function",
    "builtin_function_or_method",
    "instance",
    "_Feature"
   ],
   "window_display": false
  }
 },
 "nbformat": 4,
 "nbformat_minor": 4
}
