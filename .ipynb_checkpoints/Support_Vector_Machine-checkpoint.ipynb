{
 "cells": [
  {
   "cell_type": "markdown",
   "metadata": {},
   "source": [
    "# Support Vector Machine"
   ]
  },
  {
   "cell_type": "code",
   "execution_count": 4,
   "metadata": {},
   "outputs": [],
   "source": [
    "import numpy as np\n",
    "import math\n",
    "import pandas as pd\n",
    "import seaborn as sns\n",
    "import numpy.linalg as la\n",
    "import scipy.optimize as op\n",
    "from scipy.stats import norm\n",
    "from scipy.io import loadmat\n",
    "from scipy.optimize import minimize\n",
    "from matplotlib import pyplot as plt"
   ]
  },
  {
   "cell_type": "markdown",
   "metadata": {},
   "source": [
    "## Load and Plot data"
   ]
  },
  {
   "cell_type": "code",
   "execution_count": 5,
   "metadata": {},
   "outputs": [
    {
     "name": "stdout",
     "output_type": "stream",
     "text": [
      "data keys: dict_keys(['__header__', '__version__', '__globals__', 'X', 'y'])\n",
      "X.shape: (51, 2)\n",
      "y.shape: (51, 1)\n"
     ]
    }
   ],
   "source": [
    "matdata = loadmat('data/ex6data1.mat')\n",
    "print('data keys:', matdata.keys())\n",
    "X = matdata['X']\n",
    "y = matdata['y']\n",
    "\n",
    "print('X.shape:', X.shape)\n",
    "print('y.shape:', y.shape)"
   ]
  },
  {
   "cell_type": "code",
   "execution_count": 6,
   "metadata": {},
   "outputs": [
    {
     "data": {
      "text/plain": [
       "Text(0, 0.5, 'Throughput (mb/s)')"
      ]
     },
     "execution_count": 6,
     "metadata": {},
     "output_type": "execute_result"
    },
    {
     "data": {
      "image/png": "[encoded data removed]",
      "text/plain": [
       "<Figure size 432x288 with 1 Axes>"
      ]
     },
     "metadata": {
      "needs_background": "light"
     },
     "output_type": "display_data"
    }
   ],
   "source": [
    "# Visualize the example dataset\n",
    "mask= (y==1).squeeze()\n",
    "plt.plot(X[mask][:,0], X[mask][:,1], '+', markersize=6, color = 'green')\n",
    "plt.plot(X[~mask][:,0], X[~mask][:,1], 'bo', markersize=3, color = 'blue')\n",
    "plt.xlabel('Latency (ms)')\n",
    "plt.ylabel('Throughput (mb/s)')"
   ]
  },
  {
   "cell_type": "markdown",
   "metadata": {},
   "source": [
    "## Linear Kernal"
   ]
  },
  {
   "cell_type": "code",
   "execution_count": 7,
   "metadata": {},
   "outputs": [],
   "source": [
    "from libsvm.svmutil import *"
   ]
  },
  {
   "cell_type": "code",
   "execution_count": 8,
   "metadata": {},
   "outputs": [],
   "source": [
    "prob  = svm_problem(y.squeeze(), X.squeeze())"
   ]
  },
  {
   "cell_type": "code",
   "execution_count": 9,
   "metadata": {},
   "outputs": [
    {
     "name": "stdout",
     "output_type": "stream",
     "text": [
      "Accuracy = 98.0392% (50/51) (classification)\n"
     ]
    }
   ],
   "source": [
    "param = svm_parameter('-t 0 -c 4 -b 1')\n",
    "m = svm_train(prob, param)\n",
    "p_label, p_acc, p_val = svm_predict(y.squeeze(), X.squeeze(), m, '-b 1')\n",
    "ACC, MSE, SCC = evaluations(y, p_label)"
   ]
  },
  {
   "cell_type": "code",
   "execution_count": 10,
   "metadata": {},
   "outputs": [
    {
     "name": "stdout",
     "output_type": "stream",
     "text": [
      "Accuracy = 100% (51/51) (classification)\n"
     ]
    }
   ],
   "source": [
    "param2 = svm_parameter('-t 0 -c 100 -b 1')\n",
    "m2 = svm_train(prob, param2)\n",
    "p_label, p_acc, p_val = svm_predict(y.squeeze(), X.squeeze(), m2, '-b 1')\n",
    "ACC, MSE, SCC = evaluations(y, p_label)"
   ]
  },
  {
   "cell_type": "markdown",
   "metadata": {},
   "source": [
    "## Gaussian Kernal"
   ]
  },
  {
   "cell_type": "code",
   "execution_count": 12,
   "metadata": {},
   "outputs": [
    {
     "name": "stdout",
     "output_type": "stream",
     "text": [
      "data keys: dict_keys(['__header__', '__version__', '__globals__', 'X', 'y'])\n",
      "X2.shape: (863, 2)\n",
      "y2.shape: (863, 1)\n"
     ]
    }
   ],
   "source": [
    "matdata2 = loadmat('data/ex6data2.mat')\n",
    "print('data keys:', matdata2.keys())\n",
    "X2 = matdata2['X']\n",
    "y2 = matdata2['y']\n",
    "\n",
    "print('X2.shape:', X2.shape)\n",
    "print('y2.shape:', y2.shape)"
   ]
  },
  {
   "cell_type": "code",
   "execution_count": 13,
   "metadata": {},
   "outputs": [
    {
     "data": {
      "text/plain": [
       "[<matplotlib.lines.Line2D at 0x1251ee6a0>]"
      ]
     },
     "execution_count": 13,
     "metadata": {},
     "output_type": "execute_result"
    },
    {
     "data": {
      "image/png": "[encoded data removed]",
      "text/plain": [
       "<Figure size 432x288 with 1 Axes>"
      ]
     },
     "metadata": {
      "needs_background": "light"
     },
     "output_type": "display_data"
    }
   ],
   "source": [
    "# Visualize the example dataset\n",
    "mask= (y2==1).squeeze()\n",
    "plt.plot(X2[mask][:,0], X2[mask][:,1], '+', markersize=6, color = 'green')\n",
    "plt.plot(X2[~mask][:,0], X2[~mask][:,1], 'bo', markersize=3, color = 'blue')"
   ]
  },
  {
   "cell_type": "code",
   "execution_count": 14,
   "metadata": {},
   "outputs": [
    {
     "name": "stdout",
     "output_type": "stream",
     "text": [
      "Accuracy = 100% (863/863) (classification)\n"
     ]
    }
   ],
   "source": [
    "prob_2  = svm_problem(y2.squeeze(), X2.squeeze())\n",
    "param_2 = svm_parameter('-t 2 -c 100000 -g 10 -b 1')\n",
    "m_2 = svm_train(prob_2, param_2)\n",
    "p_label, p_acc, p_val = svm_predict(y2.squeeze(), X2.squeeze(), m_2, '-b 1')\n",
    "ACC, MSE, SCC = evaluations(y2, p_label)"
   ]
  },
  {
   "cell_type": "code",
   "execution_count": 272,
   "metadata": {},
   "outputs": [
    {
     "name": "stdout",
     "output_type": "stream",
     "text": [
      "Help on function svm_train in module libsvm.svmutil:\n",
      "\n",
      "svm_train(arg1, arg2=None, arg3=None)\n",
      "    svm_train(y, x [, options]) -> model | ACC | MSE\n",
      "    \n",
      "    y: a list/tuple/ndarray of l true labels (type must be int/double).\n",
      "    \n",
      "    x: 1. a list/tuple of l training instances. Feature vector of\n",
      "          each training instance is a list/tuple or dictionary.\n",
      "    \n",
      "       2. an l * n numpy ndarray or scipy spmatrix (n: number of features).\n",
      "    \n",
      "    svm_train(prob [, options]) -> model | ACC | MSE\n",
      "    svm_train(prob, param) -> model | ACC| MSE\n",
      "    \n",
      "    Train an SVM model from data (y, x) or an svm_problem prob using\n",
      "    'options' or an svm_parameter param.\n",
      "    If '-v' is specified in 'options' (i.e., cross validation)\n",
      "    either accuracy (ACC) or mean-squared error (MSE) is returned.\n",
      "    options:\n",
      "        -s svm_type : set type of SVM (default 0)\n",
      "            0 -- C-SVC              (multi-class classification)\n",
      "            1 -- nu-SVC             (multi-class classification)\n",
      "            2 -- one-class SVM\n",
      "            3 -- epsilon-SVR        (regression)\n",
      "            4 -- nu-SVR             (regression)\n",
      "        -t kernel_type : set type of kernel function (default 2)\n",
      "            0 -- linear: u'*v\n",
      "            1 -- polynomial: (gamma*u'*v + coef0)^degree\n",
      "            2 -- radial basis function: exp(-gamma*|u-v|^2)\n",
      "            3 -- sigmoid: tanh(gamma*u'*v + coef0)\n",
      "            4 -- precomputed kernel (kernel values in training_set_file)\n",
      "        -d degree : set degree in kernel function (default 3)\n",
      "        -g gamma : set gamma in kernel function (default 1/num_features)\n",
      "        -r coef0 : set coef0 in kernel function (default 0)\n",
      "        -c cost : set the parameter C of C-SVC, epsilon-SVR, and nu-SVR (default 1)\n",
      "        -n nu : set the parameter nu of nu-SVC, one-class SVM, and nu-SVR (default 0.5)\n",
      "        -p epsilon : set the epsilon in loss function of epsilon-SVR (default 0.1)\n",
      "        -m cachesize : set cache memory size in MB (default 100)\n",
      "        -e epsilon : set tolerance of termination criterion (default 0.001)\n",
      "        -h shrinking : whether to use the shrinking heuristics, 0 or 1 (default 1)\n",
      "        -b probability_estimates : whether to train a SVC or SVR model for probability estimates, 0 or 1 (default 0)\n",
      "        -wi weight : set the parameter C of class i to weight*C, for C-SVC (default 1)\n",
      "        -v n: n-fold cross validation mode\n",
      "        -q : quiet mode (no outputs)\n",
      "\n"
     ]
    }
   ],
   "source": [
    "help(svm_train)"
   ]
  },
  {
   "cell_type": "markdown",
   "metadata": {},
   "source": [
    "## Visualize Boundary"
   ]
  },
  {
   "cell_type": "code",
   "execution_count": 15,
   "metadata": {},
   "outputs": [
    {
     "data": {
      "image/png": "[encoded data removed]",
      "text/plain": [
       "<Figure size 432x288 with 1 Axes>"
      ]
     },
     "metadata": {
      "needs_background": "light"
     },
     "output_type": "display_data"
    }
   ],
   "source": [
    "# Visualize(X, y, model) boundary learned by the SVM and overlays the data on it\n",
    "\n",
    "# Plot the training data on top of the boundary\n",
    "mask= (y2==1).squeeze()\n",
    "plt.plot(X2[mask][:,0], X2[mask][:,1], '+', markersize=6, color = 'green')\n",
    "plt.plot(X2[~mask][:,0], X2[~mask][:,1], 'bo', markersize=3, color = 'blue')\n",
    "\n",
    "\n",
    "x1plot = np.linspace(min(X2[:,0]), max(X2[:,0]), 100)\n",
    "x2plot = np.linspace(min(X2[:,1]), max(X2[:,1]), 100)\n",
    "XX1, XX2 = np.meshgrid(x1plot, x2plot)"
   ]
  },
  {
   "cell_type": "code",
   "execution_count": 16,
   "metadata": {},
   "outputs": [],
   "source": [
    "XY = np.dstack((XX1, XX2))\n",
    "XY = XY.reshape(100*100, 2)"
   ]
  },
  {
   "cell_type": "code",
   "execution_count": 17,
   "metadata": {},
   "outputs": [
    {
     "name": "stdout",
     "output_type": "stream",
     "text": [
      "Accuracy = 41.66% (4166/10000) (classification)\n",
      "863\n"
     ]
    },
    {
     "data": {
      "image/png": "[encoded data removed]",
      "text/plain": [
       "<Figure size 432x288 with 1 Axes>"
      ]
     },
     "metadata": {
      "needs_background": "light"
     },
     "output_type": "display_data"
    }
   ],
   "source": [
    "vals = np.zeros(XX1.shape)\n",
    "zp_label, p_acc, p_vals= svm_predict([], XY, m_2, '-b 1')\n",
    "zp_label = np.array(zp_label)\n",
    "zp_label = zp_label.reshape(100, 100)\n",
    "print(len(p_label))\n",
    "plt.plot(X2[mask][:,0], X2[mask][:,1], '+', markersize=6, color = 'green')\n",
    "plt.plot(X2[~mask][:,0], X2[~mask][:,1], 'bo', markersize=3, color = 'blue')\n",
    "\n",
    "h = plt.contour(XX1, XX2, zp_label)\n",
    "plt.show()\n",
    "\n",
    "\n",
    "#contour(X1, X2, vals, [0.5 0.5], 'b');\n"
   ]
  },
  {
   "cell_type": "markdown",
   "metadata": {},
   "source": [
    "## Cross-Validation"
   ]
  },
  {
   "cell_type": "code",
   "execution_count": 18,
   "metadata": {},
   "outputs": [
    {
     "name": "stdout",
     "output_type": "stream",
     "text": [
      "data keys: dict_keys(['__header__', '__version__', '__globals__', 'X', 'y', 'yval', 'Xval'])\n",
      "X.shape: (863, 2)\n",
      "y.shape: (863, 1)\n",
      "Xval.shape: (200, 2)\n",
      "yval.shape: (200, 1)\n"
     ]
    }
   ],
   "source": [
    "matdata3 = loadmat('data/ex6data3.mat')\n",
    "print('data keys:', matdata3.keys())\n",
    "X = matdata3['X']\n",
    "y = matdata3['y']\n",
    "Xval = matdata3['Xval']\n",
    "yval = matdata3['yval']\n",
    "\n",
    "\n",
    "print('X.shape:', X2.shape)\n",
    "print('y.shape:', y2.shape)\n",
    "print('Xval.shape:', Xval.shape)\n",
    "print('yval.shape:', yval.shape)"
   ]
  },
  {
   "cell_type": "code",
   "execution_count": 19,
   "metadata": {},
   "outputs": [
    {
     "data": {
      "text/plain": [
       "[<matplotlib.lines.Line2D at 0x125947668>]"
      ]
     },
     "execution_count": 19,
     "metadata": {},
     "output_type": "execute_result"
    },
    {
     "data": {
      "image/png": "[encoded data removed]",
      "text/plain": [
       "<Figure size 432x288 with 1 Axes>"
      ]
     },
     "metadata": {
      "needs_background": "light"
     },
     "output_type": "display_data"
    }
   ],
   "source": [
    "# Plot the training data on top of the boundary\n",
    "mask= (y==1).squeeze()\n",
    "plt.plot(X[mask][:,0], X[mask][:,1], '+', markersize=6, color = 'green')\n",
    "plt.plot(X[~mask][:,0], X[~mask][:,1], 'bo', markersize=3, color = 'blue')"
   ]
  },
  {
   "cell_type": "code",
   "execution_count": 20,
   "metadata": {},
   "outputs": [],
   "source": [
    "prob  = svm_problem(y.squeeze(), X.squeeze())"
   ]
  },
  {
   "cell_type": "code",
   "execution_count": 21,
   "metadata": {},
   "outputs": [
    {
     "name": "stdout",
     "output_type": "stream",
     "text": [
      "-t 2 -c 0.031250 -g 0.031250 -b 1\n",
      "Accuracy = 56.5% (113/200) (classification)\n",
      "-t 2 -c 0.031250 -g 0.062500 -b 1\n",
      "Accuracy = 56.5% (113/200) (classification)\n",
      "-t 2 -c 0.031250 -g 0.125000 -b 1\n",
      "Accuracy = 56.5% (113/200) (classification)\n",
      "-t 2 -c 0.031250 -g 0.250000 -b 1\n",
      "Accuracy = 56.5% (113/200) (classification)\n",
      "-t 2 -c 0.031250 -g 0.500000 -b 1\n",
      "Accuracy = 71% (142/200) (classification)\n",
      "-t 2 -c 0.031250 -g 1.000000 -b 1\n",
      "Accuracy = 83% (166/200) (classification)\n",
      "-t 2 -c 0.031250 -g 2.000000 -b 1\n",
      "Accuracy = 83% (166/200) (classification)\n",
      "-t 2 -c 0.031250 -g 4.000000 -b 1\n",
      "Accuracy = 85% (170/200) (classification)\n",
      "-t 2 -c 0.031250 -g 8.000000 -b 1\n",
      "Accuracy = 89.5% (179/200) (classification)\n",
      "-t 2 -c 0.031250 -g 16.000000 -b 1\n",
      "Accuracy = 91.5% (183/200) (classification)\n",
      "-t 2 -c 0.031250 -g 32.000000 -b 1\n",
      "Accuracy = 95% (190/200) (classification)\n",
      "-t 2 -c 0.031250 -g 64.000000 -b 1\n",
      "Accuracy = 68.5% (137/200) (classification)\n",
      "-t 2 -c 0.031250 -g 128.000000 -b 1\n",
      "Accuracy = 56.5% (113/200) (classification)\n",
      "-t 2 -c 0.031250 -g 256.000000 -b 1\n",
      "Accuracy = 56.5% (113/200) (classification)\n",
      "-t 2 -c 0.031250 -g 512.000000 -b 1\n",
      "Accuracy = 56.5% (113/200) (classification)\n",
      "-t 2 -c 0.031250 -g 1024.000000 -b 1\n",
      "Accuracy = 56.5% (113/200) (classification)\n",
      "-t 2 -c 0.031250 -g 2048.000000 -b 1\n",
      "Accuracy = 56.5% (113/200) (classification)\n",
      "-t 2 -c 0.031250 -g 4096.000000 -b 1\n",
      "Accuracy = 56.5% (113/200) (classification)\n",
      "-t 2 -c 0.031250 -g 8192.000000 -b 1\n",
      "Accuracy = 56.5% (113/200) (classification)\n",
      "-t 2 -c 0.031250 -g 16384.000000 -b 1\n",
      "Accuracy = 56.5% (113/200) (classification)\n",
      "-t 2 -c 0.062500 -g 0.031250 -b 1\n",
      "Accuracy = 56.5% (113/200) (classification)\n",
      "-t 2 -c 0.062500 -g 0.062500 -b 1\n",
      "Accuracy = 56.5% (113/200) (classification)\n",
      "-t 2 -c 0.062500 -g 0.125000 -b 1\n",
      "Accuracy = 43.5% (87/200) (classification)\n",
      "-t 2 -c 0.062500 -g 0.250000 -b 1\n",
      "Accuracy = 69.5% (139/200) (classification)\n",
      "-t 2 -c 0.062500 -g 0.500000 -b 1\n",
      "Accuracy = 82% (164/200) (classification)\n",
      "-t 2 -c 0.062500 -g 1.000000 -b 1\n",
      "Accuracy = 83.5% (167/200) (classification)\n",
      "-t 2 -c 0.062500 -g 2.000000 -b 1\n",
      "Accuracy = 85% (170/200) (classification)\n",
      "-t 2 -c 0.062500 -g 4.000000 -b 1\n",
      "Accuracy = 88.5% (177/200) (classification)\n",
      "-t 2 -c 0.062500 -g 8.000000 -b 1\n",
      "Accuracy = 91% (182/200) (classification)\n",
      "-t 2 -c 0.062500 -g 16.000000 -b 1\n",
      "Accuracy = 93% (186/200) (classification)\n",
      "-t 2 -c 0.062500 -g 32.000000 -b 1\n",
      "Accuracy = 94.5% (189/200) (classification)\n",
      "-t 2 -c 0.062500 -g 64.000000 -b 1\n",
      "Accuracy = 87.5% (175/200) (classification)\n",
      "-t 2 -c 0.062500 -g 128.000000 -b 1\n",
      "Accuracy = 44% (88/200) (classification)\n",
      "-t 2 -c 0.062500 -g 256.000000 -b 1\n",
      "Accuracy = 43.5% (87/200) (classification)\n",
      "-t 2 -c 0.062500 -g 512.000000 -b 1\n",
      "Accuracy = 56.5% (113/200) (classification)\n",
      "-t 2 -c 0.062500 -g 1024.000000 -b 1\n",
      "Accuracy = 56.5% (113/200) (classification)\n",
      "-t 2 -c 0.062500 -g 2048.000000 -b 1\n",
      "Accuracy = 56.5% (113/200) (classification)\n",
      "-t 2 -c 0.062500 -g 4096.000000 -b 1\n",
      "Accuracy = 56.5% (113/200) (classification)\n",
      "-t 2 -c 0.062500 -g 8192.000000 -b 1\n",
      "Accuracy = 56.5% (113/200) (classification)\n",
      "-t 2 -c 0.062500 -g 16384.000000 -b 1\n",
      "Accuracy = 56.5% (113/200) (classification)\n",
      "-t 2 -c 0.125000 -g 0.031250 -b 1\n",
      "Accuracy = 56.5% (113/200) (classification)\n",
      "-t 2 -c 0.125000 -g 0.062500 -b 1\n",
      "Accuracy = 43.5% (87/200) (classification)\n",
      "-t 2 -c 0.125000 -g 0.125000 -b 1\n",
      "Accuracy = 74% (148/200) (classification)\n",
      "-t 2 -c 0.125000 -g 0.250000 -b 1\n",
      "Accuracy = 82% (164/200) (classification)\n",
      "-t 2 -c 0.125000 -g 0.500000 -b 1\n",
      "Accuracy = 84% (168/200) (classification)\n",
      "-t 2 -c 0.125000 -g 1.000000 -b 1\n",
      "Accuracy = 88.5% (177/200) (classification)\n",
      "-t 2 -c 0.125000 -g 2.000000 -b 1\n",
      "Accuracy = 90% (180/200) (classification)\n",
      "-t 2 -c 0.125000 -g 4.000000 -b 1\n",
      "Accuracy = 91.5% (183/200) (classification)\n",
      "-t 2 -c 0.125000 -g 8.000000 -b 1\n",
      "Accuracy = 93.5% (187/200) (classification)\n",
      "-t 2 -c 0.125000 -g 16.000000 -b 1\n",
      "Accuracy = 94.5% (189/200) (classification)\n",
      "-t 2 -c 0.125000 -g 32.000000 -b 1\n",
      "Accuracy = 95.5% (191/200) (classification)\n",
      "-t 2 -c 0.125000 -g 64.000000 -b 1\n",
      "Accuracy = 96% (192/200) (classification)\n",
      "-t 2 -c 0.125000 -g 128.000000 -b 1\n",
      "Accuracy = 85.5% (171/200) (classification)\n",
      "-t 2 -c 0.125000 -g 256.000000 -b 1\n",
      "Accuracy = 78% (156/200) (classification)\n",
      "-t 2 -c 0.125000 -g 512.000000 -b 1\n",
      "Accuracy = 43.5% (87/200) (classification)\n",
      "-t 2 -c 0.125000 -g 1024.000000 -b 1\n",
      "Accuracy = 56.5% (113/200) (classification)\n",
      "-t 2 -c 0.125000 -g 2048.000000 -b 1\n",
      "Accuracy = 56.5% (113/200) (classification)\n",
      "-t 2 -c 0.125000 -g 4096.000000 -b 1\n",
      "Accuracy = 56.5% (113/200) (classification)\n",
      "-t 2 -c 0.125000 -g 8192.000000 -b 1\n",
      "Accuracy = 56.5% (113/200) (classification)\n",
      "-t 2 -c 0.125000 -g 16384.000000 -b 1\n",
      "Accuracy = 56.5% (113/200) (classification)\n",
      "-t 2 -c 0.250000 -g 0.031250 -b 1\n",
      "Accuracy = 52% (104/200) (classification)\n",
      "-t 2 -c 0.250000 -g 0.062500 -b 1\n",
      "Accuracy = 66.5% (133/200) (classification)\n",
      "-t 2 -c 0.250000 -g 0.125000 -b 1\n",
      "Accuracy = 82% (164/200) (classification)\n",
      "-t 2 -c 0.250000 -g 0.250000 -b 1\n",
      "Accuracy = 85% (170/200) (classification)\n",
      "-t 2 -c 0.250000 -g 0.500000 -b 1\n",
      "Accuracy = 89.5% (179/200) (classification)\n",
      "-t 2 -c 0.250000 -g 1.000000 -b 1\n",
      "Accuracy = 90.5% (181/200) (classification)\n",
      "-t 2 -c 0.250000 -g 2.000000 -b 1\n",
      "Accuracy = 91.5% (183/200) (classification)\n",
      "-t 2 -c 0.250000 -g 4.000000 -b 1\n",
      "Accuracy = 93.5% (187/200) (classification)\n",
      "-t 2 -c 0.250000 -g 8.000000 -b 1\n",
      "Accuracy = 94.5% (189/200) (classification)\n",
      "-t 2 -c 0.250000 -g 16.000000 -b 1\n",
      "Accuracy = 95.5% (191/200) (classification)\n",
      "-t 2 -c 0.250000 -g 32.000000 -b 1\n",
      "Accuracy = 95.5% (191/200) (classification)\n",
      "-t 2 -c 0.250000 -g 64.000000 -b 1\n",
      "Accuracy = 97% (194/200) (classification)\n",
      "-t 2 -c 0.250000 -g 128.000000 -b 1\n",
      "Accuracy = 96% (192/200) (classification)\n",
      "-t 2 -c 0.250000 -g 256.000000 -b 1\n",
      "Accuracy = 82.5% (165/200) (classification)\n",
      "-t 2 -c 0.250000 -g 512.000000 -b 1\n",
      "Accuracy = 64% (128/200) (classification)\n",
      "-t 2 -c 0.250000 -g 1024.000000 -b 1\n",
      "Accuracy = 44.5% (89/200) (classification)\n",
      "-t 2 -c 0.250000 -g 2048.000000 -b 1\n",
      "Accuracy = 56% (112/200) (classification)\n",
      "-t 2 -c 0.250000 -g 4096.000000 -b 1\n",
      "Accuracy = 56.5% (113/200) (classification)\n",
      "-t 2 -c 0.250000 -g 8192.000000 -b 1\n",
      "Accuracy = 56.5% (113/200) (classification)\n",
      "-t 2 -c 0.250000 -g 16384.000000 -b 1\n",
      "Accuracy = 56.5% (113/200) (classification)\n",
      "-t 2 -c 0.500000 -g 0.031250 -b 1\n",
      "Accuracy = 72.5% (145/200) (classification)\n",
      "-t 2 -c 0.500000 -g 0.062500 -b 1\n",
      "Accuracy = 82% (164/200) (classification)\n",
      "-t 2 -c 0.500000 -g 0.125000 -b 1\n",
      "Accuracy = 85.5% (171/200) (classification)\n",
      "-t 2 -c 0.500000 -g 0.250000 -b 1\n",
      "Accuracy = 89% (178/200) (classification)\n",
      "-t 2 -c 0.500000 -g 0.500000 -b 1\n",
      "Accuracy = 90.5% (181/200) (classification)\n",
      "-t 2 -c 0.500000 -g 1.000000 -b 1\n",
      "Accuracy = 92.5% (185/200) (classification)\n",
      "-t 2 -c 0.500000 -g 2.000000 -b 1\n",
      "Accuracy = 92% (184/200) (classification)\n",
      "-t 2 -c 0.500000 -g 4.000000 -b 1\n",
      "Accuracy = 93.5% (187/200) (classification)\n",
      "-t 2 -c 0.500000 -g 8.000000 -b 1\n",
      "Accuracy = 96.5% (193/200) (classification)\n",
      "-t 2 -c 0.500000 -g 16.000000 -b 1\n",
      "Accuracy = 96.5% (193/200) (classification)\n",
      "-t 2 -c 0.500000 -g 32.000000 -b 1\n",
      "Accuracy = 96% (192/200) (classification)\n",
      "-t 2 -c 0.500000 -g 64.000000 -b 1\n",
      "Accuracy = 97% (194/200) (classification)\n",
      "-t 2 -c 0.500000 -g 128.000000 -b 1\n",
      "Accuracy = 96% (192/200) (classification)\n",
      "-t 2 -c 0.500000 -g 256.000000 -b 1\n",
      "Accuracy = 94.5% (189/200) (classification)\n",
      "-t 2 -c 0.500000 -g 512.000000 -b 1\n",
      "Accuracy = 90% (180/200) (classification)\n",
      "-t 2 -c 0.500000 -g 1024.000000 -b 1\n",
      "Accuracy = 79% (158/200) (classification)\n",
      "-t 2 -c 0.500000 -g 2048.000000 -b 1\n",
      "Accuracy = 47.5% (95/200) (classification)\n",
      "-t 2 -c 0.500000 -g 4096.000000 -b 1\n",
      "Accuracy = 51.5% (103/200) (classification)\n",
      "-t 2 -c 0.500000 -g 8192.000000 -b 1\n",
      "Accuracy = 53% (106/200) (classification)\n",
      "-t 2 -c 0.500000 -g 16384.000000 -b 1\n",
      "Accuracy = 56.5% (113/200) (classification)\n",
      "-t 2 -c 1.000000 -g 0.031250 -b 1\n",
      "Accuracy = 82.5% (165/200) (classification)\n",
      "-t 2 -c 1.000000 -g 0.062500 -b 1\n",
      "Accuracy = 86% (172/200) (classification)\n",
      "-t 2 -c 1.000000 -g 0.125000 -b 1\n",
      "Accuracy = 90% (180/200) (classification)\n",
      "-t 2 -c 1.000000 -g 0.250000 -b 1\n",
      "Accuracy = 91% (182/200) (classification)\n",
      "-t 2 -c 1.000000 -g 0.500000 -b 1\n",
      "Accuracy = 92.5% (185/200) (classification)\n",
      "-t 2 -c 1.000000 -g 1.000000 -b 1\n",
      "Accuracy = 92.5% (185/200) (classification)\n",
      "-t 2 -c 1.000000 -g 2.000000 -b 1\n",
      "Accuracy = 94.5% (189/200) (classification)\n",
      "-t 2 -c 1.000000 -g 4.000000 -b 1\n",
      "Accuracy = 95% (190/200) (classification)\n",
      "-t 2 -c 1.000000 -g 8.000000 -b 1\n",
      "Accuracy = 96% (192/200) (classification)\n",
      "-t 2 -c 1.000000 -g 16.000000 -b 1\n",
      "Accuracy = 96% (192/200) (classification)\n",
      "-t 2 -c 1.000000 -g 32.000000 -b 1\n",
      "Accuracy = 97% (194/200) (classification)\n",
      "-t 2 -c 1.000000 -g 64.000000 -b 1\n"
     ]
    },
    {
     "name": "stdout",
     "output_type": "stream",
     "text": [
      "Accuracy = 96.5% (193/200) (classification)\n",
      "-t 2 -c 1.000000 -g 128.000000 -b 1\n",
      "Accuracy = 96% (192/200) (classification)\n",
      "-t 2 -c 1.000000 -g 256.000000 -b 1\n",
      "Accuracy = 93% (186/200) (classification)\n",
      "-t 2 -c 1.000000 -g 512.000000 -b 1\n",
      "Accuracy = 91.5% (183/200) (classification)\n",
      "-t 2 -c 1.000000 -g 1024.000000 -b 1\n",
      "Accuracy = 88% (176/200) (classification)\n",
      "-t 2 -c 1.000000 -g 2048.000000 -b 1\n",
      "Accuracy = 85.5% (171/200) (classification)\n",
      "-t 2 -c 1.000000 -g 4096.000000 -b 1\n",
      "Accuracy = 62.5% (125/200) (classification)\n",
      "-t 2 -c 1.000000 -g 8192.000000 -b 1\n",
      "Accuracy = 30.5% (61/200) (classification)\n",
      "-t 2 -c 1.000000 -g 16384.000000 -b 1\n",
      "Accuracy = 49.5% (99/200) (classification)\n",
      "-t 2 -c 2.000000 -g 0.031250 -b 1\n",
      "Accuracy = 86% (172/200) (classification)\n",
      "-t 2 -c 2.000000 -g 0.062500 -b 1\n",
      "Accuracy = 90% (180/200) (classification)\n",
      "-t 2 -c 2.000000 -g 0.125000 -b 1\n",
      "Accuracy = 91.5% (183/200) (classification)\n",
      "-t 2 -c 2.000000 -g 0.250000 -b 1\n",
      "Accuracy = 92% (184/200) (classification)\n",
      "-t 2 -c 2.000000 -g 0.500000 -b 1\n",
      "Accuracy = 93.5% (187/200) (classification)\n",
      "-t 2 -c 2.000000 -g 1.000000 -b 1\n",
      "Accuracy = 93% (186/200) (classification)\n",
      "-t 2 -c 2.000000 -g 2.000000 -b 1\n",
      "Accuracy = 94% (188/200) (classification)\n",
      "-t 2 -c 2.000000 -g 4.000000 -b 1\n",
      "Accuracy = 96% (192/200) (classification)\n",
      "-t 2 -c 2.000000 -g 8.000000 -b 1\n",
      "Accuracy = 95.5% (191/200) (classification)\n",
      "-t 2 -c 2.000000 -g 16.000000 -b 1\n",
      "Accuracy = 95.5% (191/200) (classification)\n",
      "-t 2 -c 2.000000 -g 32.000000 -b 1\n",
      "Accuracy = 95.5% (191/200) (classification)\n",
      "-t 2 -c 2.000000 -g 64.000000 -b 1\n",
      "Accuracy = 96.5% (193/200) (classification)\n",
      "-t 2 -c 2.000000 -g 128.000000 -b 1\n",
      "Accuracy = 95% (190/200) (classification)\n",
      "-t 2 -c 2.000000 -g 256.000000 -b 1\n",
      "Accuracy = 87% (174/200) (classification)\n",
      "-t 2 -c 2.000000 -g 512.000000 -b 1\n",
      "Accuracy = 89.5% (179/200) (classification)\n",
      "-t 2 -c 2.000000 -g 1024.000000 -b 1\n",
      "Accuracy = 86.5% (173/200) (classification)\n",
      "-t 2 -c 2.000000 -g 2048.000000 -b 1\n",
      "Accuracy = 85.5% (171/200) (classification)\n",
      "-t 2 -c 2.000000 -g 4096.000000 -b 1\n",
      "Accuracy = 63% (126/200) (classification)\n",
      "-t 2 -c 2.000000 -g 8192.000000 -b 1\n",
      "Accuracy = 58.5% (117/200) (classification)\n",
      "-t 2 -c 2.000000 -g 16384.000000 -b 1\n",
      "Accuracy = 51% (102/200) (classification)\n",
      "-t 2 -c 4.000000 -g 0.031250 -b 1\n",
      "Accuracy = 89.5% (179/200) (classification)\n",
      "-t 2 -c 4.000000 -g 0.062500 -b 1\n",
      "Accuracy = 91.5% (183/200) (classification)\n",
      "-t 2 -c 4.000000 -g 0.125000 -b 1\n",
      "Accuracy = 92% (184/200) (classification)\n",
      "-t 2 -c 4.000000 -g 0.250000 -b 1\n",
      "Accuracy = 93% (186/200) (classification)\n",
      "-t 2 -c 4.000000 -g 0.500000 -b 1\n",
      "Accuracy = 93.5% (187/200) (classification)\n",
      "-t 2 -c 4.000000 -g 1.000000 -b 1\n",
      "Accuracy = 93% (186/200) (classification)\n",
      "-t 2 -c 4.000000 -g 2.000000 -b 1\n",
      "Accuracy = 93% (186/200) (classification)\n",
      "-t 2 -c 4.000000 -g 4.000000 -b 1\n",
      "Accuracy = 95% (190/200) (classification)\n",
      "-t 2 -c 4.000000 -g 8.000000 -b 1\n",
      "Accuracy = 94.5% (189/200) (classification)\n",
      "-t 2 -c 4.000000 -g 16.000000 -b 1\n",
      "Accuracy = 95.5% (191/200) (classification)\n",
      "-t 2 -c 4.000000 -g 32.000000 -b 1\n",
      "Accuracy = 95.5% (191/200) (classification)\n",
      "-t 2 -c 4.000000 -g 64.000000 -b 1\n",
      "Accuracy = 95% (190/200) (classification)\n",
      "-t 2 -c 4.000000 -g 128.000000 -b 1\n",
      "Accuracy = 93.5% (187/200) (classification)\n",
      "-t 2 -c 4.000000 -g 256.000000 -b 1\n",
      "Accuracy = 86.5% (173/200) (classification)\n",
      "-t 2 -c 4.000000 -g 512.000000 -b 1\n",
      "Accuracy = 88.5% (177/200) (classification)\n",
      "-t 2 -c 4.000000 -g 1024.000000 -b 1\n",
      "Accuracy = 87.5% (175/200) (classification)\n",
      "-t 2 -c 4.000000 -g 2048.000000 -b 1\n",
      "Accuracy = 77% (154/200) (classification)\n",
      "-t 2 -c 4.000000 -g 4096.000000 -b 1\n",
      "Accuracy = 62.5% (125/200) (classification)\n",
      "-t 2 -c 4.000000 -g 8192.000000 -b 1\n",
      "Accuracy = 56.5% (113/200) (classification)\n",
      "-t 2 -c 4.000000 -g 16384.000000 -b 1\n",
      "Accuracy = 49.5% (99/200) (classification)\n",
      "-t 2 -c 8.000000 -g 0.031250 -b 1\n",
      "Accuracy = 90% (180/200) (classification)\n",
      "-t 2 -c 8.000000 -g 0.062500 -b 1\n",
      "Accuracy = 92% (184/200) (classification)\n",
      "-t 2 -c 8.000000 -g 0.125000 -b 1\n",
      "Accuracy = 93% (186/200) (classification)\n",
      "-t 2 -c 8.000000 -g 0.250000 -b 1\n",
      "Accuracy = 93.5% (187/200) (classification)\n",
      "-t 2 -c 8.000000 -g 0.500000 -b 1\n",
      "Accuracy = 93.5% (187/200) (classification)\n",
      "-t 2 -c 8.000000 -g 1.000000 -b 1\n",
      "Accuracy = 93% (186/200) (classification)\n",
      "-t 2 -c 8.000000 -g 2.000000 -b 1\n",
      "Accuracy = 95% (190/200) (classification)\n",
      "-t 2 -c 8.000000 -g 4.000000 -b 1\n",
      "Accuracy = 95% (190/200) (classification)\n",
      "-t 2 -c 8.000000 -g 8.000000 -b 1\n",
      "Accuracy = 95.5% (191/200) (classification)\n",
      "-t 2 -c 8.000000 -g 16.000000 -b 1\n",
      "Accuracy = 96% (192/200) (classification)\n",
      "-t 2 -c 8.000000 -g 32.000000 -b 1\n",
      "Accuracy = 95% (190/200) (classification)\n",
      "-t 2 -c 8.000000 -g 64.000000 -b 1\n",
      "Accuracy = 94.5% (189/200) (classification)\n",
      "-t 2 -c 8.000000 -g 128.000000 -b 1\n",
      "Accuracy = 93.5% (187/200) (classification)\n",
      "-t 2 -c 8.000000 -g 256.000000 -b 1\n",
      "Accuracy = 84% (168/200) (classification)\n",
      "-t 2 -c 8.000000 -g 512.000000 -b 1\n",
      "Accuracy = 89% (178/200) (classification)\n",
      "-t 2 -c 8.000000 -g 1024.000000 -b 1\n",
      "Accuracy = 87% (174/200) (classification)\n",
      "-t 2 -c 8.000000 -g 2048.000000 -b 1\n",
      "Accuracy = 77% (154/200) (classification)\n",
      "-t 2 -c 8.000000 -g 4096.000000 -b 1\n",
      "Accuracy = 65% (130/200) (classification)\n",
      "-t 2 -c 8.000000 -g 8192.000000 -b 1\n",
      "Accuracy = 56.5% (113/200) (classification)\n",
      "-t 2 -c 8.000000 -g 16384.000000 -b 1\n",
      "Accuracy = 38.5% (77/200) (classification)\n",
      "-t 2 -c 16.000000 -g 0.031250 -b 1\n",
      "Accuracy = 92% (184/200) (classification)\n",
      "-t 2 -c 16.000000 -g 0.062500 -b 1\n",
      "Accuracy = 93% (186/200) (classification)\n",
      "-t 2 -c 16.000000 -g 0.125000 -b 1\n",
      "Accuracy = 93% (186/200) (classification)\n",
      "-t 2 -c 16.000000 -g 0.250000 -b 1\n",
      "Accuracy = 93.5% (187/200) (classification)\n",
      "-t 2 -c 16.000000 -g 0.500000 -b 1\n",
      "Accuracy = 92% (184/200) (classification)\n",
      "-t 2 -c 16.000000 -g 1.000000 -b 1\n",
      "Accuracy = 92.5% (185/200) (classification)\n",
      "-t 2 -c 16.000000 -g 2.000000 -b 1\n",
      "Accuracy = 93.5% (187/200) (classification)\n",
      "-t 2 -c 16.000000 -g 4.000000 -b 1\n",
      "Accuracy = 95% (190/200) (classification)\n",
      "-t 2 -c 16.000000 -g 8.000000 -b 1\n",
      "Accuracy = 95% (190/200) (classification)\n",
      "-t 2 -c 16.000000 -g 16.000000 -b 1\n",
      "Accuracy = 96.5% (193/200) (classification)\n",
      "-t 2 -c 16.000000 -g 32.000000 -b 1\n",
      "Accuracy = 95% (190/200) (classification)\n",
      "-t 2 -c 16.000000 -g 64.000000 -b 1\n",
      "Accuracy = 94% (188/200) (classification)\n",
      "-t 2 -c 16.000000 -g 128.000000 -b 1\n",
      "Accuracy = 87% (174/200) (classification)\n",
      "-t 2 -c 16.000000 -g 256.000000 -b 1\n",
      "Accuracy = 89.5% (179/200) (classification)\n",
      "-t 2 -c 16.000000 -g 512.000000 -b 1\n",
      "Accuracy = 82.5% (165/200) (classification)\n",
      "-t 2 -c 16.000000 -g 1024.000000 -b 1\n",
      "Accuracy = 86% (172/200) (classification)\n",
      "-t 2 -c 16.000000 -g 2048.000000 -b 1\n",
      "Accuracy = 76% (152/200) (classification)\n",
      "-t 2 -c 16.000000 -g 4096.000000 -b 1\n",
      "Accuracy = 66.5% (133/200) (classification)\n",
      "-t 2 -c 16.000000 -g 8192.000000 -b 1\n",
      "Accuracy = 57% (114/200) (classification)\n",
      "-t 2 -c 16.000000 -g 16384.000000 -b 1\n",
      "Accuracy = 49.5% (99/200) (classification)\n",
      "-t 2 -c 32.000000 -g 0.031250 -b 1\n",
      "Accuracy = 92.5% (185/200) (classification)\n",
      "-t 2 -c 32.000000 -g 0.062500 -b 1\n",
      "Accuracy = 93.5% (187/200) (classification)\n",
      "-t 2 -c 32.000000 -g 0.125000 -b 1\n",
      "Accuracy = 93.5% (187/200) (classification)\n",
      "-t 2 -c 32.000000 -g 0.250000 -b 1\n",
      "Accuracy = 92.5% (185/200) (classification)\n",
      "-t 2 -c 32.000000 -g 0.500000 -b 1\n",
      "Accuracy = 92% (184/200) (classification)\n",
      "-t 2 -c 32.000000 -g 1.000000 -b 1\n",
      "Accuracy = 94% (188/200) (classification)\n",
      "-t 2 -c 32.000000 -g 2.000000 -b 1\n",
      "Accuracy = 95% (190/200) (classification)\n",
      "-t 2 -c 32.000000 -g 4.000000 -b 1\n",
      "Accuracy = 95.5% (191/200) (classification)\n",
      "-t 2 -c 32.000000 -g 8.000000 -b 1\n",
      "Accuracy = 95.5% (191/200) (classification)\n",
      "-t 2 -c 32.000000 -g 16.000000 -b 1\n",
      "Accuracy = 96% (192/200) (classification)\n",
      "-t 2 -c 32.000000 -g 32.000000 -b 1\n",
      "Accuracy = 95.5% (191/200) (classification)\n",
      "-t 2 -c 32.000000 -g 64.000000 -b 1\n",
      "Accuracy = 93.5% (187/200) (classification)\n",
      "-t 2 -c 32.000000 -g 128.000000 -b 1\n",
      "Accuracy = 92.5% (185/200) (classification)\n",
      "-t 2 -c 32.000000 -g 256.000000 -b 1\n",
      "Accuracy = 84% (168/200) (classification)\n",
      "-t 2 -c 32.000000 -g 512.000000 -b 1\n",
      "Accuracy = 88% (176/200) (classification)\n",
      "-t 2 -c 32.000000 -g 1024.000000 -b 1\n",
      "Accuracy = 87% (174/200) (classification)\n",
      "-t 2 -c 32.000000 -g 2048.000000 -b 1\n",
      "Accuracy = 76% (152/200) (classification)\n",
      "-t 2 -c 32.000000 -g 4096.000000 -b 1\n",
      "Accuracy = 65% (130/200) (classification)\n",
      "-t 2 -c 32.000000 -g 8192.000000 -b 1\n",
      "Accuracy = 56.5% (113/200) (classification)\n",
      "-t 2 -c 32.000000 -g 16384.000000 -b 1\n",
      "Accuracy = 50.5% (101/200) (classification)\n",
      "-t 2 -c 64.000000 -g 0.031250 -b 1\n",
      "Accuracy = 93.5% (187/200) (classification)\n",
      "-t 2 -c 64.000000 -g 0.062500 -b 1\n",
      "Accuracy = 93.5% (187/200) (classification)\n",
      "-t 2 -c 64.000000 -g 0.125000 -b 1\n",
      "Accuracy = 93% (186/200) (classification)\n",
      "-t 2 -c 64.000000 -g 0.250000 -b 1\n",
      "Accuracy = 93% (186/200) (classification)\n",
      "-t 2 -c 64.000000 -g 0.500000 -b 1\n",
      "Accuracy = 93% (186/200) (classification)\n",
      "-t 2 -c 64.000000 -g 1.000000 -b 1\n",
      "Accuracy = 94.5% (189/200) (classification)\n",
      "-t 2 -c 64.000000 -g 2.000000 -b 1\n",
      "Accuracy = 94.5% (189/200) (classification)\n",
      "-t 2 -c 64.000000 -g 4.000000 -b 1\n",
      "Accuracy = 96% (192/200) (classification)\n",
      "-t 2 -c 64.000000 -g 8.000000 -b 1\n"
     ]
    },
    {
     "name": "stdout",
     "output_type": "stream",
     "text": [
      "Accuracy = 96% (192/200) (classification)\n",
      "-t 2 -c 64.000000 -g 16.000000 -b 1\n",
      "Accuracy = 95% (190/200) (classification)\n",
      "-t 2 -c 64.000000 -g 32.000000 -b 1\n",
      "Accuracy = 95% (190/200) (classification)\n",
      "-t 2 -c 64.000000 -g 64.000000 -b 1\n",
      "Accuracy = 93% (186/200) (classification)\n",
      "-t 2 -c 64.000000 -g 128.000000 -b 1\n",
      "Accuracy = 92% (184/200) (classification)\n",
      "-t 2 -c 64.000000 -g 256.000000 -b 1\n",
      "Accuracy = 85% (170/200) (classification)\n",
      "-t 2 -c 64.000000 -g 512.000000 -b 1\n",
      "Accuracy = 89.5% (179/200) (classification)\n",
      "-t 2 -c 64.000000 -g 1024.000000 -b 1\n",
      "Accuracy = 81% (162/200) (classification)\n",
      "-t 2 -c 64.000000 -g 2048.000000 -b 1\n",
      "Accuracy = 86% (172/200) (classification)\n",
      "-t 2 -c 64.000000 -g 4096.000000 -b 1\n",
      "Accuracy = 65% (130/200) (classification)\n",
      "-t 2 -c 64.000000 -g 8192.000000 -b 1\n",
      "Accuracy = 56.5% (113/200) (classification)\n",
      "-t 2 -c 64.000000 -g 16384.000000 -b 1\n",
      "Accuracy = 51% (102/200) (classification)\n",
      "-t 2 -c 128.000000 -g 0.031250 -b 1\n",
      "Accuracy = 93.5% (187/200) (classification)\n",
      "-t 2 -c 128.000000 -g 0.062500 -b 1\n",
      "Accuracy = 93% (186/200) (classification)\n",
      "-t 2 -c 128.000000 -g 0.125000 -b 1\n",
      "Accuracy = 93.5% (187/200) (classification)\n",
      "-t 2 -c 128.000000 -g 0.250000 -b 1\n",
      "Accuracy = 93% (186/200) (classification)\n",
      "-t 2 -c 128.000000 -g 0.500000 -b 1\n",
      "Accuracy = 93.5% (187/200) (classification)\n",
      "-t 2 -c 128.000000 -g 1.000000 -b 1\n",
      "Accuracy = 93.5% (187/200) (classification)\n",
      "-t 2 -c 128.000000 -g 2.000000 -b 1\n",
      "Accuracy = 95.5% (191/200) (classification)\n",
      "-t 2 -c 128.000000 -g 4.000000 -b 1\n",
      "Accuracy = 95% (190/200) (classification)\n",
      "-t 2 -c 128.000000 -g 8.000000 -b 1\n",
      "Accuracy = 95% (190/200) (classification)\n",
      "-t 2 -c 128.000000 -g 16.000000 -b 1\n",
      "Accuracy = 93% (186/200) (classification)\n",
      "-t 2 -c 128.000000 -g 32.000000 -b 1\n",
      "Accuracy = 94.5% (189/200) (classification)\n",
      "-t 2 -c 128.000000 -g 64.000000 -b 1\n",
      "Accuracy = 91.5% (183/200) (classification)\n",
      "-t 2 -c 128.000000 -g 128.000000 -b 1\n",
      "Accuracy = 88% (176/200) (classification)\n",
      "-t 2 -c 128.000000 -g 256.000000 -b 1\n",
      "Accuracy = 84.5% (169/200) (classification)\n",
      "-t 2 -c 128.000000 -g 512.000000 -b 1\n",
      "Accuracy = 88.5% (177/200) (classification)\n",
      "-t 2 -c 128.000000 -g 1024.000000 -b 1\n",
      "Accuracy = 87.5% (175/200) (classification)\n",
      "-t 2 -c 128.000000 -g 2048.000000 -b 1\n",
      "Accuracy = 85.5% (171/200) (classification)\n",
      "-t 2 -c 128.000000 -g 4096.000000 -b 1\n",
      "Accuracy = 64.5% (129/200) (classification)\n",
      "-t 2 -c 128.000000 -g 8192.000000 -b 1\n",
      "Accuracy = 55.5% (111/200) (classification)\n",
      "-t 2 -c 128.000000 -g 16384.000000 -b 1\n",
      "Accuracy = 51% (102/200) (classification)\n",
      "-t 2 -c 256.000000 -g 0.031250 -b 1\n",
      "Accuracy = 93.5% (187/200) (classification)\n",
      "-t 2 -c 256.000000 -g 0.062500 -b 1\n",
      "Accuracy = 93.5% (187/200) (classification)\n",
      "-t 2 -c 256.000000 -g 0.125000 -b 1\n",
      "Accuracy = 93.5% (187/200) (classification)\n",
      "-t 2 -c 256.000000 -g 0.250000 -b 1\n",
      "Accuracy = 92.5% (185/200) (classification)\n",
      "-t 2 -c 256.000000 -g 0.500000 -b 1\n",
      "Accuracy = 94% (188/200) (classification)\n",
      "-t 2 -c 256.000000 -g 1.000000 -b 1\n",
      "Accuracy = 93.5% (187/200) (classification)\n",
      "-t 2 -c 256.000000 -g 2.000000 -b 1\n",
      "Accuracy = 95% (190/200) (classification)\n",
      "-t 2 -c 256.000000 -g 4.000000 -b 1\n",
      "Accuracy = 95.5% (191/200) (classification)\n",
      "-t 2 -c 256.000000 -g 8.000000 -b 1\n",
      "Accuracy = 94.5% (189/200) (classification)\n",
      "-t 2 -c 256.000000 -g 16.000000 -b 1\n",
      "Accuracy = 92.5% (185/200) (classification)\n",
      "-t 2 -c 256.000000 -g 32.000000 -b 1\n",
      "Accuracy = 94% (188/200) (classification)\n",
      "-t 2 -c 256.000000 -g 64.000000 -b 1\n",
      "Accuracy = 90.5% (181/200) (classification)\n",
      "-t 2 -c 256.000000 -g 128.000000 -b 1\n",
      "Accuracy = 92.5% (185/200) (classification)\n",
      "-t 2 -c 256.000000 -g 256.000000 -b 1\n",
      "Accuracy = 87% (174/200) (classification)\n",
      "-t 2 -c 256.000000 -g 512.000000 -b 1\n",
      "Accuracy = 88.5% (177/200) (classification)\n",
      "-t 2 -c 256.000000 -g 1024.000000 -b 1\n",
      "Accuracy = 86.5% (173/200) (classification)\n",
      "-t 2 -c 256.000000 -g 2048.000000 -b 1\n",
      "Accuracy = 76% (152/200) (classification)\n",
      "-t 2 -c 256.000000 -g 4096.000000 -b 1\n",
      "Accuracy = 73% (146/200) (classification)\n",
      "-t 2 -c 256.000000 -g 8192.000000 -b 1\n",
      "Accuracy = 55% (110/200) (classification)\n",
      "-t 2 -c 256.000000 -g 16384.000000 -b 1\n",
      "Accuracy = 38% (76/200) (classification)\n",
      "-t 2 -c 512.000000 -g 0.031250 -b 1\n",
      "Accuracy = 92.5% (185/200) (classification)\n",
      "-t 2 -c 512.000000 -g 0.062500 -b 1\n",
      "Accuracy = 92.5% (185/200) (classification)\n",
      "-t 2 -c 512.000000 -g 0.125000 -b 1\n",
      "Accuracy = 93% (186/200) (classification)\n",
      "-t 2 -c 512.000000 -g 0.250000 -b 1\n",
      "Accuracy = 93% (186/200) (classification)\n",
      "-t 2 -c 512.000000 -g 0.500000 -b 1\n",
      "Accuracy = 93% (186/200) (classification)\n",
      "-t 2 -c 512.000000 -g 1.000000 -b 1\n",
      "Accuracy = 93.5% (187/200) (classification)\n",
      "-t 2 -c 512.000000 -g 2.000000 -b 1\n",
      "Accuracy = 95.5% (191/200) (classification)\n",
      "-t 2 -c 512.000000 -g 4.000000 -b 1\n",
      "Accuracy = 95% (190/200) (classification)\n",
      "-t 2 -c 512.000000 -g 8.000000 -b 1\n",
      "Accuracy = 94% (188/200) (classification)\n",
      "-t 2 -c 512.000000 -g 16.000000 -b 1\n",
      "Accuracy = 94.5% (189/200) (classification)\n",
      "-t 2 -c 512.000000 -g 32.000000 -b 1\n",
      "Accuracy = 90.5% (181/200) (classification)\n",
      "-t 2 -c 512.000000 -g 64.000000 -b 1\n",
      "Accuracy = 90.5% (181/200) (classification)\n",
      "-t 2 -c 512.000000 -g 128.000000 -b 1\n",
      "Accuracy = 89.5% (179/200) (classification)\n",
      "-t 2 -c 512.000000 -g 256.000000 -b 1\n",
      "Accuracy = 85.5% (171/200) (classification)\n",
      "-t 2 -c 512.000000 -g 512.000000 -b 1\n",
      "Accuracy = 89% (178/200) (classification)\n",
      "-t 2 -c 512.000000 -g 1024.000000 -b 1\n",
      "Accuracy = 86.5% (173/200) (classification)\n",
      "-t 2 -c 512.000000 -g 2048.000000 -b 1\n",
      "Accuracy = 74.5% (149/200) (classification)\n",
      "-t 2 -c 512.000000 -g 4096.000000 -b 1\n",
      "Accuracy = 66% (132/200) (classification)\n",
      "-t 2 -c 512.000000 -g 8192.000000 -b 1\n",
      "Accuracy = 56.5% (113/200) (classification)\n",
      "-t 2 -c 512.000000 -g 16384.000000 -b 1\n",
      "Accuracy = 49.5% (99/200) (classification)\n",
      "-t 2 -c 1024.000000 -g 0.031250 -b 1\n",
      "Accuracy = 92.5% (185/200) (classification)\n",
      "-t 2 -c 1024.000000 -g 0.062500 -b 1\n",
      "Accuracy = 92.5% (185/200) (classification)\n",
      "-t 2 -c 1024.000000 -g 0.125000 -b 1\n",
      "Accuracy = 92.5% (185/200) (classification)\n",
      "-t 2 -c 1024.000000 -g 0.250000 -b 1\n",
      "Accuracy = 93.5% (187/200) (classification)\n",
      "-t 2 -c 1024.000000 -g 0.500000 -b 1\n",
      "Accuracy = 94% (188/200) (classification)\n",
      "-t 2 -c 1024.000000 -g 1.000000 -b 1\n",
      "Accuracy = 94.5% (189/200) (classification)\n",
      "-t 2 -c 1024.000000 -g 2.000000 -b 1\n",
      "Accuracy = 95% (190/200) (classification)\n",
      "-t 2 -c 1024.000000 -g 4.000000 -b 1\n",
      "Accuracy = 95.5% (191/200) (classification)\n",
      "-t 2 -c 1024.000000 -g 8.000000 -b 1\n",
      "Accuracy = 94.5% (189/200) (classification)\n",
      "-t 2 -c 1024.000000 -g 16.000000 -b 1\n",
      "Accuracy = 94% (188/200) (classification)\n",
      "-t 2 -c 1024.000000 -g 32.000000 -b 1\n",
      "Accuracy = 89.5% (179/200) (classification)\n",
      "-t 2 -c 1024.000000 -g 64.000000 -b 1\n",
      "Accuracy = 91% (182/200) (classification)\n",
      "-t 2 -c 1024.000000 -g 128.000000 -b 1\n",
      "Accuracy = 92.5% (185/200) (classification)\n",
      "-t 2 -c 1024.000000 -g 256.000000 -b 1\n",
      "Accuracy = 92% (184/200) (classification)\n",
      "-t 2 -c 1024.000000 -g 512.000000 -b 1\n",
      "Accuracy = 84.5% (169/200) (classification)\n",
      "-t 2 -c 1024.000000 -g 1024.000000 -b 1\n",
      "Accuracy = 86.5% (173/200) (classification)\n",
      "-t 2 -c 1024.000000 -g 2048.000000 -b 1\n",
      "Accuracy = 84% (168/200) (classification)\n",
      "-t 2 -c 1024.000000 -g 4096.000000 -b 1\n",
      "Accuracy = 78% (156/200) (classification)\n",
      "-t 2 -c 1024.000000 -g 8192.000000 -b 1\n",
      "Accuracy = 58.5% (117/200) (classification)\n",
      "-t 2 -c 1024.000000 -g 16384.000000 -b 1\n",
      "Accuracy = 51% (102/200) (classification)\n",
      "-t 2 -c 2048.000000 -g 0.031250 -b 1\n",
      "Accuracy = 92.5% (185/200) (classification)\n",
      "-t 2 -c 2048.000000 -g 0.062500 -b 1\n",
      "Accuracy = 92.5% (185/200) (classification)\n",
      "-t 2 -c 2048.000000 -g 0.125000 -b 1\n",
      "Accuracy = 92.5% (185/200) (classification)\n",
      "-t 2 -c 2048.000000 -g 0.250000 -b 1\n",
      "Accuracy = 93% (186/200) (classification)\n",
      "-t 2 -c 2048.000000 -g 0.500000 -b 1\n",
      "Accuracy = 94% (188/200) (classification)\n",
      "-t 2 -c 2048.000000 -g 1.000000 -b 1\n",
      "Accuracy = 94.5% (189/200) (classification)\n",
      "-t 2 -c 2048.000000 -g 2.000000 -b 1\n",
      "Accuracy = 95% (190/200) (classification)\n",
      "-t 2 -c 2048.000000 -g 4.000000 -b 1\n",
      "Accuracy = 95% (190/200) (classification)\n",
      "-t 2 -c 2048.000000 -g 8.000000 -b 1\n",
      "Accuracy = 94.5% (189/200) (classification)\n",
      "-t 2 -c 2048.000000 -g 16.000000 -b 1\n",
      "Accuracy = 94.5% (189/200) (classification)\n",
      "-t 2 -c 2048.000000 -g 32.000000 -b 1\n",
      "Accuracy = 90.5% (181/200) (classification)\n",
      "-t 2 -c 2048.000000 -g 64.000000 -b 1\n",
      "Accuracy = 90% (180/200) (classification)\n",
      "-t 2 -c 2048.000000 -g 128.000000 -b 1\n",
      "Accuracy = 92.5% (185/200) (classification)\n",
      "-t 2 -c 2048.000000 -g 256.000000 -b 1\n",
      "Accuracy = 91.5% (183/200) (classification)\n",
      "-t 2 -c 2048.000000 -g 512.000000 -b 1\n",
      "Accuracy = 82% (164/200) (classification)\n",
      "-t 2 -c 2048.000000 -g 1024.000000 -b 1\n",
      "Accuracy = 87.5% (175/200) (classification)\n",
      "-t 2 -c 2048.000000 -g 2048.000000 -b 1\n",
      "Accuracy = 78% (156/200) (classification)\n",
      "-t 2 -c 2048.000000 -g 4096.000000 -b 1\n",
      "Accuracy = 64% (128/200) (classification)\n",
      "-t 2 -c 2048.000000 -g 8192.000000 -b 1\n",
      "Accuracy = 56.5% (113/200) (classification)\n",
      "-t 2 -c 2048.000000 -g 16384.000000 -b 1\n",
      "Accuracy = 51% (102/200) (classification)\n",
      "-t 2 -c 4096.000000 -g 0.031250 -b 1\n",
      "Accuracy = 92% (184/200) (classification)\n",
      "-t 2 -c 4096.000000 -g 0.062500 -b 1\n",
      "Accuracy = 92.5% (185/200) (classification)\n",
      "-t 2 -c 4096.000000 -g 0.125000 -b 1\n",
      "Accuracy = 93% (186/200) (classification)\n",
      "-t 2 -c 4096.000000 -g 0.250000 -b 1\n",
      "Accuracy = 93% (186/200) (classification)\n",
      "-t 2 -c 4096.000000 -g 0.500000 -b 1\n"
     ]
    },
    {
     "name": "stdout",
     "output_type": "stream",
     "text": [
      "Accuracy = 93.5% (187/200) (classification)\n",
      "-t 2 -c 4096.000000 -g 1.000000 -b 1\n",
      "Accuracy = 93.5% (187/200) (classification)\n",
      "-t 2 -c 4096.000000 -g 2.000000 -b 1\n",
      "Accuracy = 95.5% (191/200) (classification)\n",
      "-t 2 -c 4096.000000 -g 4.000000 -b 1\n",
      "Accuracy = 95% (190/200) (classification)\n",
      "-t 2 -c 4096.000000 -g 8.000000 -b 1\n",
      "Accuracy = 93% (186/200) (classification)\n",
      "-t 2 -c 4096.000000 -g 16.000000 -b 1\n",
      "Accuracy = 89% (178/200) (classification)\n",
      "-t 2 -c 4096.000000 -g 32.000000 -b 1\n",
      "Accuracy = 87% (174/200) (classification)\n",
      "-t 2 -c 4096.000000 -g 64.000000 -b 1\n",
      "Accuracy = 91.5% (183/200) (classification)\n",
      "-t 2 -c 4096.000000 -g 128.000000 -b 1\n",
      "Accuracy = 92% (184/200) (classification)\n",
      "-t 2 -c 4096.000000 -g 256.000000 -b 1\n",
      "Accuracy = 91% (182/200) (classification)\n",
      "-t 2 -c 4096.000000 -g 512.000000 -b 1\n",
      "Accuracy = 89% (178/200) (classification)\n",
      "-t 2 -c 4096.000000 -g 1024.000000 -b 1\n",
      "Accuracy = 88% (176/200) (classification)\n",
      "-t 2 -c 4096.000000 -g 2048.000000 -b 1\n",
      "Accuracy = 86% (172/200) (classification)\n",
      "-t 2 -c 4096.000000 -g 4096.000000 -b 1\n",
      "Accuracy = 81.5% (163/200) (classification)\n",
      "-t 2 -c 4096.000000 -g 8192.000000 -b 1\n",
      "Accuracy = 59% (118/200) (classification)\n",
      "-t 2 -c 4096.000000 -g 16384.000000 -b 1\n",
      "Accuracy = 39.5% (79/200) (classification)\n",
      "-t 2 -c 8192.000000 -g 0.031250 -b 1\n",
      "Accuracy = 93% (186/200) (classification)\n",
      "-t 2 -c 8192.000000 -g 0.062500 -b 1\n",
      "Accuracy = 92.5% (185/200) (classification)\n",
      "-t 2 -c 8192.000000 -g 0.125000 -b 1\n",
      "Accuracy = 93.5% (187/200) (classification)\n",
      "-t 2 -c 8192.000000 -g 0.250000 -b 1\n",
      "Accuracy = 93% (186/200) (classification)\n",
      "-t 2 -c 8192.000000 -g 0.500000 -b 1\n",
      "Accuracy = 94% (188/200) (classification)\n",
      "-t 2 -c 8192.000000 -g 1.000000 -b 1\n",
      "Accuracy = 93.5% (187/200) (classification)\n",
      "-t 2 -c 8192.000000 -g 2.000000 -b 1\n",
      "Accuracy = 95% (190/200) (classification)\n",
      "-t 2 -c 8192.000000 -g 4.000000 -b 1\n",
      "Accuracy = 94.5% (189/200) (classification)\n",
      "-t 2 -c 8192.000000 -g 8.000000 -b 1\n",
      "Accuracy = 94% (188/200) (classification)\n",
      "-t 2 -c 8192.000000 -g 16.000000 -b 1\n",
      "Accuracy = 86% (172/200) (classification)\n",
      "-t 2 -c 8192.000000 -g 32.000000 -b 1\n",
      "Accuracy = 90.5% (181/200) (classification)\n",
      "-t 2 -c 8192.000000 -g 64.000000 -b 1\n",
      "Accuracy = 89% (178/200) (classification)\n",
      "-t 2 -c 8192.000000 -g 128.000000 -b 1\n",
      "Accuracy = 89% (178/200) (classification)\n",
      "-t 2 -c 8192.000000 -g 256.000000 -b 1\n",
      "Accuracy = 91% (182/200) (classification)\n",
      "-t 2 -c 8192.000000 -g 512.000000 -b 1\n",
      "Accuracy = 88.5% (177/200) (classification)\n",
      "-t 2 -c 8192.000000 -g 1024.000000 -b 1\n",
      "Accuracy = 86% (172/200) (classification)\n",
      "-t 2 -c 8192.000000 -g 2048.000000 -b 1\n",
      "Accuracy = 85.5% (171/200) (classification)\n",
      "-t 2 -c 8192.000000 -g 4096.000000 -b 1\n",
      "Accuracy = 62.5% (125/200) (classification)\n",
      "-t 2 -c 8192.000000 -g 8192.000000 -b 1\n",
      "Accuracy = 56% (112/200) (classification)\n",
      "-t 2 -c 8192.000000 -g 16384.000000 -b 1\n",
      "Accuracy = 49.5% (99/200) (classification)\n",
      "-t 2 -c 16384.000000 -g 0.031250 -b 1\n",
      "Accuracy = 92.5% (185/200) (classification)\n",
      "-t 2 -c 16384.000000 -g 0.062500 -b 1\n",
      "Accuracy = 93% (186/200) (classification)\n",
      "-t 2 -c 16384.000000 -g 0.125000 -b 1\n",
      "Accuracy = 93% (186/200) (classification)\n",
      "-t 2 -c 16384.000000 -g 0.250000 -b 1\n",
      "Accuracy = 93.5% (187/200) (classification)\n",
      "-t 2 -c 16384.000000 -g 0.500000 -b 1\n",
      "Accuracy = 94% (188/200) (classification)\n",
      "-t 2 -c 16384.000000 -g 1.000000 -b 1\n",
      "Accuracy = 94.5% (189/200) (classification)\n",
      "-t 2 -c 16384.000000 -g 2.000000 -b 1\n",
      "Accuracy = 96% (192/200) (classification)\n",
      "-t 2 -c 16384.000000 -g 4.000000 -b 1\n",
      "Accuracy = 94% (188/200) (classification)\n",
      "-t 2 -c 16384.000000 -g 8.000000 -b 1\n",
      "Accuracy = 90.5% (181/200) (classification)\n",
      "-t 2 -c 16384.000000 -g 16.000000 -b 1\n",
      "Accuracy = 89% (178/200) (classification)\n",
      "-t 2 -c 16384.000000 -g 32.000000 -b 1\n",
      "Accuracy = 92% (184/200) (classification)\n",
      "-t 2 -c 16384.000000 -g 64.000000 -b 1\n",
      "Accuracy = 90.5% (181/200) (classification)\n",
      "-t 2 -c 16384.000000 -g 128.000000 -b 1\n",
      "Accuracy = 92% (184/200) (classification)\n",
      "-t 2 -c 16384.000000 -g 256.000000 -b 1\n",
      "Accuracy = 86.5% (173/200) (classification)\n",
      "-t 2 -c 16384.000000 -g 512.000000 -b 1\n",
      "Accuracy = 88.5% (177/200) (classification)\n",
      "-t 2 -c 16384.000000 -g 1024.000000 -b 1\n",
      "Accuracy = 81% (162/200) (classification)\n",
      "-t 2 -c 16384.000000 -g 2048.000000 -b 1\n",
      "Accuracy = 78% (156/200) (classification)\n",
      "-t 2 -c 16384.000000 -g 4096.000000 -b 1\n",
      "Accuracy = 64.5% (129/200) (classification)\n",
      "-t 2 -c 16384.000000 -g 8192.000000 -b 1\n",
      "Accuracy = 56.5% (113/200) (classification)\n",
      "-t 2 -c 16384.000000 -g 16384.000000 -b 1\n",
      "Accuracy = 49.5% (99/200) (classification)\n"
     ]
    }
   ],
   "source": [
    "# Loose grid serach\n",
    "acc_list = []\n",
    "c_list = []\n",
    "g_list = []\n",
    "\n",
    "C = 2 ** (-5)\n",
    "\n",
    "for i in range(20):\n",
    "    \n",
    "    gamma = 2 ** (-5)\n",
    "    \n",
    "    for j in range(20):\n",
    "        pp = \"-t 2 -c %f -g %f -b 1\" % (C , gamma)\n",
    "        print(pp)\n",
    "        param = svm_parameter(pp)\n",
    "        model = svm_train(prob, param)\n",
    "        p_label, p_acc, p_val = svm_predict(yval.squeeze(), Xval.squeeze(), model, '-b 1')\n",
    "        \n",
    "        acc_list.append(p_acc[0])\n",
    "        c_list.append(C)\n",
    "        g_list.append(gamma)\n",
    "\n",
    "        gamma = gamma *2\n",
    "        \n",
    "    C = C * 2"
   ]
  },
  {
   "cell_type": "code",
   "execution_count": 22,
   "metadata": {},
   "outputs": [],
   "source": [
    "lsres = np.column_stack([c_list, g_list, acc_list])"
   ]
  },
  {
   "cell_type": "code",
   "execution_count": 23,
   "metadata": {},
   "outputs": [
    {
     "name": "stdout",
     "output_type": "stream",
     "text": [
      "-t 2 -c 0.500000 -g 64.000000 -b 1\n",
      "Accuracy = 97% (194/200) (classification)\n"
     ]
    }
   ],
   "source": [
    "C = 0.5\n",
    "gamma = 64\n",
    "pp_optimal = \"-t 2 -c %f -g %f -b 1\" % (C , gamma)\n",
    "print(pp_optimal)\n",
    "param = svm_parameter(pp_optimal)\n",
    "model = svm_train(prob, param)\n",
    "p_label, p_acc, p_val = svm_predict(yval.squeeze(), Xval.squeeze(), model, '-b 1')"
   ]
  },
  {
   "cell_type": "code",
   "execution_count": 24,
   "metadata": {},
   "outputs": [
    {
     "name": "stdout",
     "output_type": "stream",
     "text": [
      "Accuracy = 95.2607% (201/211) (classification)\n"
     ]
    }
   ],
   "source": [
    "p_label, p_acc, p_val = svm_predict(y.squeeze(), X.squeeze(), model, '-b 1')"
   ]
  },
  {
   "cell_type": "code",
   "execution_count": 25,
   "metadata": {},
   "outputs": [
    {
     "data": {
      "text/plain": [
       "array([ 0.5, 64. , 97. ])"
      ]
     },
     "execution_count": 25,
     "metadata": {},
     "output_type": "execute_result"
    }
   ],
   "source": [
    "lsres[91]"
   ]
  },
  {
   "cell_type": "code",
   "execution_count": 26,
   "metadata": {},
   "outputs": [
    {
     "name": "stdout",
     "output_type": "stream",
     "text": [
      "Accuracy = 47.8% (4780/10000) (classification)\n"
     ]
    },
    {
     "data": {
      "image/png": "[encoded data removed]",
      "text/plain": [
       "<Figure size 432x288 with 1 Axes>"
      ]
     },
     "metadata": {
      "needs_background": "light"
     },
     "output_type": "display_data"
    }
   ],
   "source": [
    "# Visualize(X, y, model) boundary learned by the SVM and overlays the data on it\n",
    "\n",
    "# Plot the training data on top of the boundary\n",
    "mask= (y==1).squeeze()\n",
    "plt.plot(X[mask][:,0], X[mask][:,1], '+', markersize=6, color = 'green')\n",
    "plt.plot(X[~mask][:,0], X[~mask][:,1], 'bo', markersize=3, color = 'blue')\n",
    "\n",
    "\n",
    "x1plot = np.linspace(min(X[:,0]), max(X[:,0]), 100)\n",
    "x2plot = np.linspace(min(X[:,1]), max(X[:,1]), 100)\n",
    "XX1, XX2 = np.meshgrid(x1plot, x2plot)\n",
    "\n",
    "XY = np.dstack((XX1, XX2))\n",
    "XY = XY.reshape(100*100, 2)\n",
    "\n",
    "vals = np.zeros(XX1.shape)\n",
    "zp_label, p_acc, p_vals= svm_predict([], XY, model, '-b 1')\n",
    "zp_label = np.array(zp_label)\n",
    "zp_label = zp_label.reshape(100, 100)\n",
    "\n",
    "h = plt.contour(XX1, XX2, zp_label)\n",
    "plt.show()\n",
    "\n"
   ]
  },
  {
   "cell_type": "markdown",
   "metadata": {},
   "source": [
    "# Spam Classification"
   ]
  },
  {
   "cell_type": "markdown",
   "metadata": {},
   "source": [
    "Use SVMs to build your own spam filter."
   ]
  },
  {
   "cell_type": "markdown",
   "metadata": {},
   "source": [
    "## Preprocessing email content"
   ]
  },
  {
   "cell_type": "markdown",
   "metadata": {},
   "source": [
    "To use an SVM to classify emails into Spam v.s. Non-Spam, we first need to convert each email into a vector of features"
   ]
  },
  {
   "cell_type": "code",
   "execution_count": 59,
   "metadata": {},
   "outputs": [
    {
     "name": "stdout",
     "output_type": "stream",
     "text": [
      "['> Anyone knows how much it costs to host a web portal ?\\n', '>\\n', \"Well, it depends on how many visitors you're expecting.\\n\", 'This can be anywhere from less than 10 bucks a month to a couple of $100. \\n', 'You should checkout http://www.rackspace.com/ or perhaps Amazon EC2 \\n', 'if youre running something big..\\n', '\\n', 'To unsubscribe yourself from this mailing list, send an email to:\\n', 'groupname-unsubscribe@egroups.com\\n', '\\n']\n"
     ]
    }
   ],
   "source": [
    "filename = 'data/emailSample1.txt'\n",
    "\n",
    "with open(filename) as f:\n",
    "    filecontent = f.readlines()\n",
    "    filecontent = str(filecontent)\n",
    "  \n",
    "print(filecontent)"
   ]
  },
  {
   "cell_type": "code",
   "execution_count": null,
   "metadata": {},
   "outputs": [],
   "source": [
    "def processEmail(email_contents):\n",
    "\n",
    "    # The function a the body of an email and \n",
    "    # returns a list of word_indices contained in the email. \n",
    "\n",
    "    # Load Vocabulary\n",
    "    vocabList = getVocabList();\n",
    "\n",
    "    # Init return value\n",
    "    word_indices = []\n",
    "\n",
    "# Find the Headers ( \\n\\n and remove )\n",
    "% Uncomment the following lines if you are working with raw emails with the\n",
    "% full headers\n",
    "\n",
    "% hdrstart = strfind(email_contents, ([char(10) char(10)]));\n",
    "% email_contents = email_contents(hdrstart(1):end);\n",
    "\n",
    "    # Lower case\n",
    "    email_contents = email_contents.lower()\n",
    "\n",
    "    # Strip all HTML\n",
    "    #Looks for any expression that starts with < and ends with > and replace\n",
    "    # and does not have any < or > in the tag it with a space\n",
    "    email_contents = email_contents.replace('<[^<>]+>', ' ')\n",
    "\n",
    "    # Handle Numbers\n",
    "    # Look for one or more characters between 0-9\n",
    "    num_list = list(range(10))\n",
    "    email_contents = map(lambda x: x if x not in num_list else 'number', email_contents)\n",
    "\n",
    "% Handle URLS\n",
    "% Look for strings starting with http:// or https://\n",
    "email_contents = regexprep(email_contents, ...\n",
    "                           '(http|https)://[^\\s]*', 'httpaddr');\n",
    "\n",
    "% Handle Email Addresses\n",
    "% Look for strings with @ in the middle\n",
    "email_contents = regexprep(email_contents, '[^\\s]+@[^\\s]+', 'emailaddr');\n",
    "\n",
    "% Handle $ sign\n",
    "email_contents = regexprep(email_contents, '[$]+', 'dollar');\n",
    "\n",
    "\n",
    "% ========================== Tokenize Email ===========================\n",
    "\n",
    "% Output the email to screen as well\n",
    "fprintf('\\n==== Processed Email ====\\n\\n');\n",
    "\n",
    "% Process file\n",
    "l = 0;\n",
    "\n",
    "while ~isempty(email_contents)\n",
    "\n",
    "    % Tokenize and also get rid of any punctuation\n",
    "    [str, email_contents] = ...\n",
    "       strtok(email_contents, ...\n",
    "              [' @$/#.-:&*+=[]?!(){},''\">_<;%' char(10) char(13)]);\n",
    "   \n",
    "    % Remove any non alphanumeric characters\n",
    "    str = regexprep(str, '[^a-zA-Z0-9]', '');\n",
    "\n",
    "    % Stem the word \n",
    "    % (the porterStemmer sometimes has issues, so we use a try catch block)\n",
    "    try str = porterStemmer(strtrim(str)); \n",
    "    catch str = ''; continue;\n",
    "    end;\n",
    "\n",
    "    % Skip the word if it is too short\n",
    "    if length(str) < 1\n",
    "       continue;\n",
    "    end\n",
    "\n",
    "    % Look up the word in the dictionary and add to word_indices if\n",
    "    % found\n",
    "    % ====================== YOUR CODE HERE ======================\n",
    "    % Instructions: Fill in this function to add the index of str to\n",
    "    %               word_indices if it is in the vocabulary. At this point\n",
    "    %               of the code, you have a stemmed word from the email in\n",
    "    %               the variable str. You should look up str in the\n",
    "    %               vocabulary list (vocabList). If a match exists, you\n",
    "    %               should add the index of the word to the word_indices\n",
    "    %               vector. Concretely, if str = 'action', then you should\n",
    "    %               look up the vocabulary list to find where in vocabList\n",
    "    %               'action' appears. For example, if vocabList{18} =\n",
    "    %               'action', then, you should add 18 to the word_indices \n",
    "    %               vector (e.g., word_indices = [word_indices ; 18]; ).\n",
    "    % \n",
    "    % Note: vocabList{idx} returns a the word with index idx in the\n",
    "    %       vocabulary list.\n",
    "    % \n",
    "    % Note: You can use strcmp(str1, str2) to compare two strings (str1 and\n",
    "    %       str2). It will return 1 only if the two strings are equivalent.\n",
    "    %\n",
    "\n",
    "\n",
    "\n",
    "\n",
    "\n",
    "\n",
    "\n",
    "\n",
    "\n",
    "\n",
    "    % =============================================================\n",
    "\n",
    "\n",
    "    % Print to screen, ensuring that the output lines are not too long\n",
    "    if (l + length(str) + 1) > 78\n",
    "        fprintf('\\n');\n",
    "        l = 0;\n",
    "    end\n",
    "    fprintf('%s ', str);\n",
    "    l = l + length(str) + 1;\n",
    "\n",
    "end\n",
    "\n",
    "% Print footer\n",
    "fprintf('\\n\\n=========================\\n');\n",
    "\n",
    "end\n"
   ]
  },
  {
   "cell_type": "code",
   "execution_count": 64,
   "metadata": {},
   "outputs": [],
   "source": [
    "filecontent = filecontent.lower()"
   ]
  },
  {
   "cell_type": "code",
   "execution_count": 70,
   "metadata": {},
   "outputs": [
    {
     "data": {
      "text/plain": [
       "'[\\'> anyone knows how much it costs to host a web portal ?\\\\n\\', \\'>\\\\n\\', \"well, it depends on how many visitors you\\'re expecting.\\\\n\", \\'this can be anywhere from less than 10 bucks a month to a couple of $100. \\\\n\\', \\'you should checkout http://www.rackspace.com/ or perhaps amazon ec2 \\\\n\\', \\'if youre running something big..\\\\n\\', \\'\\\\n\\', \\'to unsubscribe yourself from this mailing list, send an email to:\\\\n\\', \\'groupname-unsubscribe@egroups.com\\\\n\\', \\'\\\\n\\']'"
      ]
     },
     "execution_count": 70,
     "metadata": {},
     "output_type": "execute_result"
    }
   ],
   "source": [
    "filecontent"
   ]
  },
  {
   "cell_type": "code",
   "execution_count": 73,
   "metadata": {},
   "outputs": [],
   "source": [
    "filecontent = filecontent.replace('<[^<>]+>', ' ')"
   ]
  },
  {
   "cell_type": "code",
   "execution_count": 74,
   "metadata": {},
   "outputs": [
    {
     "data": {
      "text/plain": [
       "'[\\'> anyone knows how much it costs to host a web portal ?\\\\n\\', \\'>\\\\n\\', \"well, it depends on how many visitors you\\'re expecting.\\\\n\", \\'this can be anywhere from less than 10 bucks a month to a couple of $100. \\\\n\\', \\'you should checkout http://www.rackspace.com/ or perhaps amazon ec2 \\\\n\\', \\'if youre running something big..\\\\n\\', \\'\\\\n\\', \\'to unsubscribe yourself from this mailing list, send an email to:\\\\n\\', \\'groupname-unsubscribe@egroups.com\\\\n\\', \\'\\\\n\\']'"
      ]
     },
     "execution_count": 74,
     "metadata": {},
     "output_type": "execute_result"
    }
   ],
   "source": [
    "filecontent"
   ]
  },
  {
   "cell_type": "code",
   "execution_count": 68,
   "metadata": {},
   "outputs": [],
   "source": [
    "new = list(map(lambda x: 'number' if x in list(range(10)) else x, filecontent))\n",
    "#map(lambda x: 'lower' if x < 3 else 'higher', lst)"
   ]
  },
  {
   "cell_type": "code",
   "execution_count": 109,
   "metadata": {},
   "outputs": [
    {
     "ename": "TypeError",
     "evalue": "'str' object does not support item assignment",
     "output_type": "error",
     "traceback": [
      "\u001b[0;31m---------------------------------------------------------------------------\u001b[0m",
      "\u001b[0;31mTypeError\u001b[0m                                 Traceback (most recent call last)",
      "\u001b[0;32m<ipython-input-109-1764b453f556>\u001b[0m in \u001b[0;36m<module>\u001b[0;34m\u001b[0m\n\u001b[1;32m      2\u001b[0m     \u001b[0;32mfor\u001b[0m \u001b[0mj\u001b[0m \u001b[0;32min\u001b[0m \u001b[0mrange\u001b[0m\u001b[0;34m(\u001b[0m\u001b[0;36m10\u001b[0m\u001b[0;34m)\u001b[0m\u001b[0;34m:\u001b[0m\u001b[0;34m\u001b[0m\u001b[0;34m\u001b[0m\u001b[0m\n\u001b[1;32m      3\u001b[0m         \u001b[0;32mif\u001b[0m \u001b[0mword\u001b[0m \u001b[0;34m==\u001b[0m \u001b[0mstr\u001b[0m\u001b[0;34m(\u001b[0m\u001b[0mj\u001b[0m\u001b[0;34m)\u001b[0m\u001b[0;34m:\u001b[0m\u001b[0;34m\u001b[0m\u001b[0;34m\u001b[0m\u001b[0m\n\u001b[0;32m----> 4\u001b[0;31m             \u001b[0mfilecontent\u001b[0m\u001b[0;34m[\u001b[0m\u001b[0mi\u001b[0m\u001b[0;34m]\u001b[0m \u001b[0;34m=\u001b[0m \u001b[0;34m'number'\u001b[0m\u001b[0;34m\u001b[0m\u001b[0;34m\u001b[0m\u001b[0m\n\u001b[0m\u001b[1;32m      5\u001b[0m         \u001b[0mj\u001b[0m\u001b[0;34m+=\u001b[0m\u001b[0;36m1\u001b[0m\u001b[0;34m\u001b[0m\u001b[0;34m\u001b[0m\u001b[0m\n",
      "\u001b[0;31mTypeError\u001b[0m: 'str' object does not support item assignment"
     ]
    }
   ],
   "source": [
    "for i, word in enumerate(filecontent):\n",
    "    for j in range(10):\n",
    "        if word == str(j):\n",
    "            filecontent[i] = 'number'\n",
    "        j+=1"
   ]
  },
  {
   "cell_type": "code",
   "execution_count": 104,
   "metadata": {},
   "outputs": [
    {
     "data": {
      "text/plain": [
       "'[\\'> anyone knows how much it costs to host a web portal ?\\\\n\\', \\'>\\\\n\\', \"well, it depends on how many visitors you\\'re expecting.\\\\n\", \\'this can be anywhere from less than number0 bucks a month to a couple of $number00. \\\\n\\', \\'you should checkout http://www.rackspace.com/ or perhaps amazon ec2 \\\\n\\', \\'if youre running something big..\\\\n\\', \\'\\\\n\\', \\'to unsubscribe yourself from this mailing list, send an email to:\\\\n\\', \\'groupname-unsubscribe@egroups.com\\\\n\\', \\'\\\\n\\']'"
      ]
     },
     "execution_count": 104,
     "metadata": {},
     "output_type": "execute_result"
    }
   ],
   "source": [
    "filecontent"
   ]
  },
  {
   "cell_type": "code",
   "execution_count": null,
   "metadata": {},
   "outputs": [],
   "source": [
    "def getVocabList()\n",
    "# The function reads the fixed vocabulary list in vocab.txt and returns a\n",
    "# cell array of the words in vocalList\n",
    "\n",
    "# Read the fixed vocabulary list\n",
    "    fid = fopen('data/vocab.txt')\n",
    "\n",
    "# Store all dictionary words in cell array vocab{}\n",
    "    n = 1899  % Total number of words in the dictionary\n",
    "\n",
    "# For ease of implementation, we use a struct to map the strings => integers\n",
    "# In practice, you'll want to use some form of hashmap\n",
    "vocabList = cell(n, 1);\n",
    "    for i = 1:n\n",
    "        % Word Index (can ignore since it will be = i)\n",
    "        fscanf(fid, '%d', 1);\n",
    "        % Actual Word\n",
    "        vocabList{i} = fscanf(fid, '%s', 1);\n",
    "\n",
    "    return vocabList\n",
    "\n"
   ]
  },
  {
   "cell_type": "code",
   "execution_count": 32,
   "metadata": {},
   "outputs": [
    {
     "name": "stdout",
     "output_type": "stream",
     "text": [
      "> Anyone knows how much it costs to host a web portal ?\n",
      "\n",
      ">\n",
      "\n",
      "Well, it depends on how many visitors you're expecting.\n",
      "\n",
      "This can be anywhere from less than 10 bucks a month to a couple of $100. \n",
      "\n",
      "You should checkout http://www.rackspace.com/ or perhaps Amazon EC2 \n",
      "\n",
      "if youre running something big..\n",
      "\n",
      "\n",
      "\n",
      "To unsubscribe yourself from this mailing list, send an email to:\n",
      "\n",
      "groupname-unsubscribe@egroups.com\n",
      "\n",
      "\n",
      "\n"
     ]
    }
   ],
   "source": []
  }
 ],
 "metadata": {
  "kernelspec": {
   "display_name": "Python 3",
   "language": "python",
   "name": "python3"
  },
  "language_info": {
   "codemirror_mode": {
    "name": "ipython",
    "version": 3
   },
   "file_extension": ".py",
   "mimetype": "text/x-python",
   "name": "python",
   "nbconvert_exporter": "python",
   "pygments_lexer": "ipython3",
   "version": "3.7.1"
  },
  "toc": {
   "base_numbering": 1,
   "nav_menu": {},
   "number_sections": true,
   "sideBar": true,
   "skip_h1_title": false,
   "title_cell": "Table of Contents",
   "title_sidebar": "Contents",
   "toc_cell": false,
   "toc_position": {},
   "toc_section_display": true,
   "toc_window_display": true
  },
  "varInspector": {
   "cols": {
    "lenName": 16,
    "lenType": 16,
    "lenVar": 40
   },
   "kernels_config": {
    "python": {
     "delete_cmd_postfix": "",
     "delete_cmd_prefix": "del ",
     "library": "var_list.py",
     "varRefreshCmd": "print(var_dic_list())"
    },
    "r": {
     "delete_cmd_postfix": ") ",
     "delete_cmd_prefix": "rm(",
     "library": "var_list.r",
     "varRefreshCmd": "cat(var_dic_list()) "
    }
   },
   "types_to_exclude": [
    "module",
    "function",
    "builtin_function_or_method",
    "instance",
    "_Feature"
   ],
   "window_display": false
  }
 },
 "nbformat": 4,
 "nbformat_minor": 2
}
