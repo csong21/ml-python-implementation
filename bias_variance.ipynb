{
 "cells": [
  {
   "cell_type": "markdown",
   "metadata": {},
   "source": [
    "# Bias - Variance"
   ]
  },
  {
   "cell_type": "code",
   "execution_count": 1,
   "metadata": {},
   "outputs": [],
   "source": [
    "import pandas as pd\n",
    "import math\n",
    "import numpy as np\n",
    "import math\n",
    "import pandas as pd\n",
    "import seaborn as sns\n",
    "import numpy.linalg as la\n",
    "import scipy.optimize as op\n",
    "from scipy.stats import norm\n",
    "from scipy.io import loadmat\n",
    "from scipy.optimize import minimize\n",
    "from matplotlib import pyplot as plt"
   ]
  },
  {
   "cell_type": "markdown",
   "metadata": {},
   "source": [
    "## Load and plot data"
   ]
  },
  {
   "cell_type": "code",
   "execution_count": 2,
   "metadata": {},
   "outputs": [
    {
     "name": "stdout",
     "output_type": "stream",
     "text": [
      "data keys: dict_keys(['__header__', '__version__', '__globals__', 'X', 'y', 'Xtest', 'ytest', 'Xval', 'yval'])\n"
     ]
    }
   ],
   "source": [
    "data = loadmat('data/ex5data1.mat')\n",
    "print('data keys:', data.keys())\n",
    "Xtrain = data['X']\n",
    "ytrain = data['y']\n",
    "Xtest = data['Xtest']\n",
    "ytest = data['ytest']\n",
    "Xval = data['Xval']\n",
    "yval = data['yval']"
   ]
  },
  {
   "cell_type": "code",
   "execution_count": 3,
   "metadata": {},
   "outputs": [
    {
     "name": "stdout",
     "output_type": "stream",
     "text": [
      "Xtrain.shape: (12, 1)\n",
      "ytrain.shape: (12, 1)\n",
      "Xtest.shape: (21, 1)\n",
      "ytest.shape: (21, 1)\n",
      "XCV.shape: (21, 1)\n",
      "yCV.shape: (21, 1)\n"
     ]
    }
   ],
   "source": [
    "print('Xtrain.shape:', Xtrain.shape)\n",
    "print('ytrain.shape:', ytrain.shape)\n",
    "print('Xtest.shape:', Xtest.shape)\n",
    "print('ytest.shape:', ytest.shape)\n",
    "print('XCV.shape:', Xval.shape)\n",
    "print('yCV.shape:', yval.shape)"
   ]
  },
  {
   "cell_type": "code",
   "execution_count": 4,
   "metadata": {},
   "outputs": [],
   "source": [
    "# Visualize the example dataset\n",
    "dTrain = np.column_stack([Xtrain, ytrain])"
   ]
  },
  {
   "cell_type": "code",
   "execution_count": 5,
   "metadata": {},
   "outputs": [
    {
     "data": {
      "image/png": "[encoded data removed]",
      "text/plain": [
       "<Figure size 432x288 with 1 Axes>"
      ]
     },
     "metadata": {
      "needs_background": "light"
     },
     "output_type": "display_data"
    }
   ],
   "source": [
    "fig = sns.scatterplot(dTrain[:,0], dTrain[:,1])\n",
    "\n",
    "plt.xlabel(\"Change in water level (x)\")\n",
    "plt.ylabel(\"Water flowing out of the dam (y)\")\n",
    "plt.title(\"Fig. 1: training data\") # You can comment this line out if you don't need title\n",
    "plt.show(fig)\n"
   ]
  },
  {
   "cell_type": "markdown",
   "metadata": {},
   "source": [
    "## Fitting linear regression"
   ]
  },
  {
   "cell_type": "code",
   "execution_count": 42,
   "metadata": {},
   "outputs": [],
   "source": [
    "def costFuncRegLinear(theta, X, y, lambda_):\n",
    "    theta = theta.reshape([-1,1])\n",
    "    m = X.shape[0] \n",
    "    J = 0.5/m * ((la.norm(X @ theta - y)) **2 + lambda_ * la.norm(theta) **2)\n",
    "\n",
    "    grad = 1/m *((X.T @ (X @ theta - y)) + lambda_ * theta)\n",
    "\n",
    "    return J, grad.flatten()\n",
    "\n",
    "def f(theta, X, y, lambda_):\n",
    "    return costFuncRegLinear(theta, X, y, lambda_)[0]\n",
    "\n",
    "def fprime(theta, X, y,lambda_):\n",
    "    return costFuncRegLinear(theta, X, y, lambda_)[1]"
   ]
  },
  {
   "cell_type": "code",
   "execution_count": 40,
   "metadata": {},
   "outputs": [
    {
     "name": "stdout",
     "output_type": "stream",
     "text": [
      "f: theta (2, 1)\n",
      "Using theta initialized at [1, 1], we see an output of 304.034859\n",
      " and gradient of \n",
      " [-15.21968234 598.25074417]\n"
     ]
    }
   ],
   "source": [
    "# Initialize theta\n",
    "m = Xtrain.shape[0]\n",
    "n = Xtrain.shape[1]\n",
    "initial_theta = np.zeros([n+1, 1])\n",
    "\n",
    "# add bias term\n",
    "myXtrain = np.column_stack([np.ones([m,1]), Xtrain])\n",
    "\n",
    "J = f(init_theta, myXtrain, ytrain, 1)\n",
    "grad = fprime(init_theta, myXtrain, ytrain, 1)\n",
    "print('Using theta initialized at [1, 1], we see an output of %f\\n'% J,\n",
    "     'and gradient of \\n', grad)"
   ]
  },
  {
   "cell_type": "code",
   "execution_count": 125,
   "metadata": {},
   "outputs": [],
   "source": [
    "op.fmin_bfgs?\n"
   ]
  },
  {
   "cell_type": "code",
   "execution_count": 43,
   "metadata": {},
   "outputs": [
    {
     "name": "stdout",
     "output_type": "stream",
     "text": [
      "Optimization terminated successfully.\n",
      "         Current function value: 22.373906\n",
      "         Iterations: 3\n",
      "         Function evaluations: 5\n",
      "         Gradient evaluations: 5\n"
     ]
    }
   ],
   "source": [
    "learned_theta = op.fmin_bfgs(f = f, \n",
    "                x0 = initial_theta.flatten(), \n",
    "                fprime = fprime,\n",
    "                args = (myXtrain, ytrain, 0),\n",
    "                full_output=True)"
   ]
  },
  {
   "cell_type": "code",
   "execution_count": 48,
   "metadata": {},
   "outputs": [],
   "source": [
    "# fmin_bfgs actually calls minimize function\n",
    "res = op.minimize(f, initial_theta.flatten(), args =(myXtrain, ytrain, 0), method='BFGS', tol=1e-6)"
   ]
  },
  {
   "cell_type": "code",
   "execution_count": 58,
   "metadata": {},
   "outputs": [
    {
     "name": "stdout",
     "output_type": "stream",
     "text": [
      "[13.08790351  0.36777923] [13.08790327  0.36777922]\n"
     ]
    }
   ],
   "source": [
    "# Note that the results are the same\n",
    "print(learned_theta[0], res['x'])"
   ]
  },
  {
   "cell_type": "code",
   "execution_count": 70,
   "metadata": {},
   "outputs": [
    {
     "data": {
      "image/png": "[encoded data removed]",
      "text/plain": [
       "<Figure size 432x288 with 1 Axes>"
      ]
     },
     "metadata": {
      "needs_background": "light"
     },
     "output_type": "display_data"
    }
   ],
   "source": [
    "fig = sns.scatterplot(dTrain[:,0], dTrain[:,1])\n",
    "\n",
    "plt.xlabel(\"Change in water level (x)\")\n",
    "plt.ylabel(\"Water flowing out of the dam (y)\")\n",
    "plt.plot(Xtrain, learned_theta[0][0] + learned_theta[0][1] * Xtrain, '-')\n",
    "plt.title(\"Fig. 2: fitted linear\") \n",
    "plt.show(fig)\n"
   ]
  },
  {
   "cell_type": "markdown",
   "metadata": {},
   "source": [
    "## Learning curve"
   ]
  },
  {
   "cell_type": "code",
   "execution_count": 74,
   "metadata": {},
   "outputs": [
    {
     "ename": "SyntaxError",
     "evalue": "invalid syntax (<ipython-input-74-4b561aedee3d>, line 1)",
     "output_type": "error",
     "traceback": [
      "\u001b[0;36m  File \u001b[0;32m\"<ipython-input-74-4b561aedee3d>\"\u001b[0;36m, line \u001b[0;32m1\u001b[0m\n\u001b[0;31m    def learningCurve(X, y, Xval, yval, lambda_)\u001b[0m\n\u001b[0m                                                ^\u001b[0m\n\u001b[0;31mSyntaxError\u001b[0m\u001b[0;31m:\u001b[0m invalid syntax\n"
     ]
    }
   ],
   "source": [
    "def learningCurve(X, y, Xval, yval, lambda_)\n",
    "    # Generates the train and cross validation set errors needed to plot a learning curve.\n",
    "    # In particular, it returns two vectors of the same length - error_train and error_val. \n",
    "    # Then, error_train[i] contains the training error for i examples (and similarly for error_val[i]).\n",
    "    \n",
    "    # Number of training examples\n",
    "    m = X.shape[0] \n",
    "\n",
    "\n",
    "% Note: You should evaluate the training error on the first i training\n",
    "%       examples (i.e., X(1:i, :) and y(1:i)).\n",
    "%\n",
    "%       For the cross-validation error, you should instead evaluate on\n",
    "%       the _entire_ cross validation set (Xval and yval).\n",
    "%\n",
    "% Note: If you are using your cost function (linearRegCostFunction)\n",
    "%       to compute the training and cross validation error, you should \n",
    "%       call the function with the lambda argument set to 0. \n",
    "%       Do note that you will still need to use lambda when running\n",
    "%       the training to obtain the theta parameters.\n",
    "%\n",
    "% Hint: You can loop over the examples with the following:\n",
    "%\n",
    "%       for i in range(m):\n",
    "%           # Randomly choose i examples\n",
    "            trX = X[np.random.choice(X.shape[0], i, replace=False)]\n",
    "\n",
    "            \n",
    "%           % X(1:i, :) and y(1:i), storing the result in \n",
    "%           % error_train(i) and error_val(i)\n",
    "%           ....\n",
    "%           \n",
    "%       end\n",
    "%\n",
    "\n",
    "% ---------------------- Sample Solution ----------------------\n",
    "\n",
    "\n",
    "\n",
    "\n",
    "\n",
    "    return error_train, error_val\n"
   ]
  },
  {
   "cell_type": "code",
   "execution_count": 75,
   "metadata": {},
   "outputs": [
    {
     "name": "stdout",
     "output_type": "stream",
     "text": [
      "3\n",
      "10\n",
      "3\n",
      "10\n",
      "6\n",
      "3\n",
      "7\n",
      "7\n",
      "10\n",
      "7\n"
     ]
    }
   ],
   "source": [
    "from random import randint\n",
    "# seed random number generator\n",
    "\n",
    "# generate some integers\n",
    "for _ in range(10):\n",
    "    value = randint(0, 10)\n",
    "    print(value)"
   ]
  },
  {
   "cell_type": "code",
   "execution_count": null,
   "metadata": {},
   "outputs": [],
   "source": []
  }
 ],
 "metadata": {
  "kernelspec": {
   "display_name": "Python 3",
   "language": "python",
   "name": "python3"
  },
  "toc": {
   "base_numbering": 1,
   "nav_menu": {},
   "number_sections": true,
   "sideBar": true,
   "skip_h1_title": false,
   "title_cell": "Table of Contents",
   "title_sidebar": "Contents",
   "toc_cell": false,
   "toc_position": {},
   "toc_section_display": true,
   "toc_window_display": true
  },
  "varInspector": {
   "cols": {
    "lenName": 16,
    "lenType": 16,
    "lenVar": 40
   },
   "kernels_config": {
    "python": {
     "delete_cmd_postfix": "",
     "delete_cmd_prefix": "del ",
     "library": "var_list.py",
     "varRefreshCmd": "print(var_dic_list())"
    },
    "r": {
     "delete_cmd_postfix": ") ",
     "delete_cmd_prefix": "rm(",
     "library": "var_list.r",
     "varRefreshCmd": "cat(var_dic_list()) "
    }
   },
   "types_to_exclude": [
    "module",
    "function",
    "builtin_function_or_method",
    "instance",
    "_Feature"
   ],
   "window_display": false
  }
 },
 "nbformat": 4,
 "nbformat_minor": 4
}
