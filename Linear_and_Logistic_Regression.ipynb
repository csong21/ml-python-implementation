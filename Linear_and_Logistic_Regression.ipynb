{
 "cells": [
  {
   "cell_type": "markdown",
   "metadata": {},
   "source": [
    "# Linear regression and Logistic Regression"
   ]
  },
  {
   "cell_type": "code",
   "execution_count": 329,
   "metadata": {},
   "outputs": [],
   "source": [
    "import numpy as np\n",
    "import math\n",
    "import pandas as pd\n",
    "import seaborn as sns\n",
    "import numpy.linalg as la\n",
    "import scipy.optimize as op\n",
    "from scipy.optimize import minimize\n",
    "from scipy.io import loadmat\n",
    "from sklearn.preprocessing import PolynomialFeatures \n",
    "from matplotlib import pyplot as plt"
   ]
  },
  {
   "cell_type": "markdown",
   "metadata": {},
   "source": [
    "## Linear regression with one variable"
   ]
  },
  {
   "cell_type": "markdown",
   "metadata": {},
   "source": [
    "### Load and plot data"
   ]
  },
  {
   "cell_type": "markdown",
   "metadata": {},
   "source": [
    "The ex1data1.txt contains the dataset for our linear regression problem. \n",
    "The first column is the population of a city and the second column is the profit of a food truck in that city. A negative value for profit indicates a loss"
   ]
  },
  {
   "cell_type": "code",
   "execution_count": 2,
   "metadata": {},
   "outputs": [],
   "source": [
    "cols1 = ['pop', 'profit']\n",
    "data1 = pd.read_csv('data/ex1data1.txt', header = None, names = cols1)"
   ]
  },
  {
   "cell_type": "code",
   "execution_count": 3,
   "metadata": {},
   "outputs": [
    {
     "data": {
      "text/plain": [
       "(97, 2)"
      ]
     },
     "execution_count": 3,
     "metadata": {},
     "output_type": "execute_result"
    }
   ],
   "source": [
    "data1.shape"
   ]
  },
  {
   "cell_type": "code",
   "execution_count": 4,
   "metadata": {},
   "outputs": [
    {
     "data": {
      "image/png": "[encoded data removed]",
      "text/plain": [
       "<Figure size 432x288 with 1 Axes>"
      ]
     },
     "metadata": {
      "needs_background": "light"
     },
     "output_type": "display_data"
    }
   ],
   "source": [
    "data1.plot(kind='scatter',x='pop',y='profit',color='red')\n",
    "plt.xlabel('Population of City in 10,000s')\n",
    "plt.ylabel('Profit in $10,000s')\n",
    "plt.title('Scatter plot of training data')\n",
    "plt.show()"
   ]
  },
  {
   "cell_type": "markdown",
   "metadata": {},
   "source": [
    "### Loss function and Gradient Descent"
   ]
  },
  {
   "cell_type": "code",
   "execution_count": 53,
   "metadata": {},
   "outputs": [],
   "source": [
    "X = pd.DataFrame(data1['pop']).to_numpy()\n",
    "y = pd.DataFrame(data1['profit']).to_numpy()\n",
    "\n",
    "# Add a column of ones to X\n",
    "myX = np.append(np.ones([len(X),1]), X ,1)\n",
    "myX = myX.T\n",
    "y = y.T\n",
    "\n",
    "# Initialize fitting parameters\n",
    "d = myX.shape[0] # Dimensions of theta / number of features\n",
    "init_theta = np.zeros((d, 1))"
   ]
  },
  {
   "cell_type": "code",
   "execution_count": 55,
   "metadata": {},
   "outputs": [
    {
     "name": "stdout",
     "output_type": "stream",
     "text": [
      "myX shape: (2, 97)\n",
      "intial theta shape: (2, 1)\n",
      "y shape: (1, 97)\n"
     ]
    }
   ],
   "source": [
    "print('myX shape:', myX.shape)\n",
    "print('intial theta shape:', init_theta.shape)\n",
    "print('y shape:', y.shape)"
   ]
  },
  {
   "cell_type": "code",
   "execution_count": 48,
   "metadata": {},
   "outputs": [],
   "source": [
    "def computeCost(X, y, theta):\n",
    "    \n",
    "    # The function computes the cost of using theta as the parameter \n",
    "    # for linear regression to fit the data points in X and y\n",
    "\n",
    "    m = len(y.T) # number of training examples\n",
    "\n",
    "    cost = ((theta.T @ X - y) @ (theta.T @ X - y).T / (2 * m)).item()\n",
    "    \n",
    "    return cost"
   ]
  },
  {
   "cell_type": "code",
   "execution_count": 56,
   "metadata": {},
   "outputs": [
    {
     "name": "stdout",
     "output_type": "stream",
     "text": [
      "\n",
      "Testing the cost function ...\n",
      "\n",
      "With theta = [0 , 0]\n",
      "Cost computed = 32.072734\n",
      "\n",
      "Expected cost value (approx) 32.07\n",
      "\n",
      "\n",
      "With theta = [-1 ; 2]\n",
      "Cost computed = 54.242455\n",
      "\n",
      "Expected cost value (approx) 54.24\n",
      "\n"
     ]
    }
   ],
   "source": [
    "print('\\nTesting the cost function ...\\n')\n",
    "# compute and display initial cost\n",
    "J = computeCost(myX, y, init_theta)\n",
    "print('With theta = [0 , 0]\\nCost computed = %f\\n'% J)\n",
    "print('Expected cost value (approx) 32.07\\n')\n",
    "\n",
    "# further testing of the cost function\n",
    "J = computeCost(myX, y, np.array([-1 , 2]).reshape(-1,1))\n",
    "print('\\nWith theta = [-1 ; 2]\\nCost computed = %f\\n'% J)\n",
    "print('Expected cost value (approx) 54.24\\n')"
   ]
  },
  {
   "cell_type": "code",
   "execution_count": 75,
   "metadata": {},
   "outputs": [],
   "source": [
    "def gradientDescent(X, y, theta, alpha, num_iters):\n",
    "\n",
    "    # The function performs gradient descent to learn theta\n",
    "    # It updates theta by taking num_iters gradient steps with learning rate alpha\n",
    "\n",
    "    # Initialize some useful values\n",
    "    m = len(y.T) # number of training examples\n",
    "    loss = []\n",
    "    \n",
    "    for i in range(num_iters):\n",
    "        \n",
    "        J_theta = computeCost(X, y, theta)\n",
    "        \n",
    "        delta_J_0 = np.mean(theta.T @ X - y, axis=1).item()\n",
    "        delta_J_1 = ((theta.T @ X - y) @ (X[1, :].T / m)).item()\n",
    "    \n",
    "        delta = np.array([delta_J_0, delta_J_1]).reshape(-1,1)\n",
    "        theta = theta - alpha * delta\n",
    "        \n",
    "        loss.append(J_theta)\n",
    " \n",
    "        i +=1\n",
    "    return theta, loss"
   ]
  },
  {
   "cell_type": "code",
   "execution_count": 76,
   "metadata": {},
   "outputs": [],
   "source": [
    "# Some gradient descent settings\n",
    "iterations = 1500\n",
    "alpha = 0.01\n",
    "\n",
    "# run gradient descent\n",
    "theta, loss = gradientDescent(myX, y, init_theta, alpha, iterations)"
   ]
  },
  {
   "cell_type": "code",
   "execution_count": 67,
   "metadata": {},
   "outputs": [
    {
     "name": "stdout",
     "output_type": "stream",
     "text": [
      "Theta found by gradient descent:\n",
      " [[-3.63029144]\n",
      " [ 1.16636235]]\n",
      "Expected theta values (approx)\n",
      "\n",
      " -3.6303\n",
      "  1.1664\n",
      "\n",
      "\n"
     ]
    }
   ],
   "source": [
    "print('Theta found by gradient descent:\\n', theta)\n",
    "print('Expected theta values (approx)\\n')\n",
    "print(' -3.6303\\n  1.1664\\n\\n')"
   ]
  },
  {
   "cell_type": "code",
   "execution_count": 90,
   "metadata": {},
   "outputs": [
    {
     "data": {
      "text/plain": [
       "[<matplotlib.lines.Line2D at 0x12b041550>]"
      ]
     },
     "execution_count": 90,
     "metadata": {},
     "output_type": "execute_result"
    },
    {
     "data": {
      "image/png": "[encoded data removed]",
      "text/plain": [
       "<Figure size 432x288 with 1 Axes>"
      ]
     },
     "metadata": {
      "needs_background": "light"
     },
     "output_type": "display_data"
    }
   ],
   "source": [
    "# Plot the convergence graph\n",
    "plt.plot(loss)\n",
    "#plt.yscale('log')"
   ]
  },
  {
   "cell_type": "code",
   "execution_count": 70,
   "metadata": {},
   "outputs": [],
   "source": [
    "# To make predictions on profits in areas of 35,000 and 70,000 people\n",
    "predict1 = theta.T @ [1, 3.5]\n",
    "predict2 = theta.T @ [1, 7]"
   ]
  },
  {
   "cell_type": "code",
   "execution_count": 71,
   "metadata": {},
   "outputs": [
    {
     "data": {
      "text/plain": [
       "(array([0.45197679]), array([4.53424501]))"
      ]
     },
     "execution_count": 71,
     "metadata": {},
     "output_type": "execute_result"
    }
   ],
   "source": [
    "predict1, predict2"
   ]
  },
  {
   "cell_type": "code",
   "execution_count": 80,
   "metadata": {},
   "outputs": [
    {
     "data": {
      "image/png": "[encoded data removed]",
      "text/plain": [
       "<Figure size 432x288 with 1 Axes>"
      ]
     },
     "metadata": {
      "needs_background": "light"
     },
     "output_type": "display_data"
    }
   ],
   "source": [
    "plt.plot(data1['pop'], data1['profit'], '.', color = 'red')\n",
    "plt.plot(X, theta[0] + theta[1] * X, '-')\n",
    "plt.xlabel('Population of City in 10,000s')\n",
    "plt.ylabel('Profit in $10,000s')\n",
    "plt.title('Training data with linear regression')\n",
    "3plt.show()"
   ]
  },
  {
   "cell_type": "code",
   "execution_count": 83,
   "metadata": {},
   "outputs": [
    {
     "data": {
      "text/plain": [
       "<matplotlib.axes._subplots.AxesSubplot at 0x128510278>"
      ]
     },
     "execution_count": 83,
     "metadata": {},
     "output_type": "execute_result"
    },
    {
     "data": {
      "image/png": "[encoded data removed]",
      "text/plain": [
       "<Figure size 432x288 with 1 Axes>"
      ]
     },
     "metadata": {
      "needs_background": "light"
     },
     "output_type": "display_data"
    }
   ],
   "source": [
    "# Compare with gragh using seaborn\n",
    "sns.regplot(x='pop', y='profit', data=data1)"
   ]
  },
  {
   "cell_type": "markdown",
   "metadata": {},
   "source": [
    "## Linear regression with multiple variables"
   ]
  },
  {
   "cell_type": "markdown",
   "metadata": {},
   "source": [
    "### Plot the data"
   ]
  },
  {
   "cell_type": "markdown",
   "metadata": {},
   "source": [
    "The ex1data2.txt contains a training set of housing prices in Portland, Oregon. The first column is the size of the house (in square feet), the\n",
    "second column is the number of bedrooms, and the third column is the price\n",
    "of the house."
   ]
  },
  {
   "cell_type": "code",
   "execution_count": 84,
   "metadata": {},
   "outputs": [],
   "source": [
    "cols2 = ['size', 'num_of_bedrooms', 'housing_price']\n",
    "data2 = pd.read_csv('data/ex1data2.txt', header = None, names = cols2)"
   ]
  },
  {
   "cell_type": "code",
   "execution_count": 85,
   "metadata": {},
   "outputs": [
    {
     "data": {
      "image/png": "[encoded data removed]",
      "text/plain": [
       "<Figure size 432x288 with 1 Axes>"
      ]
     },
     "metadata": {
      "needs_background": "light"
     },
     "output_type": "display_data"
    }
   ],
   "source": [
    "data2.plot(kind='scatter',x='size',y='housing_price',color='red')\n",
    "plt.show()"
   ]
  },
  {
   "cell_type": "code",
   "execution_count": 86,
   "metadata": {},
   "outputs": [
    {
     "data": {
      "image/png": "[encoded data removed]",
      "text/plain": [
       "<Figure size 432x288 with 1 Axes>"
      ]
     },
     "metadata": {
      "needs_background": "light"
     },
     "output_type": "display_data"
    }
   ],
   "source": [
    "data2.plot(kind='scatter',x='num_of_bedrooms',y='housing_price',color='blue')\n",
    "plt.show()"
   ]
  },
  {
   "cell_type": "markdown",
   "metadata": {},
   "source": [
    "### Feature normalization"
   ]
  },
  {
   "cell_type": "code",
   "execution_count": 87,
   "metadata": {},
   "outputs": [],
   "source": [
    "# pandas.DataFrame.values: Return a Numpy representation of the DataFrame.\n",
    "X = data2[['size','num_of_bedrooms']].values\n",
    "y = pd.DataFrame(data2['housing_price']).to_numpy()\n",
    "\n",
    "# Transpose X to make it [d,n], where d is dimension of features, n is number of samples\n",
    "X = X.T\n",
    "y = y.T"
   ]
  },
  {
   "cell_type": "code",
   "execution_count": 88,
   "metadata": {},
   "outputs": [],
   "source": [
    "def feature_norm(X):\n",
    "    d = X.shape[0]\n",
    "    n = X.shape[1]\n",
    "    X_norm = np.zeros(X.shape)\n",
    "    for d in range(X.shape[0]):\n",
    "        mean = np.mean(X[d, :])\n",
    "        std = np.std(X[d, :])\n",
    "        print(mean, std)\n",
    "        X_norm[d, :] = (X[d, :] - mean)/std\n",
    "    return X_norm, mean, std"
   ]
  },
  {
   "cell_type": "code",
   "execution_count": 89,
   "metadata": {},
   "outputs": [
    {
     "name": "stdout",
     "output_type": "stream",
     "text": [
      "2000.6808510638298 786.2026187430467\n",
      "3.1702127659574466 0.7528428090618781\n"
     ]
    }
   ],
   "source": [
    "X_norm, mean, std = feature_norm(X)"
   ]
  },
  {
   "cell_type": "code",
   "execution_count": 93,
   "metadata": {},
   "outputs": [],
   "source": [
    "# Add a row of ones to X\n",
    "myX = np.append(np.ones([1, X.shape[1]]), X_norm ,0)"
   ]
  },
  {
   "cell_type": "code",
   "execution_count": 94,
   "metadata": {},
   "outputs": [
    {
     "name": "stdout",
     "output_type": "stream",
     "text": [
      "myX shape: (3, 47)\n",
      "theta shape: (2, 1)\n",
      "y shape: (1, 47)\n"
     ]
    }
   ],
   "source": [
    "print('myX shape:', myX.shape)\n",
    "print('theta shape:', theta.shape)\n",
    "print('y shape:', y.shape)"
   ]
  },
  {
   "cell_type": "markdown",
   "metadata": {},
   "source": [
    "### Gradient Descent with multiple variables"
   ]
  },
  {
   "cell_type": "code",
   "execution_count": 95,
   "metadata": {},
   "outputs": [],
   "source": [
    "def gradient_descent(iterations, alpha, myX, y):\n",
    "    # Initialize fitting parameters\n",
    "    d = myX.shape[0] # Dimensions of theta / number of features\n",
    "    theta = np.zeros((d, 1));\n",
    "    loss = []\n",
    "    for i in range(iterations):\n",
    "        # Cost function: mean squared error as a function of theta 1, 2, ..., d\n",
    "        J_theta =((theta.T @ myX - y) @ (theta.T @ myX - y).T / (2 * len(y))).item()\n",
    "        n = y.shape[1]\n",
    "        delta = ((theta.T @ myX - y) @ myX.T / n).T\n",
    "        theta = theta - alpha * delta\n",
    "        loss.append(J_theta)\n",
    "        i +=1\n",
    "    return theta, loss"
   ]
  },
  {
   "cell_type": "code",
   "execution_count": 96,
   "metadata": {},
   "outputs": [],
   "source": [
    "theta1, loss1 = gradient_descent(500, 0.01, myX, y)"
   ]
  },
  {
   "cell_type": "code",
   "execution_count": 97,
   "metadata": {},
   "outputs": [
    {
     "data": {
      "text/plain": [
       "[<matplotlib.lines.Line2D at 0x12b0f1be0>]"
      ]
     },
     "execution_count": 97,
     "metadata": {},
     "output_type": "execute_result"
    },
    {
     "data": {
      "image/png": "[encoded data removed]",
      "text/plain": [
       "<Figure size 432x288 with 1 Axes>"
      ]
     },
     "metadata": {
      "needs_background": "light"
     },
     "output_type": "display_data"
    }
   ],
   "source": [
    "# Plot the convergence graph\n",
    "plt.plot(loss1)\n",
    "#plt.yscale('log')"
   ]
  },
  {
   "cell_type": "markdown",
   "metadata": {},
   "source": [
    "### Selecting learning rate"
   ]
  },
  {
   "cell_type": "code",
   "execution_count": 99,
   "metadata": {},
   "outputs": [],
   "source": [
    "theta1, loss1 = gradient_descent(500, 0.01, myX, y)\n",
    "theta2, loss2 = gradient_descent(500, 0.03, myX, y)\n",
    "theta3, loss3 = gradient_descent(500, 0.1, myX, y)\n",
    "theta4, loss4 = gradient_descent(500, 0.3, myX, y)\n",
    "theta5, loss5 = gradient_descent(500, 1, myX, y)"
   ]
  },
  {
   "cell_type": "code",
   "execution_count": 103,
   "metadata": {},
   "outputs": [
    {
     "data": {
      "text/plain": [
       "<matplotlib.legend.Legend at 0x12b3817f0>"
      ]
     },
     "execution_count": 103,
     "metadata": {},
     "output_type": "execute_result"
    },
    {
     "data": {
      "image/png": "[encoded data removed]",
      "text/plain": [
       "<Figure size 432x288 with 1 Axes>"
      ]
     },
     "metadata": {
      "needs_background": "light"
     },
     "output_type": "display_data"
    }
   ],
   "source": [
    "plt.plot(loss1, label='alpha = 0.01')\n",
    "plt.plot(loss2, label='alpha = 0.03')\n",
    "plt.plot(loss3, label='alpha = 0.1')\n",
    "plt.plot(loss4, label='alpha = 0.3')\n",
    "plt.plot(loss5, label='alpha = 1')\n",
    "plt.xlabel('Number of iterations')\n",
    "plt.ylabel('Cost J')\n",
    "plt.title('Convergence gragh with different alphas')\n",
    "plt.legend()"
   ]
  },
  {
   "cell_type": "code",
   "execution_count": 101,
   "metadata": {},
   "outputs": [
    {
     "data": {
      "text/plain": [
       "(array([[ 3.38175984e+05],\n",
       "        [ 1.03032124e+05],\n",
       "        [-2.02325233e+02]]), array([[340412.57680449],\n",
       "        [109372.3081412 ],\n",
       "        [ -6502.86652974]]), array([[340412.65957447],\n",
       "        [109447.79645983],\n",
       "        [ -6578.35484435]]), array([[340412.65957447],\n",
       "        [109447.79646964],\n",
       "        [ -6578.35485416]]), array([[340412.65957447],\n",
       "        [109447.79646964],\n",
       "        [ -6578.35485416]]))"
      ]
     },
     "execution_count": 101,
     "metadata": {},
     "output_type": "execute_result"
    }
   ],
   "source": [
    "theta1, theta2, theta3, theta4, theta5"
   ]
  },
  {
   "cell_type": "markdown",
   "metadata": {},
   "source": [
    "### Made a prediction"
   ]
  },
  {
   "cell_type": "code",
   "execution_count": 106,
   "metadata": {},
   "outputs": [
    {
     "name": "stdout",
     "output_type": "stream",
     "text": [
      "Predicted price of a 1650 sq-ft, 3 br house (using gradient descent):\n",
      " $293081.464335\n",
      "\n"
     ]
    }
   ],
   "source": [
    "# Estimate the price of a 1650 sq-ft, 3 br house\n",
    "X_test = [(1650 - 2000.6808510638298)/786.2026187430467, (3-3.1702127659574466)/0.7528428090618781]\n",
    "X_test = [1, -0.4460438603276164, -0.2260933675776883]\n",
    "price = (theta5.T @ X_test).item()\n",
    "print('Predicted price of a 1650 sq-ft, 3 br house ' \n",
    "         '(using gradient descent):\\n $%f\\n'% price)"
   ]
  },
  {
   "cell_type": "markdown",
   "metadata": {},
   "source": [
    "## Normal Equations"
   ]
  },
  {
   "cell_type": "markdown",
   "metadata": {},
   "source": [
    "theta = (inv(X.T @ X)) @ X.T @ y"
   ]
  },
  {
   "cell_type": "code",
   "execution_count": 107,
   "metadata": {},
   "outputs": [],
   "source": [
    "X = data2[['size','num_of_bedrooms']].values\n",
    "\n",
    "X = np.append(np.ones([len(X),1]), X ,1)\n",
    "\n",
    "y = pd.DataFrame(data2['housing_price']).to_numpy()\n"
   ]
  },
  {
   "cell_type": "code",
   "execution_count": 108,
   "metadata": {},
   "outputs": [],
   "source": [
    "theta = (la.inv(X.T @ X)) @ X.T @ y"
   ]
  },
  {
   "cell_type": "code",
   "execution_count": 109,
   "metadata": {},
   "outputs": [
    {
     "data": {
      "text/plain": [
       "array([[89597.9095428 ],\n",
       "       [  139.21067402],\n",
       "       [-8738.01911233]])"
      ]
     },
     "execution_count": 109,
     "metadata": {},
     "output_type": "execute_result"
    }
   ],
   "source": [
    "theta"
   ]
  },
  {
   "cell_type": "code",
   "execution_count": 110,
   "metadata": {},
   "outputs": [],
   "source": [
    "X_test = [1, 1650, 3]"
   ]
  },
  {
   "cell_type": "code",
   "execution_count": 111,
   "metadata": {},
   "outputs": [
    {
     "data": {
      "text/plain": [
       "array([293081.46433489])"
      ]
     },
     "execution_count": 111,
     "metadata": {},
     "output_type": "execute_result"
    }
   ],
   "source": [
    "theta.T @ X_test"
   ]
  },
  {
   "cell_type": "markdown",
   "metadata": {},
   "source": [
    "## Logistic Regression: binary classes"
   ]
  },
  {
   "cell_type": "markdown",
   "metadata": {},
   "source": [
    "### Load and plot the data"
   ]
  },
  {
   "cell_type": "code",
   "execution_count": 292,
   "metadata": {},
   "outputs": [],
   "source": [
    "cols1 = ['exam1_score', 'exam2_score', 'admitted']\n",
    "data1 = pd.read_csv('data/ex2data1.txt', header = None, names = cols1)"
   ]
  },
  {
   "cell_type": "code",
   "execution_count": 293,
   "metadata": {},
   "outputs": [
    {
     "data": {
      "text/html": [
       "<div>\n",
       "<style scoped>\n",
       "    .dataframe tbody tr th:only-of-type {\n",
       "        vertical-align: middle;\n",
       "    }\n",
       "\n",
       "    .dataframe tbody tr th {\n",
       "        vertical-align: top;\n",
       "    }\n",
       "\n",
       "    .dataframe thead th {\n",
       "        text-align: right;\n",
       "    }\n",
       "</style>\n",
       "<table border=\"1\" class=\"dataframe\">\n",
       "  <thead>\n",
       "    <tr style=\"text-align: right;\">\n",
       "      <th></th>\n",
       "      <th>exam1_score</th>\n",
       "      <th>exam2_score</th>\n",
       "      <th>admitted</th>\n",
       "    </tr>\n",
       "  </thead>\n",
       "  <tbody>\n",
       "    <tr>\n",
       "      <td>0</td>\n",
       "      <td>34.623660</td>\n",
       "      <td>78.024693</td>\n",
       "      <td>0</td>\n",
       "    </tr>\n",
       "    <tr>\n",
       "      <td>1</td>\n",
       "      <td>30.286711</td>\n",
       "      <td>43.894998</td>\n",
       "      <td>0</td>\n",
       "    </tr>\n",
       "    <tr>\n",
       "      <td>2</td>\n",
       "      <td>35.847409</td>\n",
       "      <td>72.902198</td>\n",
       "      <td>0</td>\n",
       "    </tr>\n",
       "    <tr>\n",
       "      <td>3</td>\n",
       "      <td>60.182599</td>\n",
       "      <td>86.308552</td>\n",
       "      <td>1</td>\n",
       "    </tr>\n",
       "    <tr>\n",
       "      <td>4</td>\n",
       "      <td>79.032736</td>\n",
       "      <td>75.344376</td>\n",
       "      <td>1</td>\n",
       "    </tr>\n",
       "    <tr>\n",
       "      <td>5</td>\n",
       "      <td>45.083277</td>\n",
       "      <td>56.316372</td>\n",
       "      <td>0</td>\n",
       "    </tr>\n",
       "    <tr>\n",
       "      <td>6</td>\n",
       "      <td>61.106665</td>\n",
       "      <td>96.511426</td>\n",
       "      <td>1</td>\n",
       "    </tr>\n",
       "    <tr>\n",
       "      <td>7</td>\n",
       "      <td>75.024746</td>\n",
       "      <td>46.554014</td>\n",
       "      <td>1</td>\n",
       "    </tr>\n",
       "    <tr>\n",
       "      <td>8</td>\n",
       "      <td>76.098787</td>\n",
       "      <td>87.420570</td>\n",
       "      <td>1</td>\n",
       "    </tr>\n",
       "    <tr>\n",
       "      <td>9</td>\n",
       "      <td>84.432820</td>\n",
       "      <td>43.533393</td>\n",
       "      <td>1</td>\n",
       "    </tr>\n",
       "  </tbody>\n",
       "</table>\n",
       "</div>"
      ],
      "text/plain": [
       "   exam1_score  exam2_score  admitted\n",
       "0    34.623660    78.024693         0\n",
       "1    30.286711    43.894998         0\n",
       "2    35.847409    72.902198         0\n",
       "3    60.182599    86.308552         1\n",
       "4    79.032736    75.344376         1\n",
       "5    45.083277    56.316372         0\n",
       "6    61.106665    96.511426         1\n",
       "7    75.024746    46.554014         1\n",
       "8    76.098787    87.420570         1\n",
       "9    84.432820    43.533393         1"
      ]
     },
     "execution_count": 293,
     "metadata": {},
     "output_type": "execute_result"
    }
   ],
   "source": [
    "data1.head(10)"
   ]
  },
  {
   "cell_type": "code",
   "execution_count": 115,
   "metadata": {},
   "outputs": [
    {
     "data": {
      "text/plain": [
       "(100, 3)"
      ]
     },
     "execution_count": 115,
     "metadata": {},
     "output_type": "execute_result"
    }
   ],
   "source": [
    "data1.shape"
   ]
  },
  {
   "cell_type": "code",
   "execution_count": 295,
   "metadata": {},
   "outputs": [
    {
     "data": {
      "text/plain": [
       "<seaborn.axisgrid.FacetGrid at 0x12865fa58>"
      ]
     },
     "execution_count": 295,
     "metadata": {},
     "output_type": "execute_result"
    },
    {
     "data": {
      "image/png": "[encoded data removed]",
      "text/plain": [
       "<Figure size 441.25x360 with 1 Axes>"
      ]
     },
     "metadata": {
      "needs_background": "light"
     },
     "output_type": "display_data"
    }
   ],
   "source": [
    "sns.relplot(x=\"exam1_score\", y=\"exam2_score\", \n",
    "            hue=\"admitted\", kind=\"scatter\",\n",
    "            data=data1)"
   ]
  },
  {
   "cell_type": "markdown",
   "metadata": {},
   "source": [
    "### Sigmoid function"
   ]
  },
  {
   "cell_type": "code",
   "execution_count": 117,
   "metadata": {},
   "outputs": [],
   "source": [
    "def sigmoid(x):\n",
    "    return 1/(1+ np.exp(-x))"
   ]
  },
  {
   "cell_type": "code",
   "execution_count": 118,
   "metadata": {},
   "outputs": [
    {
     "data": {
      "text/plain": [
       "array([[0.73105858, 0.5       , 0.88079708],\n",
       "       [0.95257413, 0.88079708, 0.99330715]])"
      ]
     },
     "execution_count": 118,
     "metadata": {},
     "output_type": "execute_result"
    }
   ],
   "source": [
    "# Test: \n",
    "sigmoid(0)\n",
    "sigmoid(10)\n",
    "sigmoid(-10)\n",
    "x = np.array([0,1,2])\n",
    "y = np.array([[1,0,2],[3,2,5]])\n",
    "sigmoid(x)\n",
    "sigmoid(y)"
   ]
  },
  {
   "cell_type": "markdown",
   "metadata": {},
   "source": [
    "### Cost function and gradient"
   ]
  },
  {
   "cell_type": "code",
   "execution_count": 31,
   "metadata": {},
   "outputs": [],
   "source": [
    "### Function to return the cost and gradient"
   ]
  },
  {
   "cell_type": "code",
   "execution_count": 296,
   "metadata": {},
   "outputs": [],
   "source": [
    "# Prepare training dataset\n",
    "# Assume features include only the first-order exam scores. Therefore g(X) = theta0 + theta1 * x1 + theta * x2\n",
    "X = data1[['exam1_score', 'exam2_score']].values\n",
    "y = data1['admitted'].to_numpy()\n",
    "\n",
    "# Input X has dimensions (n, d), y has dimensions (n,1)\n",
    "myX = np.append(np.ones([len(X),1]), X ,1)\n",
    "y = y.reshape(-1,1) "
   ]
  },
  {
   "cell_type": "code",
   "execution_count": 297,
   "metadata": {},
   "outputs": [],
   "source": [
    "# Initialize theta. theta has dimensions (d,1)\n",
    "d = myX.shape[1]\n",
    "theta = np.zeros([d, 1])"
   ]
  },
  {
   "cell_type": "code",
   "execution_count": 298,
   "metadata": {},
   "outputs": [],
   "source": [
    "gX = myX @ theta\n",
    "hX = sigmoid(gX)\n",
    "loss = (-1/len(y) * (y.T @ np.log(hX) + (1-y).T @ np.log(1-hX))).item()\n",
    "derivative= 1/len(y) * myX.T @ (hX - y)\n",
    "\n",
    "theta = theta - alpha * derivative"
   ]
  },
  {
   "cell_type": "code",
   "execution_count": 299,
   "metadata": {},
   "outputs": [],
   "source": [
    "def costFunction(theta, X, y):\n",
    "    gX = X @ theta   # gX has shape (N,1)\n",
    "    hX = sigmoid(gX)   # hX has shape (N,1)\n",
    "    n = len(y)   #\n",
    "    loss = ((1/n) * (- y.T @ np.log(hX) - (1-y).T @ np.log(1-hX))).item()\n",
    "    #derivative = (1/n) * myX.T @ (hX - y)\n",
    "    return loss\n",
    "\n",
    "def gradientFunction(theta, X, y):\n",
    "    gX = X @ theta   # gX has shape (N,1)\n",
    "    hX = sigmoid(gX).reshape(-1, 1)   # hX has shape (N,1)\n",
    "    n = len(y)   #\n",
    "    derivative = (1/n) * X.T @ (hX - y)\n",
    "    derivative = derivative.squeeze()\n",
    "    return derivative"
   ]
  },
  {
   "cell_type": "markdown",
   "metadata": {},
   "source": [
    "### Learning parameters\n"
   ]
  },
  {
   "cell_type": "code",
   "execution_count": 300,
   "metadata": {},
   "outputs": [],
   "source": [
    "# Initialize theta\n",
    "initial_theta = np.zeros((d, 1))"
   ]
  },
  {
   "cell_type": "markdown",
   "metadata": {},
   "source": [
    "#### scipy.optimize.fmin"
   ]
  },
  {
   "cell_type": "code",
   "execution_count": 482,
   "metadata": {},
   "outputs": [],
   "source": [
    "## Minimize a function using the downhill simplex algorithm \n",
    "## https://docs.scipy.org/doc/scipy/reference/generated/scipy.optimize.fmin.html)"
   ]
  },
  {
   "cell_type": "code",
   "execution_count": 301,
   "metadata": {},
   "outputs": [
    {
     "name": "stdout",
     "output_type": "stream",
     "text": [
      "Optimization terminated successfully.\n",
      "         Current function value: 0.203498\n",
      "         Iterations: 157\n",
      "         Function evaluations: 287\n"
     ]
    }
   ],
   "source": [
    "Result = op.fmin(func = costFunction, \n",
    "                 x0 = initial_theta, \n",
    "                 args = (myX, y)\n",
    "                        );"
   ]
  },
  {
   "cell_type": "code",
   "execution_count": 220,
   "metadata": {},
   "outputs": [
    {
     "data": {
      "text/plain": [
       "array([-25.16130062,   0.20623142,   0.20147143])"
      ]
     },
     "execution_count": 220,
     "metadata": {},
     "output_type": "execute_result"
    }
   ],
   "source": [
    "Result"
   ]
  },
  {
   "cell_type": "raw",
   "metadata": {},
   "source": [
    "Notes: \n",
    " \n",
    "Uses a Nelder-Mead simplex algorithm to find the minimum of function of one or more variables.\n",
    "\n",
    "This algorithm has a long history of successful use in applications. But it will usually be slower than an algorithm that uses first or second derivative information. In practice it can have poor performance in high-dimensional problems and is not robust to minimizing complicated functions. Additionally, there currently is no complete theory describing when the algorithm will successfully converge to the minimum, or how fast it will if it does. Both the ftol and xtol criteria must be met for convergence."
   ]
  },
  {
   "cell_type": "markdown",
   "metadata": {},
   "source": [
    "#### scipy.optimize.fmin_ncg"
   ]
  },
  {
   "cell_type": "code",
   "execution_count": 140,
   "metadata": {},
   "outputs": [],
   "source": [
    "## Newton-Conjugate-Gradient\n",
    "## https://docs.scipy.org/doc/scipy/reference/tutorial/optimize.html\n",
    "## https://github.com/scipy/scipy/blob/master/scipy/optimize/tests/test_optimize.py#L344"
   ]
  },
  {
   "cell_type": "code",
   "execution_count": 127,
   "metadata": {},
   "outputs": [
    {
     "data": {
      "text/plain": [
       "'1.4.1'"
      ]
     },
     "execution_count": 127,
     "metadata": {},
     "output_type": "execute_result"
    }
   ],
   "source": [
    "import scipy\n",
    "scipy.__version__"
   ]
  },
  {
   "cell_type": "code",
   "execution_count": 221,
   "metadata": {},
   "outputs": [
    {
     "data": {
      "text/plain": [
       "array([ -0.1       , -12.00921659, -11.26284221])"
      ]
     },
     "execution_count": 221,
     "metadata": {},
     "output_type": "execute_result"
    }
   ],
   "source": [
    "gradientFunction(initial_theta, myX, y)"
   ]
  },
  {
   "cell_type": "code",
   "execution_count": 222,
   "metadata": {},
   "outputs": [
    {
     "name": "stdout",
     "output_type": "stream",
     "text": [
      "Optimization terminated successfully.\n",
      "         Current function value: 0.203498\n",
      "         Iterations: 27\n",
      "         Function evaluations: 70\n",
      "         Gradient evaluations: 232\n",
      "         Hessian evaluations: 0\n"
     ]
    }
   ],
   "source": [
    "retval  = op.fmin_ncg(f = costFunction, \n",
    "                x0 = initial_theta, \n",
    "                fprime = gradientFunction,\n",
    "                args = (myX, y),\n",
    "                full_output=False,\n",
    "                retall=False)"
   ]
  },
  {
   "cell_type": "code",
   "execution_count": 131,
   "metadata": {},
   "outputs": [
    {
     "data": {
      "text/plain": [
       "array([-25.14561716,   0.20610601,   0.20134442])"
      ]
     },
     "execution_count": 131,
     "metadata": {},
     "output_type": "execute_result"
    }
   ],
   "source": [
    "retval"
   ]
  },
  {
   "cell_type": "markdown",
   "metadata": {},
   "source": [
    "#### scipy.optimize.fmin_bfgs"
   ]
  },
  {
   "cell_type": "code",
   "execution_count": 132,
   "metadata": {},
   "outputs": [],
   "source": [
    "# alternative to octave's fminunc, which uses some form of bfgs"
   ]
  },
  {
   "cell_type": "code",
   "execution_count": 302,
   "metadata": {},
   "outputs": [
    {
     "name": "stdout",
     "output_type": "stream",
     "text": [
      "Optimization terminated successfully.\n",
      "         Current function value: 0.203498\n",
      "         Iterations: 23\n",
      "         Function evaluations: 31\n",
      "         Gradient evaluations: 31\n"
     ]
    },
    {
     "name": "stderr",
     "output_type": "stream",
     "text": [
      "/Users/juersong/miniconda3/lib/python3.7/site-packages/ipykernel_launcher.py:5: RuntimeWarning: divide by zero encountered in log\n",
      "  \"\"\"\n",
      "/Users/juersong/miniconda3/lib/python3.7/site-packages/ipykernel_launcher.py:5: RuntimeWarning: invalid value encountered in matmul\n",
      "  \"\"\"\n"
     ]
    }
   ],
   "source": [
    "retval = op.fmin_bfgs(f = costFunction, \n",
    "                x0 = initial_theta, \n",
    "                fprime = gradientFunction,\n",
    "                args = (myX, y),\n",
    "                full_output=False,\n",
    "                retall=False)"
   ]
  },
  {
   "cell_type": "code",
   "execution_count": 303,
   "metadata": {},
   "outputs": [
    {
     "data": {
      "text/plain": [
       "array([-25.16133284,   0.2062317 ,   0.2014716 ])"
      ]
     },
     "execution_count": 303,
     "metadata": {},
     "output_type": "execute_result"
    }
   ],
   "source": [
    "retval"
   ]
  },
  {
   "cell_type": "markdown",
   "metadata": {},
   "source": [
    "#### My gradient descent"
   ]
  },
  {
   "cell_type": "code",
   "execution_count": 137,
   "metadata": {},
   "outputs": [],
   "source": [
    "def optimizeLogisticRegression(X, y, theta, iterations, alpha):\n",
    "    loss = []\n",
    "    for i in range(iterations):\n",
    "        cost = costFunction(theta, X, y)\n",
    "        derivative = gradientFunction(theta,X,y).reshape(-1,1)\n",
    "        theta = theta - alpha * derivative\n",
    "        loss.append(cost)\n",
    "        i += 1\n",
    "    return loss, theta"
   ]
  },
  {
   "cell_type": "code",
   "execution_count": 138,
   "metadata": {},
   "outputs": [],
   "source": [
    "initial_theta = np.zeros((d, 1));\n",
    "loss, return_theta = optimizeLogisticRegression(myX, y, initial_theta, iterations=1000000, alpha=0.001)"
   ]
  },
  {
   "cell_type": "code",
   "execution_count": 139,
   "metadata": {},
   "outputs": [
    {
     "data": {
      "text/plain": [
       "[<matplotlib.lines.Line2D at 0x12c1b2978>]"
      ]
     },
     "execution_count": 139,
     "metadata": {},
     "output_type": "execute_result"
    },
    {
     "data": {
      "image/png": "[encoded data removed]",
      "text/plain": [
       "<Figure size 432x288 with 1 Axes>"
      ]
     },
     "metadata": {
      "needs_background": "light"
     },
     "output_type": "display_data"
    }
   ],
   "source": [
    "plt.plot(loss)"
   ]
  },
  {
   "cell_type": "markdown",
   "metadata": {},
   "source": [
    "It takes a very long time and many iterations (1MM) to get it to the converge!"
   ]
  },
  {
   "cell_type": "code",
   "execution_count": 588,
   "metadata": {},
   "outputs": [
    {
     "name": "stdout",
     "output_type": "stream",
     "text": [
      "0.6931471805599453\n"
     ]
    }
   ],
   "source": [
    "## call your costFunction using the initial parameters of theta. \n",
    "## You should see that the cost is about 0.693.\n",
    "print(loss[0]) "
   ]
  },
  {
   "cell_type": "code",
   "execution_count": 590,
   "metadata": {},
   "outputs": [
    {
     "name": "stdout",
     "output_type": "stream",
     "text": [
      "0.2246541908824744\n"
     ]
    }
   ],
   "source": [
    "print(loss[-1])"
   ]
  },
  {
   "cell_type": "markdown",
   "metadata": {},
   "source": [
    "Compared to scipy optimize functions, which reports \"Current function value: 0.203498\". After 1MM iterations, it still hasn't converged."
   ]
  },
  {
   "cell_type": "markdown",
   "metadata": {},
   "source": [
    "### Predict"
   ]
  },
  {
   "cell_type": "code",
   "execution_count": 304,
   "metadata": {},
   "outputs": [],
   "source": [
    "def PredictLogisticRegression(X_test, theta):\n",
    "    hX = sigmoid(X_test @ theta)   # hX has shape (N,1)\n",
    "    \n",
    "    yhead = hX > 0.5\n",
    "    \n",
    "    yhead = yhead.reshape(-1,1)\n",
    "\n",
    "    return hX, yhead"
   ]
  },
  {
   "cell_type": "markdown",
   "metadata": {},
   "source": [
    "For a student with an Exam 1 score of 45 and an Exam 2 score of 85, you should expect to see an admission\n",
    "probability of 0.776."
   ]
  },
  {
   "cell_type": "code",
   "execution_count": 305,
   "metadata": {},
   "outputs": [],
   "source": [
    "X_test = np.array([1, 45, 85]).reshape(-1,1).T"
   ]
  },
  {
   "cell_type": "code",
   "execution_count": 306,
   "metadata": {},
   "outputs": [],
   "source": [
    "prob, yhead = PredictLogisticRegression(X_test, retval)"
   ]
  },
  {
   "cell_type": "code",
   "execution_count": 307,
   "metadata": {},
   "outputs": [
    {
     "name": "stdout",
     "output_type": "stream",
     "text": [
      "For a student with scores 45 and 85, we predict an admission probability of 0.776291\n",
      "\n",
      "Expected value: 0.775 +/- 0.002\n",
      "\n",
      "\n"
     ]
    }
   ],
   "source": [
    "print('For a student with scores 45 and 85, we predict an admission '\n",
    "         'probability of %f\\n'% prob)\n",
    "print('Expected value: 0.775 +/- 0.002\\n\\n')"
   ]
  },
  {
   "cell_type": "markdown",
   "metadata": {},
   "source": [
    "### Plot decision boundary"
   ]
  },
  {
   "cell_type": "code",
   "execution_count": 358,
   "metadata": {},
   "outputs": [],
   "source": [
    "## theta0 + theta1 * x1 + theta2 * x2 = 0\n",
    "## ==> x2 = -1/theta2 * (theta0 + theta1 * x1)"
   ]
  },
  {
   "cell_type": "code",
   "execution_count": 148,
   "metadata": {},
   "outputs": [
    {
     "data": {
      "text/plain": [
       "<matplotlib.collections.PathCollection at 0x12a89b6d8>"
      ]
     },
     "execution_count": 148,
     "metadata": {},
     "output_type": "execute_result"
    },
    {
     "data": {
      "image/png": "[encoded data removed]",
      "text/plain": [
       "<Figure size 432x288 with 1 Axes>"
      ]
     },
     "metadata": {
      "needs_background": "light"
     },
     "output_type": "display_data"
    }
   ],
   "source": [
    "ax = plt.gca()\n",
    "#ax.autoscale(False)\n",
    "x1_vals = np.arange(100)\n",
    "x2_vals = -1/retval[2] * (retval[0] + retval[1] * x1_vals)\n",
    "plt.plot(x1_vals, x2_vals, '--', c=\"orange\")\n",
    "\n",
    "plt.scatter(data1[data1['admitted']==1][\"exam1_score\"],\n",
    "            data1[data1['admitted']==1][\"exam2_score\"], marker='+')\n",
    "plt.scatter(data1[data1['admitted']==0][\"exam1_score\"],\n",
    "            data1[data1['admitted']==0][\"exam2_score\"], c= 'green', marker='o')\n"
   ]
  },
  {
   "cell_type": "markdown",
   "metadata": {},
   "source": [
    "## Regularized logistic regression"
   ]
  },
  {
   "cell_type": "markdown",
   "metadata": {},
   "source": [
    "### Plotting the data"
   ]
  },
  {
   "cell_type": "code",
   "execution_count": 308,
   "metadata": {},
   "outputs": [],
   "source": [
    "cols2 = ['Microchip_Test_1', 'Microchip_Test_2', 'Accepted']\n",
    "data2 = pd.read_csv('data/ex2data2.txt', header = None, names = cols2)"
   ]
  },
  {
   "cell_type": "code",
   "execution_count": 268,
   "metadata": {},
   "outputs": [
    {
     "data": {
      "text/html": [
       "<div>\n",
       "<style scoped>\n",
       "    .dataframe tbody tr th:only-of-type {\n",
       "        vertical-align: middle;\n",
       "    }\n",
       "\n",
       "    .dataframe tbody tr th {\n",
       "        vertical-align: top;\n",
       "    }\n",
       "\n",
       "    .dataframe thead th {\n",
       "        text-align: right;\n",
       "    }\n",
       "</style>\n",
       "<table border=\"1\" class=\"dataframe\">\n",
       "  <thead>\n",
       "    <tr style=\"text-align: right;\">\n",
       "      <th></th>\n",
       "      <th>Microchip_Test_1</th>\n",
       "      <th>Microchip_Test_2</th>\n",
       "      <th>Accepted</th>\n",
       "    </tr>\n",
       "  </thead>\n",
       "  <tbody>\n",
       "    <tr>\n",
       "      <td>113</td>\n",
       "      <td>-0.720620</td>\n",
       "      <td>0.538740</td>\n",
       "      <td>0</td>\n",
       "    </tr>\n",
       "    <tr>\n",
       "      <td>114</td>\n",
       "      <td>-0.593890</td>\n",
       "      <td>0.494880</td>\n",
       "      <td>0</td>\n",
       "    </tr>\n",
       "    <tr>\n",
       "      <td>115</td>\n",
       "      <td>-0.484450</td>\n",
       "      <td>0.999270</td>\n",
       "      <td>0</td>\n",
       "    </tr>\n",
       "    <tr>\n",
       "      <td>116</td>\n",
       "      <td>-0.006336</td>\n",
       "      <td>0.999270</td>\n",
       "      <td>0</td>\n",
       "    </tr>\n",
       "    <tr>\n",
       "      <td>117</td>\n",
       "      <td>0.632650</td>\n",
       "      <td>-0.030612</td>\n",
       "      <td>0</td>\n",
       "    </tr>\n",
       "  </tbody>\n",
       "</table>\n",
       "</div>"
      ],
      "text/plain": [
       "     Microchip_Test_1  Microchip_Test_2  Accepted\n",
       "113         -0.720620          0.538740         0\n",
       "114         -0.593890          0.494880         0\n",
       "115         -0.484450          0.999270         0\n",
       "116         -0.006336          0.999270         0\n",
       "117          0.632650         -0.030612         0"
      ]
     },
     "execution_count": 268,
     "metadata": {},
     "output_type": "execute_result"
    }
   ],
   "source": [
    "data2.tail(5)"
   ]
  },
  {
   "cell_type": "code",
   "execution_count": 249,
   "metadata": {},
   "outputs": [
    {
     "data": {
      "image/png": "[encoded data removed]",
      "text/plain": [
       "<Figure size 432x288 with 1 Axes>"
      ]
     },
     "metadata": {
      "needs_background": "light"
     },
     "output_type": "display_data"
    }
   ],
   "source": [
    "x1 = plt.scatter(data2[data2['Accepted']==1][\"Microchip_Test_1\"],\n",
    "            data2[data2['Accepted']==1][\"Microchip_Test_2\"], marker='+')\n",
    "x2 = plt.scatter(data2[data2['Accepted']==0][\"Microchip_Test_1\"],\n",
    "            data2[data2['Accepted']==0][\"Microchip_Test_2\"], c= 'yellow', marker='o')\n",
    "plt.xlabel('Microchip Test 1')\n",
    "plt.ylabel('Microchip Test 2')\n",
    "plt.title('Plot of training data')\n",
    "plt.legend((x1,x2),('Acepted: y=1', 'Not Accepted: y=0'),loc='lower left', ncol=3, fontsize=8)\n",
    "plt.show()"
   ]
  },
  {
   "cell_type": "markdown",
   "metadata": {},
   "source": [
    "### Feature mapping"
   ]
  },
  {
   "cell_type": "code",
   "execution_count": 153,
   "metadata": {},
   "outputs": [],
   "source": [
    "# we will map the features into all polynomial terms of x1 and x2 up to the sixth power."
   ]
  },
  {
   "cell_type": "code",
   "execution_count": 309,
   "metadata": {},
   "outputs": [],
   "source": [
    "from sklearn.preprocessing import PolynomialFeatures  \n",
    "#https://scikit-learn.org/stable/modules/generated/sklearn.preprocessing.PolynomialFeatures.html"
   ]
  },
  {
   "cell_type": "code",
   "execution_count": 310,
   "metadata": {},
   "outputs": [],
   "source": [
    "X2 = data2[['Microchip_Test_1', 'Microchip_Test_2']].values\n",
    "y2 = data2['Accepted'].to_numpy().reshape(-1,1)"
   ]
  },
  {
   "cell_type": "code",
   "execution_count": 311,
   "metadata": {},
   "outputs": [],
   "source": [
    "poly = PolynomialFeatures(6)\n",
    "X2t = poly.fit_transform(X2)"
   ]
  },
  {
   "cell_type": "markdown",
   "metadata": {},
   "source": [
    "### Cost function and gradient"
   ]
  },
  {
   "cell_type": "code",
   "execution_count": 312,
   "metadata": {},
   "outputs": [],
   "source": [
    "def costFunctionReg(theta, X, y, bambda):\n",
    "    gX = X @ theta\n",
    "    hX = sigmoid(gX)\n",
    "    n = len(y)\n",
    "    loss = ((1/n) * (- y.T @ np.log(hX) - (1-y).T @ np.log(1-hX)) +\n",
    "           bambda / (2 *n) * (theta[1:].T @ theta[1:])).item()\n",
    "    return loss\n",
    "    \n",
    "\n",
    "def gradFunctionReg(theta, X, y, bambda):\n",
    "    gX = X @ theta   # gX has shape (N,1)\n",
    "    hX = sigmoid(gX).reshape(-1, 1)   # hX has shape (N,1)\n",
    "    n = len(y)\n",
    "    thetap = (np.insert(theta[1:], obj= 0, values = 0)).reshape(-1,1)\n",
    "    derivative = (1/n) * X.T @ (hX - y) + bambda / n * thetap\n",
    "    derivative = derivative.squeeze()\n",
    "    return derivative\n"
   ]
  },
  {
   "cell_type": "code",
   "execution_count": 313,
   "metadata": {},
   "outputs": [],
   "source": [
    "# Initialize theta\n",
    "d = X2t.shape[1]\n",
    "initial_theta = np.zeros([d, 1])"
   ]
  },
  {
   "cell_type": "code",
   "execution_count": 274,
   "metadata": {},
   "outputs": [
    {
     "name": "stdout",
     "output_type": "stream",
     "text": [
      "Cost at initial theta (zeros): 0.693147\n",
      "\n",
      "Expected cost (approx): 0.693\n",
      "\n",
      "Gradient at initial theta (zeros) - first five values only:\n",
      "\n",
      "[8.47457627e-03 1.87880932e-02 7.77711864e-05 5.03446395e-02\n",
      " 1.15013308e-02]\n",
      "Expected gradients (approx) - first five values only:\n",
      "\n",
      " 0.0085\n",
      " 0.0188\n",
      " 0.0001\n",
      " 0.0503\n",
      " 0.0115\n",
      "\n",
      "\n",
      "Cost at test theta (with lambda = 10): %f\n",
      " 3.16450933161501\n",
      "Expected cost (approx): 3.16\n",
      "\n",
      "Gradient at test theta - first five values only:\n",
      "\n",
      "[0.34604507 0.16135192 0.19479576 0.22686278 0.09218568]\n",
      "Expected gradients (approx) - first five values only:\n",
      "\n",
      " 0.3460\n",
      " 0.1614\n",
      " 0.1948\n",
      " 0.2269\n",
      " 0.0922\n",
      "\n"
     ]
    }
   ],
   "source": [
    "# Set regularization parameter bambda to 1\n",
    "bambda = 1\n",
    "\n",
    "# Compute and display initial cost and gradient for regularized logistic regression\n",
    "cost = costFunctionReg(initial_theta, X2t, y2, bambda)\n",
    "grad = gradFunctionReg(initial_theta, X2t, y2, bambda)\n",
    "\n",
    "\n",
    "print('Cost at initial theta (zeros): %f\\n'% cost)\n",
    "print('Expected cost (approx): 0.693\\n')\n",
    "print('Gradient at initial theta (zeros) - first five values only:\\n')\n",
    "print(grad[0:5])\n",
    "print('Expected gradients (approx) - first five values only:\\n')\n",
    "print(' 0.0085\\n 0.0188\\n 0.0001\\n 0.0503\\n 0.0115\\n')\n",
    "\n",
    "\n",
    "# Compute and display cost and gradient with all-ones theta and lambda = 10\n",
    "test_theta = np.ones([d,1])\n",
    "test_bambda = 10\n",
    "test_cost = costFunctionReg(test_theta, X2t, y2, test_bambda)\n",
    "test_grad = gradFunctionReg(test_theta, X2t, y2, test_bambda)\n",
    "\n",
    "\n",
    "print('\\nCost at test theta (with lambda = 10): %f\\n', test_cost)\n",
    "print('Expected cost (approx): 3.16\\n')\n",
    "print('Gradient at test theta - first five values only:\\n')\n",
    "print(test_grad[0:5])\n",
    "print('Expected gradients (approx) - first five values only:\\n')\n",
    "print(' 0.3460\\n 0.1614\\n 0.1948\\n 0.2269\\n 0.0922\\n')\n"
   ]
  },
  {
   "cell_type": "markdown",
   "metadata": {},
   "source": [
    "### Learning the parameters"
   ]
  },
  {
   "cell_type": "code",
   "execution_count": 314,
   "metadata": {},
   "outputs": [
    {
     "name": "stdout",
     "output_type": "stream",
     "text": [
      "Optimization terminated successfully.\n",
      "         Current function value: 0.529003\n",
      "         Iterations: 47\n",
      "         Function evaluations: 48\n",
      "         Gradient evaluations: 48\n"
     ]
    }
   ],
   "source": [
    "bambda = 1\n",
    "learned_theta = op.fmin_bfgs(f = costFunctionReg, \n",
    "                x0 = initial_theta, \n",
    "                fprime = gradFunctionReg,\n",
    "                args = (X2t, y2, bambda),\n",
    "                full_output=False,\n",
    "                retall=False)"
   ]
  },
  {
   "cell_type": "code",
   "execution_count": 315,
   "metadata": {},
   "outputs": [
    {
     "name": "stdout",
     "output_type": "stream",
     "text": [
      "Train Accuracy: %f\n",
      " 83.05084745762711\n",
      "Expected accuracy (with lambda = 1): 83.1 (approx)\n",
      "\n"
     ]
    }
   ],
   "source": [
    "# Compute accuracy on training set\n",
    "p, yhead = PredictLogisticRegression(X2t, learned_theta)\n",
    "\n",
    "print('Train Accuracy: %f\\n', np.mean((yhead == y2)) * 100)\n",
    "print('Expected accuracy (with lambda = 1): 83.1 (approx)\\n')"
   ]
  },
  {
   "cell_type": "markdown",
   "metadata": {},
   "source": [
    "### Plot decision boundary"
   ]
  },
  {
   "cell_type": "code",
   "execution_count": 279,
   "metadata": {},
   "outputs": [],
   "source": [
    "# X - some data in 2dimensional np.array\n",
    "x1_min, x1_max = data2['Microchip_Test_1'].min() - 1, data2['Microchip_Test_1'].max() + 1\n",
    "x2_min, x2_max = data2['Microchip_Test_2'].min() - 1, data2['Microchip_Test_2'].max() + 1\n",
    "xx1, xx2 = np.meshgrid(np.arange(x1_min, x1_max, 0.25),\n",
    "                     np.arange(x2_min, x2_max, 0.25))"
   ]
  },
  {
   "cell_type": "code",
   "execution_count": 280,
   "metadata": {},
   "outputs": [],
   "source": [
    "x1 = xx1.flatten().reshape(-1,1)\n",
    "x2 = xx2.flatten().reshape(-1,1)\n",
    "x3 = np.column_stack((x1,x2))"
   ]
  },
  {
   "cell_type": "code",
   "execution_count": 281,
   "metadata": {},
   "outputs": [],
   "source": [
    "poly = PolynomialFeatures(6)\n",
    "X_grid = poly.fit_transform(x3)"
   ]
  },
  {
   "cell_type": "code",
   "execution_count": 282,
   "metadata": {},
   "outputs": [],
   "source": [
    "Z = sigmoid(X_grid @ learned_theta.reshape(-1,1))\n",
    "Z = Z.reshape(xx1.shape)"
   ]
  },
  {
   "cell_type": "code",
   "execution_count": 319,
   "metadata": {},
   "outputs": [
    {
     "data": {
      "image/png": "[encoded data removed]",
      "text/plain": [
       "<Figure size 432x288 with 1 Axes>"
      ]
     },
     "metadata": {
      "needs_background": "light"
     },
     "output_type": "display_data"
    }
   ],
   "source": [
    "# Put the result into a color plot\n",
    "plt.contour(xx1, xx2, Z)\n",
    "plt.axis('on')\n",
    "\n",
    "# Plot also the training points\n",
    "x1 = plt.scatter(data2[data2['Accepted']==1][\"Microchip_Test_1\"],\n",
    "            data2[data2['Accepted']==1][\"Microchip_Test_2\"], marker='+')\n",
    "x2 = plt.scatter(data2[data2['Accepted']==0][\"Microchip_Test_1\"],\n",
    "            data2[data2['Accepted']==0][\"Microchip_Test_2\"], c= 'yellow', marker='o')\n",
    "plt.xlabel('Microchip Test 1')\n",
    "plt.ylabel('Microchip Test 2')\n",
    "plt.title('lambda = 1')\n",
    "plt.legend((x1,x2),('Acepted: y=1', 'Not Accepted: y=0'),loc='lower left', ncol=3, fontsize=8)\n",
    "plt.show()"
   ]
  },
  {
   "cell_type": "markdown",
   "metadata": {},
   "source": [
    "### Change regularization terms"
   ]
  },
  {
   "cell_type": "markdown",
   "metadata": {},
   "source": [
    "To try different values of lambda and see how regularization affects the decision and accuracy.\n",
    "Try the following values of lambda (0, 1, 10, 100)."
   ]
  },
  {
   "cell_type": "code",
   "execution_count": 320,
   "metadata": {},
   "outputs": [
    {
     "name": "stdout",
     "output_type": "stream",
     "text": [
      "Optimization terminated successfully.\n",
      "         Current function value: 0.224569\n",
      "         Iterations: 546\n",
      "         Function evaluations: 547\n",
      "         Gradient evaluations: 547\n",
      "Train Accuracy: %f\n",
      " 91.52542372881356\n"
     ]
    },
    {
     "name": "stderr",
     "output_type": "stream",
     "text": [
      "/Users/juersong/miniconda3/lib/python3.7/site-packages/ipykernel_launcher.py:2: RuntimeWarning: overflow encountered in exp\n",
      "  \n"
     ]
    },
    {
     "data": {
      "image/png": "[encoded data removed]",
      "text/plain": [
       "<Figure size 432x288 with 1 Axes>"
      ]
     },
     "metadata": {
      "needs_background": "light"
     },
     "output_type": "display_data"
    }
   ],
   "source": [
    "bambda = 0\n",
    "learned_theta = op.fmin_bfgs(f = costFunctionReg, \n",
    "                x0 = initial_theta, \n",
    "                fprime = gradFunctionReg,\n",
    "                args = (X2t, y2, bambda),\n",
    "                full_output=False,\n",
    "                retall=False)\n",
    "\n",
    "Z1 = sigmoid(X_grid @ learned_theta.reshape(-1,1))\n",
    "Z1 = Z1.reshape(xx1.shape)\n",
    "# Put the result into a color plot\n",
    "plt.contour(xx1, xx2, Z1)\n",
    "plt.axis('on')\n",
    "\n",
    "# Plot also the training points\n",
    "x1 = plt.scatter(data2[data2['Accepted']==1][\"Microchip_Test_1\"],\n",
    "            data2[data2['Accepted']==1][\"Microchip_Test_2\"], marker='+')\n",
    "x2 = plt.scatter(data2[data2['Accepted']==0][\"Microchip_Test_1\"],\n",
    "            data2[data2['Accepted']==0][\"Microchip_Test_2\"], c= 'yellow', marker='o')\n",
    "plt.xlabel('Microchip Test 1')\n",
    "plt.ylabel('Microchip Test 2')\n",
    "\n",
    "# Compute accuracy on training set\n",
    "p, yhead = PredictLogisticRegression(X2t, learned_theta)\n",
    "\n",
    "print('Train Accuracy: %f\\n', np.mean((yhead == y2)) * 100)"
   ]
  },
  {
   "cell_type": "code",
   "execution_count": 325,
   "metadata": {},
   "outputs": [
    {
     "name": "stdout",
     "output_type": "stream",
     "text": [
      "Optimization terminated successfully.\n",
      "         Current function value: 0.529003\n",
      "         Iterations: 47\n",
      "         Function evaluations: 48\n",
      "         Gradient evaluations: 48\n",
      "Train Accuracy: %f\n",
      " 83.05084745762711\n"
     ]
    },
    {
     "data": {
      "image/png": "[encoded data removed]",
      "text/plain": [
       "<Figure size 432x288 with 1 Axes>"
      ]
     },
     "metadata": {
      "needs_background": "light"
     },
     "output_type": "display_data"
    }
   ],
   "source": [
    "bambda = 1\n",
    "learned_theta = op.fmin_bfgs(f = costFunctionReg, \n",
    "                x0 = initial_theta, \n",
    "                fprime = gradFunctionReg,\n",
    "                args = (X2t, y2, bambda),\n",
    "                full_output=False,\n",
    "                retall=False)\n",
    "\n",
    "Z1 = sigmoid(X_grid @ learned_theta.reshape(-1,1))\n",
    "Z1 = Z1.reshape(xx1.shape)\n",
    "# Put the result into a color plot\n",
    "plt.contour(xx1, xx2, Z1)\n",
    "plt.axis('on')\n",
    "\n",
    "# Plot also the training points\n",
    "x1 = plt.scatter(data2[data2['Accepted']==1][\"Microchip_Test_1\"],\n",
    "            data2[data2['Accepted']==1][\"Microchip_Test_2\"], marker='+')\n",
    "x2 = plt.scatter(data2[data2['Accepted']==0][\"Microchip_Test_1\"],\n",
    "            data2[data2['Accepted']==0][\"Microchip_Test_2\"], c= 'yellow', marker='o')\n",
    "plt.xlabel('Microchip Test 1')\n",
    "plt.ylabel('Microchip Test 2')\n",
    "plt.title('lambda = 1')\n",
    "\n",
    "# Compute accuracy on training set\n",
    "p, yhead = PredictLogisticRegression(X2t, learned_theta)\n",
    "\n",
    "print('Train Accuracy: %f\\n', np.mean((yhead == y2)) * 100)"
   ]
  },
  {
   "cell_type": "code",
   "execution_count": 326,
   "metadata": {},
   "outputs": [
    {
     "name": "stdout",
     "output_type": "stream",
     "text": [
      "Optimization terminated successfully.\n",
      "         Current function value: 0.648216\n",
      "         Iterations: 21\n",
      "         Function evaluations: 22\n",
      "         Gradient evaluations: 22\n",
      "Train Accuracy: %f\n",
      " 74.57627118644068\n"
     ]
    },
    {
     "data": {
      "image/png": "[encoded data removed]",
      "text/plain": [
       "<Figure size 432x288 with 1 Axes>"
      ]
     },
     "metadata": {
      "needs_background": "light"
     },
     "output_type": "display_data"
    }
   ],
   "source": [
    "bambda = 10\n",
    "learned_theta = op.fmin_bfgs(f = costFunctionReg, \n",
    "                x0 = initial_theta, \n",
    "                fprime = gradFunctionReg,\n",
    "                args = (X2t, y2, bambda),\n",
    "                full_output=False,\n",
    "                retall=False)\n",
    "\n",
    "Z1 = sigmoid(X_grid @ learned_theta.reshape(-1,1))\n",
    "Z1 = Z1.reshape(xx1.shape)\n",
    "# Put the result into a color plot\n",
    "plt.contour(xx1, xx2, Z1)\n",
    "plt.axis('on')\n",
    "\n",
    "# Plot also the training points\n",
    "x1 = plt.scatter(data2[data2['Accepted']==1][\"Microchip_Test_1\"],\n",
    "            data2[data2['Accepted']==1][\"Microchip_Test_2\"], marker='+')\n",
    "x2 = plt.scatter(data2[data2['Accepted']==0][\"Microchip_Test_1\"],\n",
    "            data2[data2['Accepted']==0][\"Microchip_Test_2\"], c= 'yellow', marker='o')\n",
    "plt.xlabel('Microchip Test 1')\n",
    "plt.ylabel('Microchip Test 2')\n",
    "plt.title('lambda = 10')\n",
    "\n",
    "# Compute accuracy on training set\n",
    "p, yhead = PredictLogisticRegression(X2t, learned_theta)\n",
    "\n",
    "print('Train Accuracy: %f\\n', np.mean((yhead == y2)) * 100)"
   ]
  },
  {
   "cell_type": "code",
   "execution_count": 327,
   "metadata": {},
   "outputs": [
    {
     "name": "stdout",
     "output_type": "stream",
     "text": [
      "Optimization terminated successfully.\n",
      "         Current function value: 0.686484\n",
      "         Iterations: 7\n",
      "         Function evaluations: 8\n",
      "         Gradient evaluations: 8\n",
      "Train Accuracy: %f\n",
      " 61.016949152542374\n"
     ]
    },
    {
     "data": {
      "image/png": "[encoded data removed]",
      "text/plain": [
       "<Figure size 432x288 with 1 Axes>"
      ]
     },
     "metadata": {
      "needs_background": "light"
     },
     "output_type": "display_data"
    }
   ],
   "source": [
    "bambda = 100\n",
    "learned_theta = op.fmin_bfgs(f = costFunctionReg, \n",
    "                x0 = initial_theta, \n",
    "                fprime = gradFunctionReg,\n",
    "                args = (X2t, y2, bambda),\n",
    "                full_output=False,\n",
    "                retall=False)\n",
    "\n",
    "Z1 = sigmoid(X_grid @ learned_theta.reshape(-1,1))\n",
    "Z1 = Z1.reshape(xx1.shape)\n",
    "# Put the result into a color plot\n",
    "plt.contour(xx1, xx2, Z1)\n",
    "plt.axis('on')\n",
    "\n",
    "# Plot also the training points\n",
    "x1 = plt.scatter(data2[data2['Accepted']==1][\"Microchip_Test_1\"],\n",
    "            data2[data2['Accepted']==1][\"Microchip_Test_2\"], marker='+')\n",
    "x2 = plt.scatter(data2[data2['Accepted']==0][\"Microchip_Test_1\"],\n",
    "            data2[data2['Accepted']==0][\"Microchip_Test_2\"], c= 'yellow', marker='o')\n",
    "plt.xlabel('Microchip Test 1')\n",
    "plt.ylabel('Microchip Test 2')\n",
    "plt.title('lambda = 100')\n",
    "\n",
    "# Compute accuracy on training set\n",
    "p, yhead = PredictLogisticRegression(X2t, learned_theta)\n",
    "\n",
    "print('Train Accuracy: %f\\n', np.mean((yhead == y2)) * 100)"
   ]
  },
  {
   "cell_type": "markdown",
   "metadata": {},
   "source": [
    "## Logistic Regression: Multi-class Classification"
   ]
  },
  {
   "cell_type": "markdown",
   "metadata": {},
   "source": [
    "### Load data and display image"
   ]
  },
  {
   "cell_type": "code",
   "execution_count": 333,
   "metadata": {},
   "outputs": [
    {
     "name": "stdout",
     "output_type": "stream",
     "text": [
      "X shape: (5000, 400)\n",
      "y shape: (5000, 1)\n"
     ]
    }
   ],
   "source": [
    "matdata = loadmat('data/ex3data1.mat')\n",
    "X = matdata['X']\n",
    "y = matdata['y']\n",
    "print('X shape:', X.shape)\n",
    "print('y shape:', y.shape)"
   ]
  },
  {
   "cell_type": "markdown",
   "metadata": {},
   "source": [
    "There are 5000 training examples in ex3data1.mat, where each training\n",
    "example is a 20 pixel by 20 pixel grayscale image of the digit. Each pixel is\n",
    "represented by a floating point number indicating the grayscale intensity at\n",
    "that location. The 20 by 20 grid of pixels is unrolled into a 400-dimensional\n",
    "vector. Each of these training examples becomes a single row in our data\n",
    "matrix X. This gives us a 5000 by 400 matrix X where every row is a training\n",
    "example for a handwritten digit image."
   ]
  },
  {
   "cell_type": "code",
   "execution_count": 336,
   "metadata": {},
   "outputs": [],
   "source": [
    "def save_images(images,filename):\n",
    "    \n",
    "    from PIL import Image\n",
    "    # Compute number of items to display\n",
    "    row = int(math.floor(math.sqrt(len(images))))\n",
    "    col = int(math.ceil(len(images)/row))\n",
    "    \n",
    "    # for each image\n",
    "    w = int(math.sqrt(X.shape[1]))\n",
    "    h = int(np.round(X.shape[1]/w))\n",
    "    \n",
    "    height = row * h\n",
    "    width = col * w\n",
    "    output = np.zeros((height, width))\n",
    "\n",
    "    for i in range(row):\n",
    "        for j in range(col):\n",
    "            image = images[i*row+j]\n",
    "            image = image.reshape(h,w)\n",
    "            output[i*h:i*h + h,j*w:j*w+w] = image\n",
    "    output = (output * 255).clip(0,255).astype('uint8')\n",
    "    output = output.T\n",
    "    im = Image.fromarray(output)\n",
    "    im.save(filename)\n",
    "    im.show()"
   ]
  },
  {
   "cell_type": "code",
   "execution_count": 337,
   "metadata": {},
   "outputs": [],
   "source": [
    "filename = 'digits.png'\n",
    "save_images(X,filename)"
   ]
  },
  {
   "cell_type": "markdown",
   "metadata": {},
   "source": [
    "### One-vs-all Classication"
   ]
  },
  {
   "cell_type": "code",
   "execution_count": 349,
   "metadata": {},
   "outputs": [
    {
     "name": "stdout",
     "output_type": "stream",
     "text": [
      "Unique output classes: [ 1  2  3  4  5  6  7  8  9 10]\n"
     ]
    }
   ],
   "source": [
    "y.shape\n",
    "n = len(y)\n",
    "y_class = np.unique(y)\n",
    "print('Unique output classes:', y_class)"
   ]
  },
  {
   "cell_type": "code",
   "execution_count": 346,
   "metadata": {},
   "outputs": [
    {
     "name": "stdout",
     "output_type": "stream",
     "text": [
      "(5000, 401)\n"
     ]
    }
   ],
   "source": [
    "# Add ones to the X data matrix\n",
    "myX = np.append(np.ones([len(X),1]), X ,1)\n",
    "print(myX.shape)"
   ]
  },
  {
   "cell_type": "code",
   "execution_count": 344,
   "metadata": {},
   "outputs": [],
   "source": [
    "def one_vs_all_logistic_classification(X, y, bambda):\n",
    "    \n",
    "    retval_all = []\n",
    "    \n",
    "    y_class = np.unique(y)\n",
    "    \n",
    "    for k in y_class:\n",
    "        # Initialize theta\n",
    "        d = X.shape[1]\n",
    "        initial_theta = np.zeros([d, 1])\n",
    "        yk = 1 * (y == k) \n",
    "        retval_k = op.fmin_bfgs(f = costFunctionReg, \n",
    "                    x0 = initial_theta, \n",
    "                    fprime = gradFunctionReg,\n",
    "                    args = (X, yk, bambda),\n",
    "                    full_output=False,\n",
    "                    retall=False)\n",
    "        retval_all.append(retval_k)\n",
    "        \n",
    "    return retval_all"
   ]
  },
  {
   "cell_type": "code",
   "execution_count": 345,
   "metadata": {},
   "outputs": [
    {
     "name": "stdout",
     "output_type": "stream",
     "text": [
      "Optimization terminated successfully.\n",
      "         Current function value: 0.022429\n",
      "         Iterations: 203\n",
      "         Function evaluations: 204\n",
      "         Gradient evaluations: 204\n",
      "Optimization terminated successfully.\n",
      "         Current function value: 0.062418\n",
      "         Iterations: 268\n",
      "         Function evaluations: 269\n",
      "         Gradient evaluations: 269\n",
      "Optimization terminated successfully.\n",
      "         Current function value: 0.066870\n",
      "         Iterations: 280\n",
      "         Function evaluations: 281\n",
      "         Gradient evaluations: 281\n",
      "Optimization terminated successfully.\n",
      "         Current function value: 0.045644\n",
      "         Iterations: 251\n",
      "         Function evaluations: 252\n",
      "         Gradient evaluations: 252\n",
      "Optimization terminated successfully.\n",
      "         Current function value: 0.068821\n",
      "         Iterations: 284\n",
      "         Function evaluations: 285\n",
      "         Gradient evaluations: 285\n",
      "Optimization terminated successfully.\n",
      "         Current function value: 0.029461\n",
      "         Iterations: 230\n",
      "         Function evaluations: 231\n",
      "         Gradient evaluations: 231\n",
      "Optimization terminated successfully.\n",
      "         Current function value: 0.041380\n",
      "         Iterations: 231\n",
      "         Function evaluations: 232\n",
      "         Gradient evaluations: 232\n",
      "Optimization terminated successfully.\n",
      "         Current function value: 0.087502\n",
      "         Iterations: 282\n",
      "         Function evaluations: 283\n",
      "         Gradient evaluations: 283\n",
      "Optimization terminated successfully.\n",
      "         Current function value: 0.082754\n",
      "         Iterations: 279\n",
      "         Function evaluations: 280\n",
      "         Gradient evaluations: 280\n",
      "Optimization terminated successfully.\n",
      "         Current function value: 0.015924\n",
      "         Iterations: 215\n",
      "         Function evaluations: 216\n",
      "         Gradient evaluations: 216\n"
     ]
    }
   ],
   "source": [
    "theta_all = one_vs_all_logistic_classification(myX, y, bambda = 0.5)"
   ]
  },
  {
   "cell_type": "markdown",
   "metadata": {},
   "source": [
    "### One-vs-all Prediction"
   ]
  },
  {
   "cell_type": "markdown",
   "metadata": {},
   "source": [
    "Predict the label for a trained one-vs-all classifier. The labels are in the range 1..K, where K = size(all_theta, 1).  \n",
    "p = predictOneVsAll(all_theta, X) will return a vector of predictions for each example in the matrix X. \n",
    "Note that X contains the examples in rows. \n",
    "all_theta is a matrix where the i-th row is a trained logistic regression theta vector for the i-th class. \n",
    "You should set p to a vector of values from 1..K \n",
    "(e.g., p = [1; 3; 1; 2] predicts classes 1, 3, 1, 2 for 4 examples) "
   ]
  },
  {
   "cell_type": "code",
   "execution_count": 350,
   "metadata": {},
   "outputs": [],
   "source": [
    "theta_all= np.array(theta_all).T"
   ]
  },
  {
   "cell_type": "code",
   "execution_count": 351,
   "metadata": {},
   "outputs": [],
   "source": [
    "X_test = X.copy()"
   ]
  },
  {
   "cell_type": "code",
   "execution_count": 352,
   "metadata": {},
   "outputs": [],
   "source": [
    "def predictOneVsAll(all_theta, X_test):\n",
    "    \n",
    "    m = X_test.shape[0]\n",
    "    ps = []\n",
    "  \n",
    "    k = all_theta.shape[1] # k include theta 0 (for 1 term)\n",
    "\n",
    "    # Add ones to the X data matrix    \n",
    "    X_test = np.append(np.ones([len(X_test),1]), X_test ,1)\n",
    "    \n",
    "    h = sigmoid(X_test @ all_theta)  # hx dimensions: (m, k). m:test size; k: number of classes \n",
    "\n",
    "    for i in range(m):\n",
    "        p = np.argmax(h[i]) +1\n",
    "        ps.append(p)\n",
    "    ps = np.array(ps).T\n",
    "        \n",
    "    return ps"
   ]
  },
  {
   "cell_type": "code",
   "execution_count": 353,
   "metadata": {},
   "outputs": [
    {
     "data": {
      "text/plain": [
       "array([10, 10, 10, ...,  9,  9,  7])"
      ]
     },
     "execution_count": 353,
     "metadata": {},
     "output_type": "execute_result"
    }
   ],
   "source": [
    "#Predict for One-Vs-All\n",
    "pred = predictOneVsAll(theta_all, X)\n",
    "pred"
   ]
  },
  {
   "cell_type": "code",
   "execution_count": 354,
   "metadata": {},
   "outputs": [
    {
     "name": "stdout",
     "output_type": "stream",
     "text": [
      "\n",
      "Training Set Accuracy: %f\n",
      " 0.9506\n"
     ]
    }
   ],
   "source": [
    "print('\\nTraining Set Accuracy: %f\\n', np.mean((pred == y.flatten()) * 1))"
   ]
  },
  {
   "cell_type": "markdown",
   "metadata": {},
   "source": [
    "## Multi-class classification using pretrained neural nets"
   ]
  },
  {
   "cell_type": "code",
   "execution_count": 356,
   "metadata": {},
   "outputs": [],
   "source": [
    "## You have been provided with a set of network parameters, theta1, theta2 already trained.\n",
    "## The parameters have dimensions that are sized for a neural network with 25 units \n",
    "## in the second layer and 10 output units (corresponding to the 10 digit classes).\n",
    "\n",
    "matweights = loadmat('data/ex3weights.mat')\n",
    "theta1 = matweights['Theta1']\n",
    "theta2 = matweights['Theta2']"
   ]
  },
  {
   "cell_type": "code",
   "execution_count": 357,
   "metadata": {},
   "outputs": [
    {
     "data": {
      "text/plain": [
       "(25, 401)"
      ]
     },
     "execution_count": 357,
     "metadata": {},
     "output_type": "execute_result"
    }
   ],
   "source": [
    "theta1.shape"
   ]
  },
  {
   "cell_type": "code",
   "execution_count": 358,
   "metadata": {},
   "outputs": [
    {
     "data": {
      "text/plain": [
       "(10, 26)"
      ]
     },
     "execution_count": 358,
     "metadata": {},
     "output_type": "execute_result"
    }
   ],
   "source": [
    "theta2.shape"
   ]
  },
  {
   "cell_type": "code",
   "execution_count": 359,
   "metadata": {},
   "outputs": [],
   "source": [
    "## Predict the label of an input given a trained neural network\n",
    "## outputs the predicted label of X given the trained weights of a neural network (Theta1, Theta2)\n",
    "    \n",
    "def predict(Theta1, Theta2, X_test):\n",
    "\n",
    "    ## Useful values\n",
    "    m = X_test.shape[0] # size of training data\n",
    "    d = X_test.shape[1] # number of input features, excluding bias term 1\n",
    "    num_labels = Theta2.shape[0] # dimensions of outputs\n",
    "    \n",
    "    ## Initialize all_p. It should be a vector containing labels between 1 to num_labels.\n",
    "    all_p = []\n",
    "    \n",
    "    ## Add bias term to X\n",
    "    X_test = np.append(np.ones([len(X_test),1]), X_test ,1).T # Shape: (d+!, m) => (401, 5000)\n",
    "    z2= Theta1 @ X_test # dim: (25, 5000)\n",
    "    a2 = sigmoid(z2)    # dim: (25, 5000) \n",
    "    a2 = np.append(np.ones([1, m]),a2,0) # Add a row of ones to a2 # dim: (26, 5000)\n",
    "    \n",
    "    z3 = Theta2 @ a2    # dim: (10, 5000)\n",
    "    a3 = sigmoid(z3)    # dim: (10, 5000)\n",
    "    \n",
    "    for i in range(m):\n",
    "        ind = np.argmax(a3[:, i])\n",
    "        p = ind + 1\n",
    "            \n",
    "        all_p.append(p)\n",
    "        \n",
    "    all_p = np.array(all_p).T\n",
    "     \n",
    "    return all_p"
   ]
  },
  {
   "cell_type": "code",
   "execution_count": 360,
   "metadata": {},
   "outputs": [
    {
     "data": {
      "text/plain": [
       "array([10, 10, 10, ...,  9,  9,  9])"
      ]
     },
     "execution_count": 360,
     "metadata": {},
     "output_type": "execute_result"
    }
   ],
   "source": [
    "# Note that the data stores digit 0 as 10\n",
    "pred = predict(theta1, theta2, X)\n",
    "pred"
   ]
  },
  {
   "cell_type": "code",
   "execution_count": 361,
   "metadata": {},
   "outputs": [
    {
     "name": "stdout",
     "output_type": "stream",
     "text": [
      "\n",
      "Training Set Accuracy: %f\n",
      " 0.9752\n"
     ]
    }
   ],
   "source": [
    "print('\\nTraining Set Accuracy: %f\\n', np.mean((pred == y.flatten()) * 1))"
   ]
  }
 ],
 "metadata": {
  "kernelspec": {
   "display_name": "Python 3",
   "language": "python",
   "name": "python3"
  },
  "language_info": {
   "codemirror_mode": {
    "name": "ipython",
    "version": 3
   },
   "file_extension": ".py",
   "mimetype": "text/x-python",
   "name": "python",
   "nbconvert_exporter": "python",
   "pygments_lexer": "ipython3",
   "version": "3.7.1"
  },
  "toc": {
   "base_numbering": 1,
   "nav_menu": {},
   "number_sections": true,
   "sideBar": true,
   "skip_h1_title": false,
   "title_cell": "Table of Contents",
   "title_sidebar": "Contents",
   "toc_cell": false,
   "toc_position": {
    "height": "calc(100% - 180px)",
    "left": "10px",
    "top": "150px",
    "width": "233.391px"
   },
   "toc_section_display": true,
   "toc_window_display": true
  },
  "varInspector": {
   "cols": {
    "lenName": 16,
    "lenType": 16,
    "lenVar": 40
   },
   "kernels_config": {
    "python": {
     "delete_cmd_postfix": "",
     "delete_cmd_prefix": "del ",
     "library": "var_list.py",
     "varRefreshCmd": "print(var_dic_list())"
    },
    "r": {
     "delete_cmd_postfix": ") ",
     "delete_cmd_prefix": "rm(",
     "library": "var_list.r",
     "varRefreshCmd": "cat(var_dic_list()) "
    }
   },
   "types_to_exclude": [
    "module",
    "function",
    "builtin_function_or_method",
    "instance",
    "_Feature"
   ],
   "window_display": false
  }
 },
 "nbformat": 4,
 "nbformat_minor": 2
}
