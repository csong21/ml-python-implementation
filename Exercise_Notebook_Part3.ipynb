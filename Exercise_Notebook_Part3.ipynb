{
 "cells": [
  {
   "cell_type": "markdown",
   "metadata": {},
   "source": [
    "# Anomaly Detection and Recommender Systems"
   ]
  },
  {
   "cell_type": "code",
   "execution_count": 53,
   "metadata": {},
   "outputs": [],
   "source": [
    "import numpy as np\n",
    "import math\n",
    "import pandas as pd\n",
    "import seaborn as sns\n",
    "import numpy.linalg as la\n",
    "import scipy.optimize as op\n",
    "from scipy.stats import norm\n",
    "from scipy.io import loadmat\n",
    "from scipy.optimize import minimize\n",
    "from sklearn.preprocessing import PolynomialFeatures \n",
    "from matplotlib import pyplot as plt"
   ]
  },
  {
   "cell_type": "markdown",
   "metadata": {},
   "source": [
    "## Anomaly Detection"
   ]
  },
  {
   "cell_type": "markdown",
   "metadata": {},
   "source": [
    "### Load and Plot data"
   ]
  },
  {
   "cell_type": "code",
   "execution_count": 379,
   "metadata": {},
   "outputs": [],
   "source": [
    "matdata = loadmat('machine-learning-ex8/ex8/ex8data1.mat')\n",
    "matdata.keys()\n",
    "X = matdata['X']\n",
    "Xval = matdata['Xval']\n",
    "yval = matdata['yval']"
   ]
  },
  {
   "cell_type": "code",
   "execution_count": 37,
   "metadata": {},
   "outputs": [
    {
     "name": "stdout",
     "output_type": "stream",
     "text": [
      "X.shape: (307, 2)\n",
      "Xval.shape: (307, 2)\n",
      "yval.shape: (307, 1)\n"
     ]
    }
   ],
   "source": [
    "print('X.shape:', X.shape)\n",
    "print('Xval.shape:', Xval.shape)\n",
    "print('yval.shape:', yval.shape)"
   ]
  },
  {
   "cell_type": "code",
   "execution_count": 36,
   "metadata": {},
   "outputs": [
    {
     "name": "stdout",
     "output_type": "stream",
     "text": [
      "number of anomoly: 9 perc of anomoly: 0.029315960912052116\n"
     ]
    },
    {
     "name": "stderr",
     "output_type": "stream",
     "text": [
      "/Users/juersong/miniconda3/lib/python3.7/site-packages/ipykernel_launcher.py:2: FutureWarning: Using a non-tuple sequence for multidimensional indexing is deprecated; use `arr[tuple(seq)]` instead of `arr[seq]`. In the future this will be interpreted as an array index, `arr[np.array(seq)]`, which will result either in an error or a different result.\n",
      "  \n"
     ]
    }
   ],
   "source": [
    "boolArr = [yval == 1]\n",
    "print(\"number of anomoly:\",len(yval[boolArr]), \"perc of anomoly:\", len(yval[boolArr])/len(yval))"
   ]
  },
  {
   "cell_type": "code",
   "execution_count": 51,
   "metadata": {},
   "outputs": [
    {
     "data": {
      "text/plain": [
       "Text(0, 0.5, 'Throughput (mb/s)')"
      ]
     },
     "execution_count": 51,
     "metadata": {},
     "output_type": "execute_result"
    },
    {
     "data": {
      "image/png": "[encoded data removed]",
      "text/plain": [
       "<Figure size 432x288 with 1 Axes>"
      ]
     },
     "metadata": {
      "needs_background": "light"
     },
     "output_type": "display_data"
    }
   ],
   "source": [
    "# Visualize the example dataset\n",
    "plt.plot(X[:,0], X[:,1], 'bo', markersize=2)\n",
    "plt.xlabel('Latency (ms)')\n",
    "plt.ylabel('Throughput (mb/s)')"
   ]
  },
  {
   "cell_type": "markdown",
   "metadata": {},
   "source": [
    "### Fit Gaussian distribution"
   ]
  },
  {
   "cell_type": "markdown",
   "metadata": {},
   "source": [
    "#### Using scipy.stats"
   ]
  },
  {
   "cell_type": "code",
   "execution_count": 74,
   "metadata": {},
   "outputs": [
    {
     "data": {
      "image/png": "[encoded data removed]",
      "text/plain": [
       "<Figure size 432x288 with 1 Axes>"
      ]
     },
     "metadata": {
      "needs_background": "light"
     },
     "output_type": "display_data"
    }
   ],
   "source": [
    "mu1, std1 = norm.fit(X[:,0])\n",
    "mu2, std2 = norm.fit(X[:,1])\n",
    "\n",
    "# Plot the histogram.\n",
    "plt.hist(X[:,0], bins=25, density=True, alpha=0.6, color='g')\n",
    "\n",
    "# Plot the PDF.\n",
    "xmin, xmax = plt.xlim()\n",
    "x = np.linspace(xmin, xmax, 100)\n",
    "p = norm.pdf(x, mu1, std1)\n",
    "plt.plot(x, p, 'k', linewidth=2)\n",
    "\n",
    "# Plot the histogram.\n",
    "plt.hist(X[:,1], bins=25, density=True, alpha=0.6, color='b')\n",
    "\n",
    "# Plot the PDF.\n",
    "xmin, xmax = plt.xlim()\n",
    "x = np.linspace(xmin, xmax, 100)\n",
    "p = norm.pdf(x, mu2, std2)\n",
    "plt.plot(x, p, 'k', linewidth=2)\n",
    "title = \"Fit results: mu1 = %.2f,  std1 = %.2f\" % (mu1, std1), \"mu2 = %.2f,  std2 = %.2f\" % (mu2, std2)\n",
    "plt.title(title)\n",
    "\n",
    "plt.show()"
   ]
  },
  {
   "cell_type": "markdown",
   "metadata": {},
   "source": [
    "#### Fit the data manually"
   ]
  },
  {
   "cell_type": "code",
   "execution_count": 132,
   "metadata": {},
   "outputs": [],
   "source": [
    "# Estimating parameters for a Gaussian\n",
    "\n",
    "def estimateGaussian(X):\n",
    "    # X is a d * m matrix, d is the number of features, m is the sample size.\n",
    "    \n",
    "    d = X.shape[0]\n",
    "    m = X.shape[1]\n",
    "    \n",
    "    # Initialize vector mu and sigma. Both vectors are (d, 1)\n",
    "    mu = np.zeros([d, 1])\n",
    "    sigma2 = np.zeros([d,1])\n",
    "    \n",
    "    for i in range(d):\n",
    "        mu[i] = np.mean(X[i])\n",
    "        sigma2[i] = np.mean((X[i] - mu[i])**2)\n",
    "\n",
    "    return mu, sigma2"
   ]
  },
  {
   "cell_type": "code",
   "execution_count": 133,
   "metadata": {},
   "outputs": [],
   "source": [
    "mu, sigma2 = estimateGaussian(X = X.T)"
   ]
  },
  {
   "cell_type": "code",
   "execution_count": 134,
   "metadata": {},
   "outputs": [
    {
     "data": {
      "text/plain": [
       "(array([[14.11222578],\n",
       "        [14.99771051]]), array([[1.83263141],\n",
       "        [1.70974533]]))"
      ]
     },
     "execution_count": 134,
     "metadata": {},
     "output_type": "execute_result"
    }
   ],
   "source": [
    "mu, sigma2"
   ]
  },
  {
   "cell_type": "code",
   "execution_count": 344,
   "metadata": {},
   "outputs": [],
   "source": [
    "def multivariateGaussian(X, mu, Sigma2):\n",
    "\n",
    "    # The function computes the probability density function of the multivariate gaussian distribution.\n",
    "    # With mu and Sigma2. If Sigma2 is a matrix, it is treated as the covariance matrix. \n",
    "    # If Sigma2 is a vector, it istreated as the sigma^2 values of the variances in each dimension (a diagonal \n",
    "    # covariance matrix)\n",
    "    \n",
    "    d = X.shape[1]\n",
    "    prob = []\n",
    "    \n",
    "    for i in range(d):\n",
    "        p = ((2 * math.pi) ** (- 1 / 2)) * (Sigma2[i] ** (-0.5)) * np.exp(-0.5 * ((X[:,i] - mu[i])**2) / Sigma2[i] )\n",
    "        prob.append(p)\n",
    "    \n",
    "    prob = np.array(prob)\n",
    "    prob = np.product(prob, axis =0)\n",
    "\n",
    "    return prob"
   ]
  },
  {
   "cell_type": "code",
   "execution_count": 236,
   "metadata": {
    "scrolled": true
   },
   "outputs": [
    {
     "data": {
      "image/png": "[encoded data removed]",
      "text/plain": [
       "<Figure size 432x288 with 1 Axes>"
      ]
     },
     "metadata": {
      "needs_background": "light"
     },
     "output_type": "display_data"
    }
   ],
   "source": [
    "x = np.arange(0, 25,1)\n",
    "y = np.arange(0, 25,1)\n",
    "xx, yy = np.meshgrid(x, y)\n",
    "z = multivariateGaussian(xx, yy, mu, sigma2)\n",
    "h = plt.contour(xx,yy,z)\n",
    "plt.plot(X[:,0], X[:,1], 'bo', markersize=2)\n",
    "plt.xlabel('Latency (ms)');\n",
    "plt.ylabel('Throughput (mb/s)');\n",
    "plt.show()"
   ]
  },
  {
   "cell_type": "markdown",
   "metadata": {},
   "source": [
    "### Select threshhold"
   ]
  },
  {
   "cell_type": "code",
   "execution_count": 338,
   "metadata": {},
   "outputs": [
    {
     "name": "stdout",
     "output_type": "stream",
     "text": [
      "(2, 307)\n"
     ]
    }
   ],
   "source": [
    "pval = multivariateGaussian(Xval, mu, sigma2)"
   ]
  },
  {
   "cell_type": "code",
   "execution_count": 341,
   "metadata": {},
   "outputs": [],
   "source": [
    "def selectThreshold(yval, pval):\n",
    "    \n",
    "    # Find the best threshold (epsilon) to use for selecting outliers\n",
    "    # based on the results from a alidation set (pval) and the ground truth (yval)\n",
    "\n",
    "    bestEpsilon = 0\n",
    "    bestF1 = 0\n",
    "    F1 = 0\n",
    "\n",
    "    stepsize = (np.max(pval) - np.min(pval)) / 1000\n",
    "    for epsilon in np.arange(np.min(pval) ,np.max(pval),stepsize):\n",
    "        yh = (pval < epsilon).reshape(-1,1)\n",
    "        tp = (yh == yh) & (yval ==1)\n",
    "        TP = np.sum(tp)\n",
    "\n",
    "        tn = (yh == yh) & (yval ==0)\n",
    "        TN = np.sum(tn)\n",
    "        \n",
    "        fp = (yh == 1) & (yval == 0)\n",
    "        FP = np.sum(fp)\n",
    "        \n",
    "        fn = (yh == 0) & (yval == 1)\n",
    "        FN = np.sum(fn)\n",
    "        \n",
    "        precision = TP /(TP + FP)\n",
    "        recall = TP / (TP + FN)\n",
    "        \n",
    "        F1 = 2 * (precision * recall)/(precision + recall)\n",
    "        \n",
    "        if F1 > bestF1:\n",
    "            bestF1 = F1\n",
    "            bestEpsilon = epsilon\n",
    "\n",
    "   \n",
    "    return bestEpsilon, bestF1  "
   ]
  },
  {
   "cell_type": "code",
   "execution_count": 342,
   "metadata": {},
   "outputs": [],
   "source": [
    "bestEpsilon, bestF1   = selectThreshold(yval, pval)"
   ]
  },
  {
   "cell_type": "code",
   "execution_count": 343,
   "metadata": {},
   "outputs": [
    {
     "name": "stdout",
     "output_type": "stream",
     "text": [
      "threshold =  8.990852779269496e-05\n",
      "best F1 score =  0.9\n"
     ]
    }
   ],
   "source": [
    "print('threshold = ', bestEpsilon)\n",
    "print('best F1 score = ', bestF1 )"
   ]
  },
  {
   "cell_type": "markdown",
   "metadata": {},
   "source": [
    "### High dimensional dataset"
   ]
  },
  {
   "cell_type": "code",
   "execution_count": 307,
   "metadata": {},
   "outputs": [],
   "source": [
    "matdata = loadmat('machine-learning-ex8/ex8/ex8data2.mat')\n",
    "matdata.keys()\n",
    "X2 = matdata['X']\n",
    "X2val = matdata['Xval']\n",
    "y2val = matdata['yval']"
   ]
  },
  {
   "cell_type": "code",
   "execution_count": 309,
   "metadata": {},
   "outputs": [
    {
     "name": "stdout",
     "output_type": "stream",
     "text": [
      "X2.shape: (1000, 11)\n",
      "X2val.shape: (100, 11)\n",
      "y2val.shape: (100, 1)\n"
     ]
    }
   ],
   "source": [
    "print('X2.shape:', X2.shape)\n",
    "print('X2val.shape:', X2val.shape)\n",
    "print('y2val.shape:', y2val.shape)"
   ]
  },
  {
   "cell_type": "code",
   "execution_count": 310,
   "metadata": {},
   "outputs": [
    {
     "name": "stdout",
     "output_type": "stream",
     "text": [
      "number of anomoly: 10 perc of anomoly: 0.1\n"
     ]
    },
    {
     "name": "stderr",
     "output_type": "stream",
     "text": [
      "/Users/juersong/miniconda3/lib/python3.7/site-packages/ipykernel_launcher.py:3: FutureWarning: Using a non-tuple sequence for multidimensional indexing is deprecated; use `arr[tuple(seq)]` instead of `arr[seq]`. In the future this will be interpreted as an array index, `arr[np.array(seq)]`, which will result either in an error or a different result.\n",
      "  This is separate from the ipykernel package so we can avoid doing imports until\n"
     ]
    }
   ],
   "source": [
    "# Cross validation set:\n",
    "boolArr2 = [y2val == 1]\n",
    "print(\"number of anomoly:\",len(y2val[boolArr2]), \"perc of anomoly:\", len(y2val[boolArr2])/len(y2val))"
   ]
  },
  {
   "cell_type": "code",
   "execution_count": 311,
   "metadata": {},
   "outputs": [],
   "source": [
    "# Fit Gaussian distribution parameters:\n",
    "MU, SIGMA2 = estimateGaussian(X = X2.T)"
   ]
  },
  {
   "cell_type": "code",
   "execution_count": 352,
   "metadata": {},
   "outputs": [],
   "source": [
    "pval2 = multivariateGaussian(X2val, MU, SIGMA2)"
   ]
  },
  {
   "cell_type": "code",
   "execution_count": 353,
   "metadata": {},
   "outputs": [
    {
     "name": "stdout",
     "output_type": "stream",
     "text": [
      "threshold =  1.3772288907613581e-18\n",
      "best F1 score =  0.6666666666666667\n"
     ]
    }
   ],
   "source": [
    "bestEpsilon2, bestF1_2  = selectThreshold(y2val, pval2)\n",
    "print('threshold = ', bestEpsilon2)\n",
    "print('best F1 score = ', bestF1_2 )"
   ]
  },
  {
   "cell_type": "markdown",
   "metadata": {},
   "source": [
    "## Movie Recommendation"
   ]
  },
  {
   "cell_type": "markdown",
   "metadata": {},
   "source": [
    "### Load and Plot data"
   ]
  },
  {
   "cell_type": "code",
   "execution_count": 561,
   "metadata": {},
   "outputs": [],
   "source": [
    "moviedata = loadmat('machine-learning-ex8/ex8/ex8_movies.mat')\n",
    "moviedata.keys()\n",
    "Y = moviedata['Y']\n",
    "R = moviedata['R']"
   ]
  },
  {
   "cell_type": "code",
   "execution_count": 421,
   "metadata": {},
   "outputs": [
    {
     "name": "stdout",
     "output_type": "stream",
     "text": [
      "Y.shape: (1682, 943)\n",
      "R.shape: (1682, 943)\n"
     ]
    }
   ],
   "source": [
    "# nu = 943 users, and nm = 1682 movies\n",
    "print('Y.shape:', Y.shape)\n",
    "print('R.shape:', R.shape)"
   ]
  },
  {
   "cell_type": "code",
   "execution_count": 401,
   "metadata": {},
   "outputs": [
    {
     "data": {
      "text/plain": [
       "(943,)"
      ]
     },
     "execution_count": 401,
     "metadata": {},
     "output_type": "execute_result"
    }
   ],
   "source": [
    "Y[0, R[0, :]].shape"
   ]
  },
  {
   "cell_type": "code",
   "execution_count": 403,
   "metadata": {},
   "outputs": [
    {
     "name": "stdout",
     "output_type": "stream",
     "text": [
      "Average rating for movie 1 (Toy Story): 4.520679 / 5\n",
      "\n",
      "\n"
     ]
    }
   ],
   "source": [
    "# Y is a 1682 * 943 matrix, containing ratings (1-5) of 1682 movies on 943 users\n",
    "# R is a 1682 * 943 matrix, where R(i,j) = 1 if and only if user j gave a rating to movie i\n",
    "\n",
    "#  From the matrix, we can compute statistics like average rating.\n",
    "print('Average rating for movie 1 (Toy Story): %f / 5\\n\\n' % np.mean(Y[0, R[0, :]]))\n"
   ]
  },
  {
   "cell_type": "code",
   "execution_count": 416,
   "metadata": {},
   "outputs": [
    {
     "data": {
      "text/plain": [
       "3.52986"
      ]
     },
     "execution_count": 416,
     "metadata": {},
     "output_type": "execute_result"
    }
   ],
   "source": [
    "mask = (R==1)\n",
    "np.mean(Y[mask])"
   ]
  },
  {
   "cell_type": "code",
   "execution_count": 411,
   "metadata": {},
   "outputs": [
    {
     "data": {
      "text/plain": [
       "0.3695305417098011"
      ]
     },
     "execution_count": 411,
     "metadata": {},
     "output_type": "execute_result"
    }
   ],
   "source": [
    "np.mean(Y[0:1682, R[0,:]])"
   ]
  },
  {
   "cell_type": "code",
   "execution_count": 378,
   "metadata": {},
   "outputs": [
    {
     "name": "stdout",
     "output_type": "stream",
     "text": [
      "[IMAGESC] Warning: Matplotlib version is advised to be to be > v3.1.1. Otherwise heatmaps can have cut-off tops and bottoms.\n",
      "Try to: pip install -U matplotlib\n",
      "[IMAGESC] WARNING: Plot will be poorly visible if [linewidth>0] with rows/columns>100. Set linewidth=0 to adjust. [auto-adjusting...]\n"
     ]
    },
    {
     "data": {
      "image/png": "[encoded data removed]",
      "text/plain": [
       "<Figure size 216x1080 with 2 Axes>"
      ]
     },
     "metadata": {
      "needs_background": "light"
     },
     "output_type": "display_data"
    },
    {
     "data": {
      "image/png": "[encoded data removed]",
      "text/plain": [
       "<Figure size 216x1080 with 2 Axes>"
      ]
     },
     "execution_count": 378,
     "metadata": {},
     "output_type": "execute_result"
    }
   ],
   "source": [
    "# We can \"visualize\" the ratings matrix by plotting it with imagesc\n",
    "import imagesc as imagesc\n",
    "imagesc.plot(Y)"
   ]
  },
  {
   "cell_type": "markdown",
   "metadata": {},
   "source": [
    "### Collabrotive filtering cost function"
   ]
  },
  {
   "cell_type": "code",
   "execution_count": 582,
   "metadata": {},
   "outputs": [],
   "source": [
    "def cofiCostFunc(params, Y, R, num_users, num_movies, num_features, bambda):\n",
    " # Collaborative filtering cost function returns the cost and gradient for the collaborative filtering problem.\n",
    "\n",
    "    # Unfold the U and W matrices from params\n",
    "    X = params[0: num_movies * num_features].reshape(num_movies, num_features)\n",
    "    Theta = params[num_movies*num_features:].reshape(num_users, num_features)\n",
    "    \n",
    "    # Notes:\n",
    "    # Theta[j] - parameter vector for user j\n",
    "    # X[i] - feature vector for movie i\n",
    "    # X[i] @ Theta[j].T  - predicted rating for movie i by user j\n",
    "    \n",
    "\n",
    "    # You need to return the following values correctly\n",
    "    J = 0\n",
    "    X_grad = np.zeros(X.shape)\n",
    "    Theta_grad = np.zeros(Theta.shape)\n",
    "\n",
    "    # Before regularization\n",
    "    Diff = (X @ Theta.T - Y) * R\n",
    "    \n",
    "    J = 0.5 * (la.norm(Diff)**2)\n",
    "    \n",
    "    J_reg = J + 0.5 * bambda * np.sum(X*X)  + 0.5 * bambda * np.sum(Theta * Theta)\n",
    "    \n",
    "    X_grad = ((X @ Theta.T - Y)*R) @ Theta + bambda * X\n",
    "    Theta_grad = ((X @ Theta.T - Y)*R).T @ X + bambda * Theta\n",
    "    param_grad = np.append(X_grad, Theta_grad)\n",
    "    \n",
    "    return J, J_reg, param_grad\n",
    "\n",
    "\n",
    "def f(params, Y, R, num_users, num_movies, num_features, bambda):\n",
    "    return cofiCostFunc(params, Y, R, num_users, num_movies, num_features, bambda)[1]\n",
    "\n",
    "def fprime(params, Y, R, num_users, num_movies, num_features, bambda):\n",
    "    return cofiCostFunc(params, Y, R, num_users, num_movies, num_features, bambda)[2]"
   ]
  },
  {
   "cell_type": "code",
   "execution_count": 568,
   "metadata": {},
   "outputs": [],
   "source": [
    "# Load pre-trained weights: X, Theta, num_users, num_movies, num_features)\n",
    "movieParams = loadmat('machine-learning-ex8/ex8/ex8_movieParams.mat')\n",
    "movieParams.keys()\n",
    "X = movieParams['X']\n",
    "Theta = movieParams['Theta']\n",
    "num_users = movieParams['num_users'].item()\n",
    "num_movies = movieParams['num_movies'].item()\n",
    "num_features = movieParams['num_features'].item()"
   ]
  },
  {
   "cell_type": "code",
   "execution_count": 620,
   "metadata": {},
   "outputs": [],
   "source": [
    "# Normalize ratings by substracting mean \n",
    "def normalizeRatings(Y, R):\n",
    "    # Preprocess data by subtracting mean rating for every movie (every row)\n",
    "    # so that each movie has a rating of 0 on average, and returns the mean rating in Ymean.\n",
    "\n",
    "    m, n = Y.shape\n",
    "    Ymean = np.zeros([m, 1])\n",
    "    Ynorm = np.zeros([m, n])\n",
    "    for i in range(m):\n",
    "        idx = R[i, :] == 1\n",
    "        Ymean[i] = np.mean(Y[i, idx])\n",
    "        Ynorm[i, idx] = Y[i, idx] - Ymean[i].item()\n",
    "\n",
    "    return Ynorm, Ymean"
   ]
  },
  {
   "cell_type": "code",
   "execution_count": 535,
   "metadata": {},
   "outputs": [
    {
     "name": "stdout",
     "output_type": "stream",
     "text": [
      "[[-0.95596339  6.97535514 -0.10861109]\n",
      " [ 0.60308088  2.77421145  0.25839822]\n",
      " [ 0.12985616  4.0898522  -0.89247334]\n",
      " [ 0.29684395  1.06300933  0.66738144]\n",
      " [ 0.60252677  4.90185327 -0.19747928]]\n",
      "[[-10.13985478   2.10136256  -6.76563628]\n",
      " [ -2.29347024   0.48244098  -2.99791422]\n",
      " [ -0.64787484  -0.71820673   1.27006666]\n",
      " [  1.09289758  -0.40784086   0.49026541]]\n",
      "Cost at loaded parameters: 22.224604 \n",
      "(this value should be about 22.22)\n",
      "\n",
      "Cost after regularization at loaded parameters: 31.344056 \n",
      "(this value should be about 31.34)\n",
      "\n"
     ]
    }
   ],
   "source": [
    "#  Reduce the data set size so that this runs faster\n",
    "\n",
    "num_users = 4\n",
    "num_movies = 5\n",
    "num_features = 3\n",
    "bambda = 1.5\n",
    "X = X[0:(num_movies), 0:(num_features)]\n",
    "Theta = Theta[0:num_users, 0:num_features]\n",
    "Y = Y[0:num_movies, 0:num_users]\n",
    "R = R[0:num_movies, 0:num_users]\n",
    "\n",
    "params = np.append(X , Theta).reshape(-1,1)\n",
    "\n",
    "# Evaluate cost function\n",
    "J, J_reg, x_grad, theta_grad = cofiCostFunc(params, Y, R, num_users, num_movies, num_features, bambda)\n",
    "\n",
    "print('Cost at loaded parameters: %f '\n",
    "         '\\n(this value should be about 22.22)\\n'% J)\n",
    "print('Cost after regularization at loaded parameters: %f '\n",
    "         '\\n(this value should be about 31.34)\\n'% J_reg)"
   ]
  },
  {
   "cell_type": "markdown",
   "metadata": {},
   "source": [
    "### Learning movie recommendations"
   ]
  },
  {
   "cell_type": "code",
   "execution_count": 536,
   "metadata": {},
   "outputs": [],
   "source": [
    "# Optimize using scipy.optimize.fmin_cg"
   ]
  },
  {
   "cell_type": "code",
   "execution_count": 554,
   "metadata": {},
   "outputs": [],
   "source": [
    "## Randomly initialize the weights to small values\n",
    "W = num_movies.item() * num_features.item() + num_users.item() * num_features.item()\n",
    "initial_params = np.random.rand(W, 1)"
   ]
  },
  {
   "cell_type": "code",
   "execution_count": 621,
   "metadata": {},
   "outputs": [],
   "source": [
    "Ynorm, Ymean = normalizeRatings(Y, R)"
   ]
  },
  {
   "cell_type": "code",
   "execution_count": 624,
   "metadata": {},
   "outputs": [
    {
     "name": "stdout",
     "output_type": "stream",
     "text": [
      "Optimization terminated successfully.\n",
      "         Current function value: 38944.658742\n",
      "         Iterations: 366\n",
      "         Function evaluations: 544\n",
      "         Gradient evaluations: 544\n"
     ]
    }
   ],
   "source": [
    "retval = op.fmin_cg(f = f, \n",
    "           x0 = initial_params.squeeze(), \n",
    "           fprime = fprime, \n",
    "           args = (Ynorm, R, num_users, num_movies, num_features,10)\n",
    "            )"
   ]
  },
  {
   "cell_type": "code",
   "execution_count": 625,
   "metadata": {},
   "outputs": [
    {
     "data": {
      "text/plain": [
       "0.02455331968708665"
      ]
     },
     "execution_count": 625,
     "metadata": {},
     "output_type": "execute_result"
    }
   ],
   "source": [
    "# Avg error:\n",
    "38944.658742/(num_users *num_movies)"
   ]
  }
 ],
 "metadata": {
  "kernelspec": {
   "display_name": "Python 3",
   "language": "python",
   "name": "python3"
  },
  "language_info": {
   "codemirror_mode": {
    "name": "ipython",
    "version": 3
   },
   "file_extension": ".py",
   "mimetype": "text/x-python",
   "name": "python",
   "nbconvert_exporter": "python",
   "pygments_lexer": "ipython3",
   "version": "3.7.1"
  },
  "toc": {
   "base_numbering": 1,
   "nav_menu": {},
   "number_sections": true,
   "sideBar": true,
   "skip_h1_title": false,
   "title_cell": "Table of Contents",
   "title_sidebar": "Contents",
   "toc_cell": false,
   "toc_position": {},
   "toc_section_display": true,
   "toc_window_display": false
  },
  "varInspector": {
   "cols": {
    "lenName": 16,
    "lenType": 16,
    "lenVar": 40
   },
   "kernels_config": {
    "python": {
     "delete_cmd_postfix": "",
     "delete_cmd_prefix": "del ",
     "library": "var_list.py",
     "varRefreshCmd": "print(var_dic_list())"
    },
    "r": {
     "delete_cmd_postfix": ") ",
     "delete_cmd_prefix": "rm(",
     "library": "var_list.r",
     "varRefreshCmd": "cat(var_dic_list()) "
    }
   },
   "types_to_exclude": [
    "module",
    "function",
    "builtin_function_or_method",
    "instance",
    "_Feature"
   ],
   "window_display": false
  }
 },
 "nbformat": 4,
 "nbformat_minor": 2
}
